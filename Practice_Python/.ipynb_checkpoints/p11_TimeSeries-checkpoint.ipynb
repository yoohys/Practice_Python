{
 "cells": [
  {
   "cell_type": "markdown",
   "metadata": {},
   "source": [
    "# P11. 시계열"
   ]
  },
  {
   "cell_type": "markdown",
   "metadata": {},
   "source": [
    "## 1. 날짜 & 시간"
   ]
  },
  {
   "cell_type": "markdown",
   "metadata": {},
   "source": [
    "### (1) datetime 425"
   ]
  },
  {
   "cell_type": "code",
   "execution_count": 6,
   "metadata": {},
   "outputs": [
    {
     "data": {
      "text/plain": [
       "datetime.datetime(2019, 11, 27, 15, 29, 15, 784335)"
      ]
     },
     "execution_count": 6,
     "metadata": {},
     "output_type": "execute_result"
    }
   ],
   "source": [
    "#now() : 현재 시간 날짜 \n",
    "from datetime import datetime\n",
    "\n",
    "dt=datetime.now()\n",
    "dt"
   ]
  },
  {
   "cell_type": "code",
   "execution_count": 10,
   "metadata": {},
   "outputs": [
    {
     "data": {
      "text/plain": [
       "(2019, 11, 27, 15, 29, 15, 784335)"
      ]
     },
     "execution_count": 10,
     "metadata": {},
     "output_type": "execute_result"
    }
   ],
   "source": [
    "dt.year,dt.month,dt.day,dt.hour,dt.minute,dt.second,dt.microsecond"
   ]
  },
  {
   "cell_type": "code",
   "execution_count": 14,
   "metadata": {},
   "outputs": [
    {
     "data": {
      "text/plain": [
       "2"
      ]
     },
     "execution_count": 14,
     "metadata": {},
     "output_type": "execute_result"
    }
   ],
   "source": [
    "dt.weekday()"
   ]
  },
  {
   "cell_type": "code",
   "execution_count": 18,
   "metadata": {},
   "outputs": [
    {
     "data": {
      "text/plain": [
       "'Wednesday 27. November 2019'"
      ]
     },
     "execution_count": 18,
     "metadata": {},
     "output_type": "execute_result"
    }
   ],
   "source": [
    "#strftime():  날짜시간 => 문자열 \n",
    "dt.strftime(\"%A %d. %B %Y\")"
   ]
  },
  {
   "cell_type": "code",
   "execution_count": 25,
   "metadata": {},
   "outputs": [
    {
     "data": {
      "text/plain": [
       "datetime.datetime(2019, 11, 18, 16, 44)"
      ]
     },
     "execution_count": 25,
     "metadata": {},
     "output_type": "execute_result"
    }
   ],
   "source": [
    "#strptime(): 문자열 => 날짜시간\n",
    "datetime.strptime(\"2019-11-18 16:44\",\"%Y-%m-%d %H:%M\")"
   ]
  },
  {
   "cell_type": "markdown",
   "metadata": {},
   "source": [
    "### (2) dateutil"
   ]
  },
  {
   "cell_type": "markdown",
   "metadata": {},
   "source": [
    "### datetime.strptime()의 문제점인 형식 지정-> parse을 사용하면 자동으로 문자열 찾아서 datetime 객체를 만들어준다"
   ]
  },
  {
   "cell_type": "code",
   "execution_count": 29,
   "metadata": {},
   "outputs": [
    {
     "data": {
      "text/plain": [
       "datetime.datetime(2019, 11, 28, 0, 0)"
      ]
     },
     "execution_count": 29,
     "metadata": {},
     "output_type": "execute_result"
    }
   ],
   "source": [
    "from dateutil.parser import parse\n",
    "\n",
    "parse(\"2019-11-28\")"
   ]
  },
  {
   "cell_type": "code",
   "execution_count": 31,
   "metadata": {},
   "outputs": [
    {
     "data": {
      "text/plain": [
       "datetime.datetime(2018, 4, 16, 16, 5, 32)"
      ]
     },
     "execution_count": 31,
     "metadata": {},
     "output_type": "execute_result"
    }
   ],
   "source": [
    "parse(\"Apr 16, 2018 04:05:32 PM\")"
   ]
  },
  {
   "cell_type": "code",
   "execution_count": 33,
   "metadata": {},
   "outputs": [
    {
     "data": {
      "text/plain": [
       "datetime.datetime(2018, 6, 7, 0, 0)"
      ]
     },
     "execution_count": 33,
     "metadata": {},
     "output_type": "execute_result"
    }
   ],
   "source": [
    "#월, 일 모두 12보다 작은 숫자일때 숫자를 월로본다\n",
    "parse(\"6/7/2018\")"
   ]
  },
  {
   "cell_type": "markdown",
   "metadata": {},
   "source": [
    "### (3) timedelta(day(일수),seconds,microseconds)\n",
    "### 2개의 datetime.datetime 클래스 객체의 차이를 구하고, 결과를 datetime.timedelta반환"
   ]
  },
  {
   "cell_type": "code",
   "execution_count": 35,
   "metadata": {},
   "outputs": [
    {
     "data": {
      "text/plain": [
       "datetime.timedelta(330, 3600)"
      ]
     },
     "execution_count": 35,
     "metadata": {},
     "output_type": "execute_result"
    }
   ],
   "source": [
    "dt1=datetime(2019,11,27,14)\n",
    "dt2=datetime(2019,1,1,13)\n",
    "td=dt1-dt2\n",
    "td"
   ]
  },
  {
   "cell_type": "code",
   "execution_count": 37,
   "metadata": {},
   "outputs": [
    {
     "data": {
      "text/plain": [
       "(330, 3600, 0)"
      ]
     },
     "execution_count": 37,
     "metadata": {},
     "output_type": "execute_result"
    }
   ],
   "source": [
    "td.days, td.seconds, td.microseconds"
   ]
  },
  {
   "cell_type": "code",
   "execution_count": 40,
   "metadata": {},
   "outputs": [
    {
     "data": {
      "text/plain": [
       "28515600.0"
      ]
     },
     "execution_count": 40,
     "metadata": {},
     "output_type": "execute_result"
    }
   ],
   "source": [
    "td.total_seconds()"
   ]
  },
  {
   "cell_type": "code",
   "execution_count": 45,
   "metadata": {},
   "outputs": [
    {
     "data": {
      "text/plain": [
       "datetime.datetime(2020, 1, 30, 1, 0)"
      ]
     },
     "execution_count": 45,
     "metadata": {},
     "output_type": "execute_result"
    }
   ],
   "source": [
    "from datetime import timedelta\n",
    "\n",
    "t0=datetime(2019,11,1)\n",
    "d=timedelta(days=90,seconds=3600)\n",
    "t0+d"
   ]
  },
  {
   "cell_type": "code",
   "execution_count": null,
   "metadata": {},
   "outputs": [],
   "source": []
  },
  {
   "cell_type": "markdown",
   "metadata": {},
   "source": [
    "## 2. 시계열 기초"
   ]
  },
  {
   "cell_type": "code",
   "execution_count": 46,
   "metadata": {},
   "outputs": [],
   "source": [
    "# Timestamp, Period를 이용해서 시계열 데이터 다루기\n",
    "# TimeStamp : 특정 시간\n",
    "# Period : 시간의 길이, 간격"
   ]
  },
  {
   "cell_type": "code",
   "execution_count": 53,
   "metadata": {},
   "outputs": [
    {
     "data": {
      "text/plain": [
       "2019-11-02   -0.114665\n",
       "2019-11-05    2.955647\n",
       "2019-11-07    0.312539\n",
       "2019-11-08   -0.791643\n",
       "2019-11-10   -0.947537\n",
       "2019-11-12   -1.975634\n",
       "dtype: float64"
      ]
     },
     "execution_count": 53,
     "metadata": {},
     "output_type": "execute_result"
    }
   ],
   "source": [
    "import pandas as pd\n",
    "import numpy as np\n",
    "\n",
    "dates=[datetime(2019,11,2),datetime(2019,11,5),datetime(2019,11,7),\n",
    "      datetime(2019,11,8),datetime(2019,11,10),datetime(2019,11,12)]\n",
    "ts=pd.Series(np.random.randn(6),index=dates)\n",
    "ts"
   ]
  },
  {
   "cell_type": "code",
   "execution_count": 55,
   "metadata": {},
   "outputs": [
    {
     "data": {
      "text/plain": [
       "DatetimeIndex(['2019-11-02', '2019-11-05', '2019-11-07', '2019-11-08',\n",
       "               '2019-11-10', '2019-11-12'],\n",
       "              dtype='datetime64[ns]', freq=None)"
      ]
     },
     "execution_count": 55,
     "metadata": {},
     "output_type": "execute_result"
    }
   ],
   "source": [
    "ts.index"
   ]
  },
  {
   "cell_type": "code",
   "execution_count": 57,
   "metadata": {},
   "outputs": [
    {
     "data": {
      "text/plain": [
       "2019-11-02   -0.229329\n",
       "2019-11-05         NaN\n",
       "2019-11-07    0.625077\n",
       "2019-11-08         NaN\n",
       "2019-11-10   -1.895074\n",
       "2019-11-12         NaN\n",
       "dtype: float64"
      ]
     },
     "execution_count": 57,
     "metadata": {},
     "output_type": "execute_result"
    }
   ],
   "source": [
    "ts+ts[::2]"
   ]
  },
  {
   "cell_type": "code",
   "execution_count": 59,
   "metadata": {},
   "outputs": [
    {
     "data": {
      "text/plain": [
       "dtype('<M8[ns]')"
      ]
     },
     "execution_count": 59,
     "metadata": {},
     "output_type": "execute_result"
    }
   ],
   "source": [
    "ts.index.dtype"
   ]
  },
  {
   "cell_type": "code",
   "execution_count": 61,
   "metadata": {},
   "outputs": [
    {
     "data": {
      "text/plain": [
       "Timestamp('2019-11-02 00:00:00')"
      ]
     },
     "execution_count": 61,
     "metadata": {},
     "output_type": "execute_result"
    }
   ],
   "source": [
    "stamp=ts.index[0]\n",
    "stamp"
   ]
  },
  {
   "cell_type": "code",
   "execution_count": 63,
   "metadata": {},
   "outputs": [
    {
     "data": {
      "text/plain": [
       "0.31253873564988827"
      ]
     },
     "execution_count": 63,
     "metadata": {},
     "output_type": "execute_result"
    }
   ],
   "source": [
    "stamp=ts.index[2]\n",
    "ts[stamp]"
   ]
  },
  {
   "cell_type": "code",
   "execution_count": 1,
   "metadata": {},
   "outputs": [
    {
     "ename": "NameError",
     "evalue": "name 'ts' is not defined",
     "output_type": "error",
     "traceback": [
      "\u001b[1;31m---------------------------------------------------------------------------\u001b[0m",
      "\u001b[1;31mNameError\u001b[0m                                 Traceback (most recent call last)",
      "\u001b[1;32m<ipython-input-1-d1790ae925fd>\u001b[0m in \u001b[0;36m<module>\u001b[1;34m()\u001b[0m\n\u001b[1;32m----> 1\u001b[1;33m \u001b[0mts\u001b[0m\u001b[1;33m[\u001b[0m\u001b[1;34m\"20191102\"\u001b[0m\u001b[1;33m]\u001b[0m\u001b[1;33m\u001b[0m\u001b[0m\n\u001b[0m",
      "\u001b[1;31mNameError\u001b[0m: name 'ts' is not defined"
     ]
    }
   ],
   "source": [
    "ts[\"20191102\"]"
   ]
  },
  {
   "cell_type": "markdown",
   "metadata": {},
   "source": [
    "## 3. 날짜, 범위 , 빈도, 이동"
   ]
  },
  {
   "cell_type": "code",
   "execution_count": 3,
   "metadata": {},
   "outputs": [],
   "source": [
    "import pandas as pd\n",
    "import numpy as np\n",
    "import matplotlib.pyplot as plt\n",
    "%matplotlib inline\n",
    "\n",
    "from datetime import datetime"
   ]
  },
  {
   "cell_type": "markdown",
   "metadata": {},
   "source": [
    "### (1) 날짜 범위 생성하기 : date_range()"
   ]
  },
  {
   "cell_type": "code",
   "execution_count": 5,
   "metadata": {},
   "outputs": [
    {
     "data": {
      "text/plain": [
       "DatetimeIndex(['2019-07-01', '2019-07-02', '2019-07-03', '2019-07-04',\n",
       "               '2019-07-05', '2019-07-06', '2019-07-07', '2019-07-08',\n",
       "               '2019-07-09', '2019-07-10', '2019-07-11', '2019-07-12',\n",
       "               '2019-07-13', '2019-07-14', '2019-07-15', '2019-07-16',\n",
       "               '2019-07-17', '2019-07-18', '2019-07-19', '2019-07-20',\n",
       "               '2019-07-21', '2019-07-22', '2019-07-23', '2019-07-24',\n",
       "               '2019-07-25', '2019-07-26', '2019-07-27', '2019-07-28',\n",
       "               '2019-07-29', '2019-07-30', '2019-07-31', '2019-08-01',\n",
       "               '2019-08-02', '2019-08-03', '2019-08-04', '2019-08-05',\n",
       "               '2019-08-06', '2019-08-07', '2019-08-08', '2019-08-09',\n",
       "               '2019-08-10', '2019-08-11', '2019-08-12', '2019-08-13',\n",
       "               '2019-08-14', '2019-08-15', '2019-08-16', '2019-08-17',\n",
       "               '2019-08-18', '2019-08-19', '2019-08-20', '2019-08-21',\n",
       "               '2019-08-22', '2019-08-23', '2019-08-24', '2019-08-25',\n",
       "               '2019-08-26', '2019-08-27', '2019-08-28', '2019-08-29',\n",
       "               '2019-08-30', '2019-08-31', '2019-09-01'],\n",
       "              dtype='datetime64[ns]', freq='D')"
      ]
     },
     "execution_count": 5,
     "metadata": {},
     "output_type": "execute_result"
    }
   ],
   "source": [
    "index=pd.date_range(\"2019-07-01\",\"2019-09-01\")\n",
    "index"
   ]
  },
  {
   "cell_type": "code",
   "execution_count": 9,
   "metadata": {},
   "outputs": [
    {
     "data": {
      "text/plain": [
       "DatetimeIndex(['2019-07-01', '2019-07-02', '2019-07-03', '2019-07-04',\n",
       "               '2019-07-05', '2019-07-06', '2019-07-07', '2019-07-08',\n",
       "               '2019-07-09', '2019-07-10', '2019-07-11', '2019-07-12',\n",
       "               '2019-07-13', '2019-07-14', '2019-07-15', '2019-07-16',\n",
       "               '2019-07-17', '2019-07-18', '2019-07-19', '2019-07-20'],\n",
       "              dtype='datetime64[ns]', freq='D')"
      ]
     },
     "execution_count": 9,
     "metadata": {},
     "output_type": "execute_result"
    }
   ],
   "source": [
    "pd.date_range(start='2019-07-01',periods=20)"
   ]
  },
  {
   "cell_type": "code",
   "execution_count": 12,
   "metadata": {},
   "outputs": [
    {
     "data": {
      "text/plain": [
       "DatetimeIndex(['2019-07-31', '2019-08-30', '2019-09-30', '2019-10-31',\n",
       "               '2019-11-29'],\n",
       "              dtype='datetime64[ns]', freq='BM')"
      ]
     },
     "execution_count": 12,
     "metadata": {},
     "output_type": "execute_result"
    }
   ],
   "source": [
    "pd.date_range('2019-07-01','2019-12-01',freq=\"BM\") #BM: Business Month End"
   ]
  },
  {
   "cell_type": "markdown",
   "metadata": {},
   "source": [
    "### (2) 빈도와 날짜 offset"
   ]
  },
  {
   "cell_type": "code",
   "execution_count": 15,
   "metadata": {},
   "outputs": [
    {
     "data": {
      "text/plain": [
       "<Hour>"
      ]
     },
     "execution_count": 15,
     "metadata": {},
     "output_type": "execute_result"
    }
   ],
   "source": [
    "from pandas.tseries.offsets import Hour,Minute\n",
    "hour=Hour()\n",
    "hour"
   ]
  },
  {
   "cell_type": "code",
   "execution_count": 17,
   "metadata": {},
   "outputs": [
    {
     "data": {
      "text/plain": [
       "DatetimeIndex(['2019-01-01 00:00:00', '2019-01-01 04:00:00',\n",
       "               '2019-01-01 08:00:00', '2019-01-01 12:00:00',\n",
       "               '2019-01-01 16:00:00', '2019-01-01 20:00:00',\n",
       "               '2019-01-02 00:00:00', '2019-01-02 04:00:00',\n",
       "               '2019-01-02 08:00:00', '2019-01-02 12:00:00',\n",
       "               '2019-01-02 16:00:00', '2019-01-02 20:00:00',\n",
       "               '2019-01-03 00:00:00'],\n",
       "              dtype='datetime64[ns]', freq='4H')"
      ]
     },
     "execution_count": 17,
     "metadata": {},
     "output_type": "execute_result"
    }
   ],
   "source": [
    "pd.date_range('2019-01-01','2019-01-03',freq=\"4H\")"
   ]
  },
  {
   "cell_type": "code",
   "execution_count": 19,
   "metadata": {},
   "outputs": [
    {
     "data": {
      "text/plain": [
       "DatetimeIndex(['2019-01-01 00:00:00', '2019-01-01 01:30:00',\n",
       "               '2019-01-01 03:00:00', '2019-01-01 04:30:00',\n",
       "               '2019-01-01 06:00:00', '2019-01-01 07:30:00',\n",
       "               '2019-01-01 09:00:00', '2019-01-01 10:30:00',\n",
       "               '2019-01-01 12:00:00', '2019-01-01 13:30:00',\n",
       "               '2019-01-01 15:00:00', '2019-01-01 16:30:00',\n",
       "               '2019-01-01 18:00:00', '2019-01-01 19:30:00',\n",
       "               '2019-01-01 21:00:00', '2019-01-01 22:30:00',\n",
       "               '2019-01-02 00:00:00', '2019-01-02 01:30:00',\n",
       "               '2019-01-02 03:00:00', '2019-01-02 04:30:00',\n",
       "               '2019-01-02 06:00:00', '2019-01-02 07:30:00',\n",
       "               '2019-01-02 09:00:00', '2019-01-02 10:30:00',\n",
       "               '2019-01-02 12:00:00', '2019-01-02 13:30:00',\n",
       "               '2019-01-02 15:00:00', '2019-01-02 16:30:00',\n",
       "               '2019-01-02 18:00:00', '2019-01-02 19:30:00',\n",
       "               '2019-01-02 21:00:00', '2019-01-02 22:30:00',\n",
       "               '2019-01-03 00:00:00'],\n",
       "              dtype='datetime64[ns]', freq='90T')"
      ]
     },
     "execution_count": 19,
     "metadata": {},
     "output_type": "execute_result"
    }
   ],
   "source": [
    "pd.date_range('2019-01-01','2019-01-03',freq=\"1h30min\")"
   ]
  },
  {
   "cell_type": "code",
   "execution_count": 21,
   "metadata": {},
   "outputs": [
    {
     "data": {
      "text/plain": [
       "DatetimeIndex(['2019-01-18', '2019-02-15', '2019-03-15', '2019-04-19',\n",
       "               '2019-05-17', '2019-06-21', '2019-07-19', '2019-08-16'],\n",
       "              dtype='datetime64[ns]', freq='WOM-3FRI')"
      ]
     },
     "execution_count": 21,
     "metadata": {},
     "output_type": "execute_result"
    }
   ],
   "source": [
    "pd.date_range('2019-01-01','2019-09-01',freq=\"WOM-3FRI\")"
   ]
  },
  {
   "cell_type": "markdown",
   "metadata": {},
   "source": [
    "### (3) data shift"
   ]
  },
  {
   "cell_type": "code",
   "execution_count": 24,
   "metadata": {},
   "outputs": [
    {
     "data": {
      "text/plain": [
       "2019-01-31    0.377797\n",
       "2019-02-28    0.440622\n",
       "2019-03-31   -1.202123\n",
       "2019-04-30    1.455475\n",
       "Freq: M, dtype: float64"
      ]
     },
     "execution_count": 24,
     "metadata": {},
     "output_type": "execute_result"
    }
   ],
   "source": [
    "ts=pd.Series(np.random.randn(4),\n",
    "            index=pd.date_range('1/1/2019',periods=4,freq='M'))\n",
    "ts"
   ]
  },
  {
   "cell_type": "code",
   "execution_count": 26,
   "metadata": {},
   "outputs": [
    {
     "data": {
      "text/plain": [
       "2019-01-31         NaN\n",
       "2019-02-28         NaN\n",
       "2019-03-31    0.377797\n",
       "2019-04-30    0.440622\n",
       "Freq: M, dtype: float64"
      ]
     },
     "execution_count": 26,
     "metadata": {},
     "output_type": "execute_result"
    }
   ],
   "source": [
    "ts.shift(2)"
   ]
  },
  {
   "cell_type": "code",
   "execution_count": 28,
   "metadata": {},
   "outputs": [
    {
     "data": {
      "text/plain": [
       "2019-01-31   NaN\n",
       "2019-02-28   NaN\n",
       "2019-03-31   NaN\n",
       "2019-04-30   NaN\n",
       "Freq: M, dtype: float64"
      ]
     },
     "execution_count": 28,
     "metadata": {},
     "output_type": "execute_result"
    }
   ],
   "source": [
    "ts.shift(-4)"
   ]
  },
  {
   "cell_type": "code",
   "execution_count": 30,
   "metadata": {},
   "outputs": [
    {
     "data": {
      "text/plain": [
       "2019-03-31    0.377797\n",
       "2019-04-30    0.440622\n",
       "2019-05-31   -1.202123\n",
       "2019-06-30    1.455475\n",
       "Freq: M, dtype: float64"
      ]
     },
     "execution_count": 30,
     "metadata": {},
     "output_type": "execute_result"
    }
   ],
   "source": [
    "ts.shift(2,freq='M')"
   ]
  },
  {
   "cell_type": "code",
   "execution_count": 32,
   "metadata": {},
   "outputs": [
    {
     "data": {
      "text/plain": [
       "Timestamp('2019-12-01 00:00:00')"
      ]
     },
     "execution_count": 32,
     "metadata": {},
     "output_type": "execute_result"
    }
   ],
   "source": [
    "# offset만큼 날짜 shift\n",
    "from pandas.tseries.offsets import Day,MonthEnd\n",
    "now=datetime(2019,11,28)\n",
    "now+3*Day()"
   ]
  },
  {
   "cell_type": "code",
   "execution_count": 34,
   "metadata": {},
   "outputs": [
    {
     "data": {
      "text/plain": [
       "Timestamp('2019-12-31 00:00:00')"
      ]
     },
     "execution_count": 34,
     "metadata": {},
     "output_type": "execute_result"
    }
   ],
   "source": [
    "now+MonthEnd(2)"
   ]
  },
  {
   "cell_type": "code",
   "execution_count": 36,
   "metadata": {},
   "outputs": [
    {
     "data": {
      "text/plain": [
       "Timestamp('2019-11-30 00:00:00')"
      ]
     },
     "execution_count": 36,
     "metadata": {},
     "output_type": "execute_result"
    }
   ],
   "source": [
    "offset=MonthEnd()\n",
    "offset.rollforward(now)"
   ]
  },
  {
   "cell_type": "code",
   "execution_count": 38,
   "metadata": {},
   "outputs": [
    {
     "data": {
      "text/plain": [
       "Timestamp('2019-10-31 00:00:00')"
      ]
     },
     "execution_count": 38,
     "metadata": {},
     "output_type": "execute_result"
    }
   ],
   "source": [
    "offset.rollback(now)"
   ]
  },
  {
   "cell_type": "markdown",
   "metadata": {},
   "source": [
    "### (4) 시간대 다루기"
   ]
  },
  {
   "cell_type": "markdown",
   "metadata": {},
   "source": [
    "### (5) 기간과 기간연산"
   ]
  },
  {
   "cell_type": "code",
   "execution_count": 48,
   "metadata": {},
   "outputs": [
    {
     "data": {
      "text/plain": [
       "Period('2019', 'A-DEC')"
      ]
     },
     "execution_count": 48,
     "metadata": {},
     "output_type": "execute_result"
    }
   ],
   "source": [
    "#Peroid(): 기간\n",
    "p=pd.Period(2019,freq=\"A-DEC\")\n",
    "p"
   ]
  },
  {
   "cell_type": "code",
   "execution_count": 49,
   "metadata": {},
   "outputs": [
    {
     "data": {
      "text/plain": [
       "Period('2024', 'A-DEC')"
      ]
     },
     "execution_count": 49,
     "metadata": {},
     "output_type": "execute_result"
    }
   ],
   "source": [
    "\n",
    "p+5"
   ]
  },
  {
   "cell_type": "code",
   "execution_count": 51,
   "metadata": {},
   "outputs": [
    {
     "data": {
      "text/plain": [
       "Period('2019', 'A-DEC')"
      ]
     },
     "execution_count": 51,
     "metadata": {},
     "output_type": "execute_result"
    }
   ],
   "source": [
    "pd.Period(\"2019\",freq=\"A-DEC\")"
   ]
  },
  {
   "cell_type": "code",
   "execution_count": 53,
   "metadata": {},
   "outputs": [
    {
     "data": {
      "text/plain": [
       "PeriodIndex(['2019-01', '2019-02', '2019-03', '2019-04', '2019-05', '2019-06',\n",
       "             '2019-07'],\n",
       "            dtype='period[M]', freq='M')"
      ]
     },
     "execution_count": 53,
     "metadata": {},
     "output_type": "execute_result"
    }
   ],
   "source": [
    "mg=pd.period_range('2019-01-01','2019-07-31',freq='M')\n",
    "mg"
   ]
  },
  {
   "cell_type": "code",
   "execution_count": 57,
   "metadata": {},
   "outputs": [
    {
     "data": {
      "text/plain": [
       "2019-01   -0.369848\n",
       "2019-02   -0.671009\n",
       "2019-03    0.654394\n",
       "2019-04   -0.203119\n",
       "2019-05    0.837748\n",
       "2019-06   -0.814228\n",
       "2019-07   -2.009175\n",
       "Freq: M, dtype: float64"
      ]
     },
     "execution_count": 57,
     "metadata": {},
     "output_type": "execute_result"
    }
   ],
   "source": [
    "pd.Series(np.random.randn(7),index=mg)"
   ]
  },
  {
   "cell_type": "code",
   "execution_count": 62,
   "metadata": {},
   "outputs": [
    {
     "data": {
      "text/plain": [
       "PeriodIndex(['2017Q3', '2018Q2', '2019Q1'], dtype='period[Q-DEC]', freq='Q-DEC')"
      ]
     },
     "execution_count": 62,
     "metadata": {},
     "output_type": "execute_result"
    }
   ],
   "source": [
    "#PeriodIndex\n",
    "values=['2017Q3','2018Q2','2019Q1']\n",
    "index=pd.PeriodIndex(values,freq='Q-DEC')\n",
    "index"
   ]
  },
  {
   "cell_type": "code",
   "execution_count": 64,
   "metadata": {},
   "outputs": [
    {
     "data": {
      "text/plain": [
       "Period('2019', 'A-DEC')"
      ]
     },
     "execution_count": 64,
     "metadata": {},
     "output_type": "execute_result"
    }
   ],
   "source": [
    "#Period의 빈도 변환: asfreq를 통한 빈도 변환\n",
    "p=pd.Period('2019',freq=\"A-DEC\")\n",
    "p"
   ]
  },
  {
   "cell_type": "code",
   "execution_count": 66,
   "metadata": {},
   "outputs": [
    {
     "data": {
      "text/plain": [
       "Period('2019-01', 'M')"
      ]
     },
     "execution_count": 66,
     "metadata": {},
     "output_type": "execute_result"
    }
   ],
   "source": [
    "p.asfreq('M',how='start')"
   ]
  },
  {
   "cell_type": "code",
   "execution_count": 68,
   "metadata": {},
   "outputs": [
    {
     "data": {
      "text/plain": [
       "Period('2019-12', 'M')"
      ]
     },
     "execution_count": 68,
     "metadata": {},
     "output_type": "execute_result"
    }
   ],
   "source": [
    "p.asfreq('M',how='end')"
   ]
  },
  {
   "cell_type": "code",
   "execution_count": 70,
   "metadata": {},
   "outputs": [],
   "source": [
    "p=pd.Period('2019',freq='A-JUN')"
   ]
  },
  {
   "cell_type": "code",
   "execution_count": 72,
   "metadata": {},
   "outputs": [
    {
     "data": {
      "text/plain": [
       "Period('2018-07', 'M')"
      ]
     },
     "execution_count": 72,
     "metadata": {},
     "output_type": "execute_result"
    }
   ],
   "source": [
    "p.asfreq('M','start')"
   ]
  },
  {
   "cell_type": "code",
   "execution_count": 74,
   "metadata": {},
   "outputs": [
    {
     "data": {
      "text/plain": [
       "Period('2019-06', 'M')"
      ]
     },
     "execution_count": 74,
     "metadata": {},
     "output_type": "execute_result"
    }
   ],
   "source": [
    "p.asfreq('M','end')"
   ]
  },
  {
   "cell_type": "code",
   "execution_count": 76,
   "metadata": {},
   "outputs": [
    {
     "data": {
      "text/plain": [
       "Period('2012Q4', 'Q-JAN')"
      ]
     },
     "execution_count": 76,
     "metadata": {},
     "output_type": "execute_result"
    }
   ],
   "source": [
    "#분기 빈도\n",
    "p=pd.Period('2012Q4',freq='Q-JAN')\n",
    "p"
   ]
  },
  {
   "cell_type": "code",
   "execution_count": 78,
   "metadata": {},
   "outputs": [
    {
     "data": {
      "text/plain": [
       "Period('2011-11-01', 'D')"
      ]
     },
     "execution_count": 78,
     "metadata": {},
     "output_type": "execute_result"
    }
   ],
   "source": [
    "p.asfreq('D','start')"
   ]
  },
  {
   "cell_type": "markdown",
   "metadata": {},
   "source": [
    "### TimeStamp & Period 서로 변환"
   ]
  },
  {
   "cell_type": "code",
   "execution_count": 82,
   "metadata": {},
   "outputs": [
    {
     "data": {
      "text/plain": [
       "2019-01-31    0.145904\n",
       "2019-02-28    0.233768\n",
       "2019-03-31    0.384445\n",
       "Freq: M, dtype: float64"
      ]
     },
     "execution_count": 82,
     "metadata": {},
     "output_type": "execute_result"
    }
   ],
   "source": [
    "mg=pd.date_range('2019-01-01',periods=3,freq='M')\n",
    "ts=pd.Series(np.random.randn(3),index=mg)\n",
    "ts"
   ]
  },
  {
   "cell_type": "code",
   "execution_count": 84,
   "metadata": {},
   "outputs": [
    {
     "data": {
      "text/plain": [
       "2019-01-29    0.422759\n",
       "2019-01-30   -0.470866\n",
       "2019-01-31   -1.199599\n",
       "2019-02-01    0.250965\n",
       "2019-02-02   -1.419355\n",
       "2019-02-03    0.095161\n",
       "Freq: D, dtype: float64"
      ]
     },
     "execution_count": 84,
     "metadata": {},
     "output_type": "execute_result"
    }
   ],
   "source": [
    "mg=pd.date_range(\"1/29/2019\",periods=6,freq='D')\n",
    "ts2=pd.Series(np.random.randn(6), index=mg)\n",
    "ts2"
   ]
  },
  {
   "cell_type": "code",
   "execution_count": 87,
   "metadata": {},
   "outputs": [
    {
     "data": {
      "text/plain": [
       "2019-01-29    0.422759\n",
       "2019-01-30   -0.470866\n",
       "2019-01-31   -1.199599\n",
       "2019-02-01    0.250965\n",
       "2019-02-02   -1.419355\n",
       "2019-02-03    0.095161\n",
       "Freq: D, dtype: float64"
      ]
     },
     "execution_count": 87,
     "metadata": {},
     "output_type": "execute_result"
    }
   ],
   "source": [
    "#기간을 timestamp로 변환하기\n",
    "pts=ts2.to_period()\n",
    "pts"
   ]
  },
  {
   "cell_type": "code",
   "execution_count": 89,
   "metadata": {},
   "outputs": [
    {
     "data": {
      "text/plain": [
       "2019-01-29    0.422759\n",
       "2019-01-30   -0.470866\n",
       "2019-01-31   -1.199599\n",
       "2019-02-01    0.250965\n",
       "2019-02-02   -1.419355\n",
       "2019-02-03    0.095161\n",
       "Freq: D, dtype: float64"
      ]
     },
     "execution_count": 89,
     "metadata": {},
     "output_type": "execute_result"
    }
   ],
   "source": [
    "pts.to_timestamp(how='end')"
   ]
  },
  {
   "cell_type": "markdown",
   "metadata": {},
   "source": [
    "### (4) 배열로 PeroidIndex 생성하기"
   ]
  },
  {
   "cell_type": "code",
   "execution_count": 91,
   "metadata": {},
   "outputs": [
    {
     "data": {
      "text/html": [
       "<div>\n",
       "<style scoped>\n",
       "    .dataframe tbody tr th:only-of-type {\n",
       "        vertical-align: middle;\n",
       "    }\n",
       "\n",
       "    .dataframe tbody tr th {\n",
       "        vertical-align: top;\n",
       "    }\n",
       "\n",
       "    .dataframe thead th {\n",
       "        text-align: right;\n",
       "    }\n",
       "</style>\n",
       "<table border=\"1\" class=\"dataframe\">\n",
       "  <thead>\n",
       "    <tr style=\"text-align: right;\">\n",
       "      <th></th>\n",
       "      <th>year</th>\n",
       "      <th>quarter</th>\n",
       "      <th>realgdp</th>\n",
       "      <th>realcons</th>\n",
       "      <th>realinv</th>\n",
       "      <th>realgovt</th>\n",
       "      <th>realdpi</th>\n",
       "      <th>cpi</th>\n",
       "      <th>m1</th>\n",
       "      <th>tbilrate</th>\n",
       "      <th>unemp</th>\n",
       "      <th>pop</th>\n",
       "      <th>infl</th>\n",
       "      <th>realint</th>\n",
       "    </tr>\n",
       "  </thead>\n",
       "  <tbody>\n",
       "    <tr>\n",
       "      <th>0</th>\n",
       "      <td>1959.0</td>\n",
       "      <td>1.0</td>\n",
       "      <td>2710.349</td>\n",
       "      <td>1707.4</td>\n",
       "      <td>286.898</td>\n",
       "      <td>470.045</td>\n",
       "      <td>1886.9</td>\n",
       "      <td>28.98</td>\n",
       "      <td>139.7</td>\n",
       "      <td>2.82</td>\n",
       "      <td>5.8</td>\n",
       "      <td>177.146</td>\n",
       "      <td>0.00</td>\n",
       "      <td>0.00</td>\n",
       "    </tr>\n",
       "    <tr>\n",
       "      <th>1</th>\n",
       "      <td>1959.0</td>\n",
       "      <td>2.0</td>\n",
       "      <td>2778.801</td>\n",
       "      <td>1733.7</td>\n",
       "      <td>310.859</td>\n",
       "      <td>481.301</td>\n",
       "      <td>1919.7</td>\n",
       "      <td>29.15</td>\n",
       "      <td>141.7</td>\n",
       "      <td>3.08</td>\n",
       "      <td>5.1</td>\n",
       "      <td>177.830</td>\n",
       "      <td>2.34</td>\n",
       "      <td>0.74</td>\n",
       "    </tr>\n",
       "    <tr>\n",
       "      <th>2</th>\n",
       "      <td>1959.0</td>\n",
       "      <td>3.0</td>\n",
       "      <td>2775.488</td>\n",
       "      <td>1751.8</td>\n",
       "      <td>289.226</td>\n",
       "      <td>491.260</td>\n",
       "      <td>1916.4</td>\n",
       "      <td>29.35</td>\n",
       "      <td>140.5</td>\n",
       "      <td>3.82</td>\n",
       "      <td>5.3</td>\n",
       "      <td>178.657</td>\n",
       "      <td>2.74</td>\n",
       "      <td>1.09</td>\n",
       "    </tr>\n",
       "    <tr>\n",
       "      <th>3</th>\n",
       "      <td>1959.0</td>\n",
       "      <td>4.0</td>\n",
       "      <td>2785.204</td>\n",
       "      <td>1753.7</td>\n",
       "      <td>299.356</td>\n",
       "      <td>484.052</td>\n",
       "      <td>1931.3</td>\n",
       "      <td>29.37</td>\n",
       "      <td>140.0</td>\n",
       "      <td>4.33</td>\n",
       "      <td>5.6</td>\n",
       "      <td>179.386</td>\n",
       "      <td>0.27</td>\n",
       "      <td>4.06</td>\n",
       "    </tr>\n",
       "    <tr>\n",
       "      <th>4</th>\n",
       "      <td>1960.0</td>\n",
       "      <td>1.0</td>\n",
       "      <td>2847.699</td>\n",
       "      <td>1770.5</td>\n",
       "      <td>331.722</td>\n",
       "      <td>462.199</td>\n",
       "      <td>1955.5</td>\n",
       "      <td>29.54</td>\n",
       "      <td>139.6</td>\n",
       "      <td>3.50</td>\n",
       "      <td>5.2</td>\n",
       "      <td>180.007</td>\n",
       "      <td>2.31</td>\n",
       "      <td>1.19</td>\n",
       "    </tr>\n",
       "  </tbody>\n",
       "</table>\n",
       "</div>"
      ],
      "text/plain": [
       "     year  quarter   realgdp  realcons  realinv  realgovt  realdpi    cpi  \\\n",
       "0  1959.0      1.0  2710.349    1707.4  286.898   470.045   1886.9  28.98   \n",
       "1  1959.0      2.0  2778.801    1733.7  310.859   481.301   1919.7  29.15   \n",
       "2  1959.0      3.0  2775.488    1751.8  289.226   491.260   1916.4  29.35   \n",
       "3  1959.0      4.0  2785.204    1753.7  299.356   484.052   1931.3  29.37   \n",
       "4  1960.0      1.0  2847.699    1770.5  331.722   462.199   1955.5  29.54   \n",
       "\n",
       "      m1  tbilrate  unemp      pop  infl  realint  \n",
       "0  139.7      2.82    5.8  177.146  0.00     0.00  \n",
       "1  141.7      3.08    5.1  177.830  2.34     0.74  \n",
       "2  140.5      3.82    5.3  178.657  2.74     1.09  \n",
       "3  140.0      4.33    5.6  179.386  0.27     4.06  \n",
       "4  139.6      3.50    5.2  180.007  2.31     1.19  "
      ]
     },
     "execution_count": 91,
     "metadata": {},
     "output_type": "execute_result"
    }
   ],
   "source": [
    "data = pd.read_csv('examples/macrodata.csv')\n",
    "data.head(5)"
   ]
  },
  {
   "cell_type": "code",
   "execution_count": 93,
   "metadata": {},
   "outputs": [
    {
     "data": {
      "text/plain": [
       "0      1959.0\n",
       "1      1959.0\n",
       "2      1959.0\n",
       "3      1959.0\n",
       "4      1960.0\n",
       "5      1960.0\n",
       "6      1960.0\n",
       "7      1960.0\n",
       "8      1961.0\n",
       "9      1961.0\n",
       "10     1961.0\n",
       "11     1961.0\n",
       "12     1962.0\n",
       "13     1962.0\n",
       "14     1962.0\n",
       "15     1962.0\n",
       "16     1963.0\n",
       "17     1963.0\n",
       "18     1963.0\n",
       "19     1963.0\n",
       "20     1964.0\n",
       "21     1964.0\n",
       "22     1964.0\n",
       "23     1964.0\n",
       "24     1965.0\n",
       "25     1965.0\n",
       "26     1965.0\n",
       "27     1965.0\n",
       "28     1966.0\n",
       "29     1966.0\n",
       "        ...  \n",
       "173    2002.0\n",
       "174    2002.0\n",
       "175    2002.0\n",
       "176    2003.0\n",
       "177    2003.0\n",
       "178    2003.0\n",
       "179    2003.0\n",
       "180    2004.0\n",
       "181    2004.0\n",
       "182    2004.0\n",
       "183    2004.0\n",
       "184    2005.0\n",
       "185    2005.0\n",
       "186    2005.0\n",
       "187    2005.0\n",
       "188    2006.0\n",
       "189    2006.0\n",
       "190    2006.0\n",
       "191    2006.0\n",
       "192    2007.0\n",
       "193    2007.0\n",
       "194    2007.0\n",
       "195    2007.0\n",
       "196    2008.0\n",
       "197    2008.0\n",
       "198    2008.0\n",
       "199    2008.0\n",
       "200    2009.0\n",
       "201    2009.0\n",
       "202    2009.0\n",
       "Name: year, Length: 203, dtype: float64"
      ]
     },
     "execution_count": 93,
     "metadata": {},
     "output_type": "execute_result"
    }
   ],
   "source": [
    "data.year"
   ]
  },
  {
   "cell_type": "code",
   "execution_count": 95,
   "metadata": {},
   "outputs": [
    {
     "data": {
      "text/plain": [
       "0      1.0\n",
       "1      2.0\n",
       "2      3.0\n",
       "3      4.0\n",
       "4      1.0\n",
       "5      2.0\n",
       "6      3.0\n",
       "7      4.0\n",
       "8      1.0\n",
       "9      2.0\n",
       "10     3.0\n",
       "11     4.0\n",
       "12     1.0\n",
       "13     2.0\n",
       "14     3.0\n",
       "15     4.0\n",
       "16     1.0\n",
       "17     2.0\n",
       "18     3.0\n",
       "19     4.0\n",
       "20     1.0\n",
       "21     2.0\n",
       "22     3.0\n",
       "23     4.0\n",
       "24     1.0\n",
       "25     2.0\n",
       "26     3.0\n",
       "27     4.0\n",
       "28     1.0\n",
       "29     2.0\n",
       "      ... \n",
       "173    2.0\n",
       "174    3.0\n",
       "175    4.0\n",
       "176    1.0\n",
       "177    2.0\n",
       "178    3.0\n",
       "179    4.0\n",
       "180    1.0\n",
       "181    2.0\n",
       "182    3.0\n",
       "183    4.0\n",
       "184    1.0\n",
       "185    2.0\n",
       "186    3.0\n",
       "187    4.0\n",
       "188    1.0\n",
       "189    2.0\n",
       "190    3.0\n",
       "191    4.0\n",
       "192    1.0\n",
       "193    2.0\n",
       "194    3.0\n",
       "195    4.0\n",
       "196    1.0\n",
       "197    2.0\n",
       "198    3.0\n",
       "199    4.0\n",
       "200    1.0\n",
       "201    2.0\n",
       "202    3.0\n",
       "Name: quarter, Length: 203, dtype: float64"
      ]
     },
     "execution_count": 95,
     "metadata": {},
     "output_type": "execute_result"
    }
   ],
   "source": [
    "data.quarter"
   ]
  },
  {
   "cell_type": "code",
   "execution_count": 97,
   "metadata": {},
   "outputs": [
    {
     "data": {
      "text/plain": [
       "PeriodIndex(['1959Q1', '1959Q2', '1959Q3', '1959Q4', '1960Q1', '1960Q2',\n",
       "             '1960Q3', '1960Q4', '1961Q1', '1961Q2',\n",
       "             ...\n",
       "             '2007Q2', '2007Q3', '2007Q4', '2008Q1', '2008Q2', '2008Q3',\n",
       "             '2008Q4', '2009Q1', '2009Q2', '2009Q3'],\n",
       "            dtype='period[Q-DEC]', length=203, freq='Q-DEC')"
      ]
     },
     "execution_count": 97,
     "metadata": {},
     "output_type": "execute_result"
    }
   ],
   "source": [
    "index=pd.PeriodIndex(year=data.year, quarter=data.quarter,freq='Q-DEC')\n",
    "index"
   ]
  },
  {
   "cell_type": "code",
   "execution_count": 99,
   "metadata": {},
   "outputs": [],
   "source": [
    "data.index=index"
   ]
  },
  {
   "cell_type": "code",
   "execution_count": 101,
   "metadata": {},
   "outputs": [
    {
     "data": {
      "text/plain": [
       "1959Q1    0.00\n",
       "1959Q2    2.34\n",
       "1959Q3    2.74\n",
       "1959Q4    0.27\n",
       "1960Q1    2.31\n",
       "1960Q2    0.14\n",
       "1960Q3    2.70\n",
       "1960Q4    1.21\n",
       "1961Q1   -0.40\n",
       "1961Q2    1.47\n",
       "1961Q3    0.80\n",
       "1961Q4    0.80\n",
       "1962Q1    2.26\n",
       "1962Q2    0.13\n",
       "1962Q3    2.11\n",
       "1962Q4    0.79\n",
       "1963Q1    0.53\n",
       "1963Q2    2.75\n",
       "1963Q3    0.78\n",
       "1963Q4    2.46\n",
       "1964Q1    0.13\n",
       "1964Q2    0.90\n",
       "1964Q3    1.29\n",
       "1964Q4    2.05\n",
       "1965Q1    1.28\n",
       "1965Q2    2.54\n",
       "1965Q3    0.89\n",
       "1965Q4    2.90\n",
       "1966Q1    4.99\n",
       "1966Q2    2.10\n",
       "          ... \n",
       "2002Q2    1.56\n",
       "2002Q3    2.66\n",
       "2002Q4    3.08\n",
       "2003Q1    1.31\n",
       "2003Q2    1.09\n",
       "2003Q3    2.60\n",
       "2003Q4    3.02\n",
       "2004Q1    2.35\n",
       "2004Q2    3.61\n",
       "2004Q3    3.58\n",
       "2004Q4    2.09\n",
       "2005Q1    4.15\n",
       "2005Q2    1.85\n",
       "2005Q3    9.14\n",
       "2005Q4    0.40\n",
       "2006Q1    2.60\n",
       "2006Q2    3.97\n",
       "2006Q3   -1.58\n",
       "2006Q4    3.30\n",
       "2007Q1    4.58\n",
       "2007Q2    2.75\n",
       "2007Q3    3.45\n",
       "2007Q4    6.38\n",
       "2008Q1    2.82\n",
       "2008Q2    8.53\n",
       "2008Q3   -3.16\n",
       "2008Q4   -8.79\n",
       "2009Q1    0.94\n",
       "2009Q2    3.37\n",
       "2009Q3    3.56\n",
       "Freq: Q-DEC, Name: infl, Length: 203, dtype: float64"
      ]
     },
     "execution_count": 101,
     "metadata": {},
     "output_type": "execute_result"
    }
   ],
   "source": [
    "data.infl"
   ]
  },
  {
   "cell_type": "markdown",
   "metadata": {},
   "source": [
    "## 6. Resampling 빈도 변환"
   ]
  },
  {
   "cell_type": "markdown",
   "metadata": {},
   "source": [
    "### resampling : 데이터를 주기별로 모아서 처리, 시계열의 빈도를 변환하는 과정\n",
    "### downsampling : 상우 => 하위빈도 집계"
   ]
  },
  {
   "cell_type": "code",
   "execution_count": 104,
   "metadata": {},
   "outputs": [
    {
     "data": {
      "text/html": [
       "<div>\n",
       "<style scoped>\n",
       "    .dataframe tbody tr th:only-of-type {\n",
       "        vertical-align: middle;\n",
       "    }\n",
       "\n",
       "    .dataframe tbody tr th {\n",
       "        vertical-align: top;\n",
       "    }\n",
       "\n",
       "    .dataframe thead th {\n",
       "        text-align: right;\n",
       "    }\n",
       "</style>\n",
       "<table border=\"1\" class=\"dataframe\">\n",
       "  <thead>\n",
       "    <tr style=\"text-align: right;\">\n",
       "      <th></th>\n",
       "      <th>Date</th>\n",
       "      <th>Open</th>\n",
       "      <th>High</th>\n",
       "      <th>Low</th>\n",
       "      <th>Close</th>\n",
       "      <th>Volume</th>\n",
       "      <th>Adj Close</th>\n",
       "    </tr>\n",
       "  </thead>\n",
       "  <tbody>\n",
       "    <tr>\n",
       "      <th>0</th>\n",
       "      <td>2012-01-03</td>\n",
       "      <td>59.970001</td>\n",
       "      <td>61.060001</td>\n",
       "      <td>59.869999</td>\n",
       "      <td>60.330002</td>\n",
       "      <td>12668800</td>\n",
       "      <td>52.619235</td>\n",
       "    </tr>\n",
       "    <tr>\n",
       "      <th>1</th>\n",
       "      <td>2012-01-04</td>\n",
       "      <td>60.209999</td>\n",
       "      <td>60.349998</td>\n",
       "      <td>59.470001</td>\n",
       "      <td>59.709999</td>\n",
       "      <td>9593300</td>\n",
       "      <td>52.078475</td>\n",
       "    </tr>\n",
       "    <tr>\n",
       "      <th>2</th>\n",
       "      <td>2012-01-05</td>\n",
       "      <td>59.349998</td>\n",
       "      <td>59.619999</td>\n",
       "      <td>58.369999</td>\n",
       "      <td>59.419998</td>\n",
       "      <td>12768200</td>\n",
       "      <td>51.825539</td>\n",
       "    </tr>\n",
       "    <tr>\n",
       "      <th>3</th>\n",
       "      <td>2012-01-06</td>\n",
       "      <td>59.419998</td>\n",
       "      <td>59.450001</td>\n",
       "      <td>58.869999</td>\n",
       "      <td>59.000000</td>\n",
       "      <td>8069400</td>\n",
       "      <td>51.459220</td>\n",
       "    </tr>\n",
       "    <tr>\n",
       "      <th>4</th>\n",
       "      <td>2012-01-09</td>\n",
       "      <td>59.029999</td>\n",
       "      <td>59.549999</td>\n",
       "      <td>58.919998</td>\n",
       "      <td>59.180000</td>\n",
       "      <td>6679300</td>\n",
       "      <td>51.616215</td>\n",
       "    </tr>\n",
       "  </tbody>\n",
       "</table>\n",
       "</div>"
      ],
      "text/plain": [
       "         Date       Open       High        Low      Close    Volume  Adj Close\n",
       "0  2012-01-03  59.970001  61.060001  59.869999  60.330002  12668800  52.619235\n",
       "1  2012-01-04  60.209999  60.349998  59.470001  59.709999   9593300  52.078475\n",
       "2  2012-01-05  59.349998  59.619999  58.369999  59.419998  12768200  51.825539\n",
       "3  2012-01-06  59.419998  59.450001  58.869999  59.000000   8069400  51.459220\n",
       "4  2012-01-09  59.029999  59.549999  58.919998  59.180000   6679300  51.616215"
      ]
     },
     "execution_count": 104,
     "metadata": {},
     "output_type": "execute_result"
    }
   ],
   "source": [
    "df=pd.read_csv('datasets/walmart_stock.csv')\n",
    "df.head()"
   ]
  },
  {
   "cell_type": "code",
   "execution_count": 106,
   "metadata": {},
   "outputs": [
    {
     "name": "stdout",
     "output_type": "stream",
     "text": [
      "<class 'pandas.core.frame.DataFrame'>\n",
      "RangeIndex: 1258 entries, 0 to 1257\n",
      "Data columns (total 7 columns):\n",
      "Date         1258 non-null object\n",
      "Open         1258 non-null float64\n",
      "High         1258 non-null float64\n",
      "Low          1258 non-null float64\n",
      "Close        1258 non-null float64\n",
      "Volume       1258 non-null int64\n",
      "Adj Close    1258 non-null float64\n",
      "dtypes: float64(5), int64(1), object(1)\n",
      "memory usage: 68.9+ KB\n"
     ]
    }
   ],
   "source": [
    "df.info()"
   ]
  },
  {
   "cell_type": "code",
   "execution_count": 108,
   "metadata": {},
   "outputs": [
    {
     "data": {
      "text/html": [
       "<div>\n",
       "<style scoped>\n",
       "    .dataframe tbody tr th:only-of-type {\n",
       "        vertical-align: middle;\n",
       "    }\n",
       "\n",
       "    .dataframe tbody tr th {\n",
       "        vertical-align: top;\n",
       "    }\n",
       "\n",
       "    .dataframe thead th {\n",
       "        text-align: right;\n",
       "    }\n",
       "</style>\n",
       "<table border=\"1\" class=\"dataframe\">\n",
       "  <thead>\n",
       "    <tr style=\"text-align: right;\">\n",
       "      <th></th>\n",
       "      <th>Date</th>\n",
       "      <th>Open</th>\n",
       "      <th>High</th>\n",
       "      <th>Low</th>\n",
       "      <th>Close</th>\n",
       "      <th>Volume</th>\n",
       "      <th>Adj Close</th>\n",
       "    </tr>\n",
       "  </thead>\n",
       "  <tbody>\n",
       "    <tr>\n",
       "      <th>0</th>\n",
       "      <td>2012-01-03</td>\n",
       "      <td>59.970001</td>\n",
       "      <td>61.060001</td>\n",
       "      <td>59.869999</td>\n",
       "      <td>60.330002</td>\n",
       "      <td>12668800</td>\n",
       "      <td>52.619235</td>\n",
       "    </tr>\n",
       "    <tr>\n",
       "      <th>1</th>\n",
       "      <td>2012-01-04</td>\n",
       "      <td>60.209999</td>\n",
       "      <td>60.349998</td>\n",
       "      <td>59.470001</td>\n",
       "      <td>59.709999</td>\n",
       "      <td>9593300</td>\n",
       "      <td>52.078475</td>\n",
       "    </tr>\n",
       "    <tr>\n",
       "      <th>2</th>\n",
       "      <td>2012-01-05</td>\n",
       "      <td>59.349998</td>\n",
       "      <td>59.619999</td>\n",
       "      <td>58.369999</td>\n",
       "      <td>59.419998</td>\n",
       "      <td>12768200</td>\n",
       "      <td>51.825539</td>\n",
       "    </tr>\n",
       "    <tr>\n",
       "      <th>3</th>\n",
       "      <td>2012-01-06</td>\n",
       "      <td>59.419998</td>\n",
       "      <td>59.450001</td>\n",
       "      <td>58.869999</td>\n",
       "      <td>59.000000</td>\n",
       "      <td>8069400</td>\n",
       "      <td>51.459220</td>\n",
       "    </tr>\n",
       "    <tr>\n",
       "      <th>4</th>\n",
       "      <td>2012-01-09</td>\n",
       "      <td>59.029999</td>\n",
       "      <td>59.549999</td>\n",
       "      <td>58.919998</td>\n",
       "      <td>59.180000</td>\n",
       "      <td>6679300</td>\n",
       "      <td>51.616215</td>\n",
       "    </tr>\n",
       "  </tbody>\n",
       "</table>\n",
       "</div>"
      ],
      "text/plain": [
       "        Date       Open       High        Low      Close    Volume  Adj Close\n",
       "0 2012-01-03  59.970001  61.060001  59.869999  60.330002  12668800  52.619235\n",
       "1 2012-01-04  60.209999  60.349998  59.470001  59.709999   9593300  52.078475\n",
       "2 2012-01-05  59.349998  59.619999  58.369999  59.419998  12768200  51.825539\n",
       "3 2012-01-06  59.419998  59.450001  58.869999  59.000000   8069400  51.459220\n",
       "4 2012-01-09  59.029999  59.549999  58.919998  59.180000   6679300  51.616215"
      ]
     },
     "execution_count": 108,
     "metadata": {},
     "output_type": "execute_result"
    }
   ],
   "source": [
    "df['Date']=pd.to_datetime(df['Date'])\n",
    "df.head()"
   ]
  },
  {
   "cell_type": "code",
   "execution_count": 110,
   "metadata": {},
   "outputs": [
    {
     "name": "stdout",
     "output_type": "stream",
     "text": [
      "<class 'pandas.core.frame.DataFrame'>\n",
      "RangeIndex: 1258 entries, 0 to 1257\n",
      "Data columns (total 7 columns):\n",
      "Date         1258 non-null datetime64[ns]\n",
      "Open         1258 non-null float64\n",
      "High         1258 non-null float64\n",
      "Low          1258 non-null float64\n",
      "Close        1258 non-null float64\n",
      "Volume       1258 non-null int64\n",
      "Adj Close    1258 non-null float64\n",
      "dtypes: datetime64[ns](1), float64(5), int64(1)\n",
      "memory usage: 68.9 KB\n"
     ]
    }
   ],
   "source": [
    "#object=datetime64[ns]\n",
    "df.info()"
   ]
  },
  {
   "cell_type": "code",
   "execution_count": 114,
   "metadata": {},
   "outputs": [
    {
     "data": {
      "text/html": [
       "<div>\n",
       "<style scoped>\n",
       "    .dataframe tbody tr th:only-of-type {\n",
       "        vertical-align: middle;\n",
       "    }\n",
       "\n",
       "    .dataframe tbody tr th {\n",
       "        vertical-align: top;\n",
       "    }\n",
       "\n",
       "    .dataframe thead th {\n",
       "        text-align: right;\n",
       "    }\n",
       "</style>\n",
       "<table border=\"1\" class=\"dataframe\">\n",
       "  <thead>\n",
       "    <tr style=\"text-align: right;\">\n",
       "      <th></th>\n",
       "      <th>Open</th>\n",
       "      <th>High</th>\n",
       "      <th>Low</th>\n",
       "      <th>Close</th>\n",
       "      <th>Volume</th>\n",
       "      <th>Adj Close</th>\n",
       "    </tr>\n",
       "    <tr>\n",
       "      <th>Date</th>\n",
       "      <th></th>\n",
       "      <th></th>\n",
       "      <th></th>\n",
       "      <th></th>\n",
       "      <th></th>\n",
       "      <th></th>\n",
       "    </tr>\n",
       "  </thead>\n",
       "  <tbody>\n",
       "    <tr>\n",
       "      <th>2012-01-03</th>\n",
       "      <td>59.970001</td>\n",
       "      <td>61.060001</td>\n",
       "      <td>59.869999</td>\n",
       "      <td>60.330002</td>\n",
       "      <td>12668800</td>\n",
       "      <td>52.619235</td>\n",
       "    </tr>\n",
       "    <tr>\n",
       "      <th>2012-01-04</th>\n",
       "      <td>60.209999</td>\n",
       "      <td>60.349998</td>\n",
       "      <td>59.470001</td>\n",
       "      <td>59.709999</td>\n",
       "      <td>9593300</td>\n",
       "      <td>52.078475</td>\n",
       "    </tr>\n",
       "    <tr>\n",
       "      <th>2012-01-05</th>\n",
       "      <td>59.349998</td>\n",
       "      <td>59.619999</td>\n",
       "      <td>58.369999</td>\n",
       "      <td>59.419998</td>\n",
       "      <td>12768200</td>\n",
       "      <td>51.825539</td>\n",
       "    </tr>\n",
       "    <tr>\n",
       "      <th>2012-01-06</th>\n",
       "      <td>59.419998</td>\n",
       "      <td>59.450001</td>\n",
       "      <td>58.869999</td>\n",
       "      <td>59.000000</td>\n",
       "      <td>8069400</td>\n",
       "      <td>51.459220</td>\n",
       "    </tr>\n",
       "    <tr>\n",
       "      <th>2012-01-09</th>\n",
       "      <td>59.029999</td>\n",
       "      <td>59.549999</td>\n",
       "      <td>58.919998</td>\n",
       "      <td>59.180000</td>\n",
       "      <td>6679300</td>\n",
       "      <td>51.616215</td>\n",
       "    </tr>\n",
       "    <tr>\n",
       "      <th>2012-01-10</th>\n",
       "      <td>59.430000</td>\n",
       "      <td>59.709999</td>\n",
       "      <td>58.980000</td>\n",
       "      <td>59.040001</td>\n",
       "      <td>6907300</td>\n",
       "      <td>51.494109</td>\n",
       "    </tr>\n",
       "    <tr>\n",
       "      <th>2012-01-11</th>\n",
       "      <td>59.060001</td>\n",
       "      <td>59.529999</td>\n",
       "      <td>59.040001</td>\n",
       "      <td>59.400002</td>\n",
       "      <td>6365600</td>\n",
       "      <td>51.808098</td>\n",
       "    </tr>\n",
       "    <tr>\n",
       "      <th>2012-01-12</th>\n",
       "      <td>59.790001</td>\n",
       "      <td>60.000000</td>\n",
       "      <td>59.400002</td>\n",
       "      <td>59.500000</td>\n",
       "      <td>7236400</td>\n",
       "      <td>51.895316</td>\n",
       "    </tr>\n",
       "    <tr>\n",
       "      <th>2012-01-13</th>\n",
       "      <td>59.180000</td>\n",
       "      <td>59.610001</td>\n",
       "      <td>59.009998</td>\n",
       "      <td>59.540001</td>\n",
       "      <td>7729300</td>\n",
       "      <td>51.930204</td>\n",
       "    </tr>\n",
       "    <tr>\n",
       "      <th>2012-01-17</th>\n",
       "      <td>59.869999</td>\n",
       "      <td>60.110001</td>\n",
       "      <td>59.520000</td>\n",
       "      <td>59.849998</td>\n",
       "      <td>8500000</td>\n",
       "      <td>52.200581</td>\n",
       "    </tr>\n",
       "    <tr>\n",
       "      <th>2012-01-18</th>\n",
       "      <td>59.790001</td>\n",
       "      <td>60.029999</td>\n",
       "      <td>59.650002</td>\n",
       "      <td>60.009998</td>\n",
       "      <td>5911400</td>\n",
       "      <td>52.340131</td>\n",
       "    </tr>\n",
       "    <tr>\n",
       "      <th>2012-01-19</th>\n",
       "      <td>59.930000</td>\n",
       "      <td>60.730000</td>\n",
       "      <td>59.750000</td>\n",
       "      <td>60.610001</td>\n",
       "      <td>9234600</td>\n",
       "      <td>52.863447</td>\n",
       "    </tr>\n",
       "    <tr>\n",
       "      <th>2012-01-20</th>\n",
       "      <td>60.750000</td>\n",
       "      <td>61.250000</td>\n",
       "      <td>60.669998</td>\n",
       "      <td>61.009998</td>\n",
       "      <td>10378800</td>\n",
       "      <td>53.212321</td>\n",
       "    </tr>\n",
       "    <tr>\n",
       "      <th>2012-01-23</th>\n",
       "      <td>60.810001</td>\n",
       "      <td>60.980000</td>\n",
       "      <td>60.509998</td>\n",
       "      <td>60.910000</td>\n",
       "      <td>7134100</td>\n",
       "      <td>53.125104</td>\n",
       "    </tr>\n",
       "    <tr>\n",
       "      <th>2012-01-24</th>\n",
       "      <td>60.750000</td>\n",
       "      <td>62.000000</td>\n",
       "      <td>60.750000</td>\n",
       "      <td>61.389999</td>\n",
       "      <td>7362800</td>\n",
       "      <td>53.543754</td>\n",
       "    </tr>\n",
       "    <tr>\n",
       "      <th>2012-01-25</th>\n",
       "      <td>61.180000</td>\n",
       "      <td>61.610001</td>\n",
       "      <td>61.040001</td>\n",
       "      <td>61.470001</td>\n",
       "      <td>5915800</td>\n",
       "      <td>53.613531</td>\n",
       "    </tr>\n",
       "    <tr>\n",
       "      <th>2012-01-26</th>\n",
       "      <td>61.799999</td>\n",
       "      <td>61.840000</td>\n",
       "      <td>60.770000</td>\n",
       "      <td>60.970001</td>\n",
       "      <td>7436200</td>\n",
       "      <td>53.177436</td>\n",
       "    </tr>\n",
       "    <tr>\n",
       "      <th>2012-01-27</th>\n",
       "      <td>60.860001</td>\n",
       "      <td>61.119999</td>\n",
       "      <td>60.540001</td>\n",
       "      <td>60.709999</td>\n",
       "      <td>6287300</td>\n",
       "      <td>52.950665</td>\n",
       "    </tr>\n",
       "    <tr>\n",
       "      <th>2012-01-30</th>\n",
       "      <td>60.470001</td>\n",
       "      <td>61.320000</td>\n",
       "      <td>60.349998</td>\n",
       "      <td>61.299999</td>\n",
       "      <td>7636900</td>\n",
       "      <td>53.465257</td>\n",
       "    </tr>\n",
       "    <tr>\n",
       "      <th>2012-01-31</th>\n",
       "      <td>61.529999</td>\n",
       "      <td>61.570000</td>\n",
       "      <td>60.580002</td>\n",
       "      <td>61.360001</td>\n",
       "      <td>9761500</td>\n",
       "      <td>53.517590</td>\n",
       "    </tr>\n",
       "    <tr>\n",
       "      <th>2012-02-01</th>\n",
       "      <td>61.790001</td>\n",
       "      <td>62.630001</td>\n",
       "      <td>61.790001</td>\n",
       "      <td>62.180000</td>\n",
       "      <td>12130600</td>\n",
       "      <td>54.232785</td>\n",
       "    </tr>\n",
       "    <tr>\n",
       "      <th>2012-02-02</th>\n",
       "      <td>62.400002</td>\n",
       "      <td>62.470001</td>\n",
       "      <td>61.820000</td>\n",
       "      <td>61.939999</td>\n",
       "      <td>6211300</td>\n",
       "      <td>54.023458</td>\n",
       "    </tr>\n",
       "    <tr>\n",
       "      <th>2012-02-03</th>\n",
       "      <td>62.320000</td>\n",
       "      <td>62.430000</td>\n",
       "      <td>61.700001</td>\n",
       "      <td>62.029999</td>\n",
       "      <td>7727200</td>\n",
       "      <td>54.101956</td>\n",
       "    </tr>\n",
       "    <tr>\n",
       "      <th>2012-02-06</th>\n",
       "      <td>61.849998</td>\n",
       "      <td>61.980000</td>\n",
       "      <td>61.700001</td>\n",
       "      <td>61.880001</td>\n",
       "      <td>5480600</td>\n",
       "      <td>53.971129</td>\n",
       "    </tr>\n",
       "    <tr>\n",
       "      <th>2012-02-07</th>\n",
       "      <td>61.619999</td>\n",
       "      <td>61.900002</td>\n",
       "      <td>61.619999</td>\n",
       "      <td>61.689999</td>\n",
       "      <td>6084400</td>\n",
       "      <td>53.805411</td>\n",
       "    </tr>\n",
       "    <tr>\n",
       "      <th>2012-02-08</th>\n",
       "      <td>61.910000</td>\n",
       "      <td>62.020000</td>\n",
       "      <td>61.230000</td>\n",
       "      <td>61.619999</td>\n",
       "      <td>7260000</td>\n",
       "      <td>53.744358</td>\n",
       "    </tr>\n",
       "    <tr>\n",
       "      <th>2012-02-09</th>\n",
       "      <td>61.580002</td>\n",
       "      <td>62.160000</td>\n",
       "      <td>61.580002</td>\n",
       "      <td>61.959999</td>\n",
       "      <td>6453100</td>\n",
       "      <td>54.040903</td>\n",
       "    </tr>\n",
       "    <tr>\n",
       "      <th>2012-02-10</th>\n",
       "      <td>61.680000</td>\n",
       "      <td>61.910000</td>\n",
       "      <td>61.380001</td>\n",
       "      <td>61.900002</td>\n",
       "      <td>5501000</td>\n",
       "      <td>53.988573</td>\n",
       "    </tr>\n",
       "    <tr>\n",
       "      <th>2012-02-13</th>\n",
       "      <td>62.009998</td>\n",
       "      <td>62.080002</td>\n",
       "      <td>61.730000</td>\n",
       "      <td>61.790001</td>\n",
       "      <td>4175000</td>\n",
       "      <td>53.892632</td>\n",
       "    </tr>\n",
       "    <tr>\n",
       "      <th>2012-02-14</th>\n",
       "      <td>61.910000</td>\n",
       "      <td>62.240002</td>\n",
       "      <td>61.790001</td>\n",
       "      <td>62.220001</td>\n",
       "      <td>5173100</td>\n",
       "      <td>54.267674</td>\n",
       "    </tr>\n",
       "    <tr>\n",
       "      <th>...</th>\n",
       "      <td>...</td>\n",
       "      <td>...</td>\n",
       "      <td>...</td>\n",
       "      <td>...</td>\n",
       "      <td>...</td>\n",
       "      <td>...</td>\n",
       "    </tr>\n",
       "    <tr>\n",
       "      <th>2016-11-17</th>\n",
       "      <td>69.080002</td>\n",
       "      <td>69.519997</td>\n",
       "      <td>68.120003</td>\n",
       "      <td>69.190002</td>\n",
       "      <td>23440300</td>\n",
       "      <td>68.196870</td>\n",
       "    </tr>\n",
       "    <tr>\n",
       "      <th>2016-11-18</th>\n",
       "      <td>68.930000</td>\n",
       "      <td>69.400002</td>\n",
       "      <td>68.440002</td>\n",
       "      <td>68.540001</td>\n",
       "      <td>11135300</td>\n",
       "      <td>67.556199</td>\n",
       "    </tr>\n",
       "    <tr>\n",
       "      <th>2016-11-21</th>\n",
       "      <td>68.540001</td>\n",
       "      <td>69.400002</td>\n",
       "      <td>68.419998</td>\n",
       "      <td>69.370003</td>\n",
       "      <td>8356000</td>\n",
       "      <td>68.374287</td>\n",
       "    </tr>\n",
       "    <tr>\n",
       "      <th>2016-11-22</th>\n",
       "      <td>69.730003</td>\n",
       "      <td>70.419998</td>\n",
       "      <td>69.730003</td>\n",
       "      <td>70.120003</td>\n",
       "      <td>10984000</td>\n",
       "      <td>69.113522</td>\n",
       "    </tr>\n",
       "    <tr>\n",
       "      <th>2016-11-23</th>\n",
       "      <td>70.220001</td>\n",
       "      <td>70.889999</td>\n",
       "      <td>70.180000</td>\n",
       "      <td>70.830002</td>\n",
       "      <td>7398900</td>\n",
       "      <td>69.813330</td>\n",
       "    </tr>\n",
       "    <tr>\n",
       "      <th>2016-11-25</th>\n",
       "      <td>71.110001</td>\n",
       "      <td>71.650002</td>\n",
       "      <td>70.980003</td>\n",
       "      <td>71.230003</td>\n",
       "      <td>4234400</td>\n",
       "      <td>70.207590</td>\n",
       "    </tr>\n",
       "    <tr>\n",
       "      <th>2016-11-28</th>\n",
       "      <td>70.930000</td>\n",
       "      <td>71.519997</td>\n",
       "      <td>70.800003</td>\n",
       "      <td>71.190002</td>\n",
       "      <td>7099200</td>\n",
       "      <td>70.168163</td>\n",
       "    </tr>\n",
       "    <tr>\n",
       "      <th>2016-11-29</th>\n",
       "      <td>71.379997</td>\n",
       "      <td>71.790001</td>\n",
       "      <td>71.199997</td>\n",
       "      <td>71.370003</td>\n",
       "      <td>7310100</td>\n",
       "      <td>70.345580</td>\n",
       "    </tr>\n",
       "    <tr>\n",
       "      <th>2016-11-30</th>\n",
       "      <td>70.919998</td>\n",
       "      <td>71.160004</td>\n",
       "      <td>70.169998</td>\n",
       "      <td>70.430000</td>\n",
       "      <td>9326100</td>\n",
       "      <td>69.419070</td>\n",
       "    </tr>\n",
       "    <tr>\n",
       "      <th>2016-12-01</th>\n",
       "      <td>70.250000</td>\n",
       "      <td>70.730003</td>\n",
       "      <td>70.050003</td>\n",
       "      <td>70.669998</td>\n",
       "      <td>6849800</td>\n",
       "      <td>69.655623</td>\n",
       "    </tr>\n",
       "    <tr>\n",
       "      <th>2016-12-02</th>\n",
       "      <td>70.580002</td>\n",
       "      <td>70.949997</td>\n",
       "      <td>70.449997</td>\n",
       "      <td>70.879997</td>\n",
       "      <td>6674200</td>\n",
       "      <td>69.862608</td>\n",
       "    </tr>\n",
       "    <tr>\n",
       "      <th>2016-12-05</th>\n",
       "      <td>70.900002</td>\n",
       "      <td>70.989998</td>\n",
       "      <td>69.809998</td>\n",
       "      <td>69.940002</td>\n",
       "      <td>10527900</td>\n",
       "      <td>68.936105</td>\n",
       "    </tr>\n",
       "    <tr>\n",
       "      <th>2016-12-06</th>\n",
       "      <td>70.010002</td>\n",
       "      <td>70.389999</td>\n",
       "      <td>69.500000</td>\n",
       "      <td>70.360001</td>\n",
       "      <td>7778000</td>\n",
       "      <td>69.350075</td>\n",
       "    </tr>\n",
       "    <tr>\n",
       "      <th>2016-12-07</th>\n",
       "      <td>69.930000</td>\n",
       "      <td>70.650002</td>\n",
       "      <td>69.900002</td>\n",
       "      <td>70.599998</td>\n",
       "      <td>6966200</td>\n",
       "      <td>70.084672</td>\n",
       "    </tr>\n",
       "    <tr>\n",
       "      <th>2016-12-08</th>\n",
       "      <td>70.480003</td>\n",
       "      <td>70.900002</td>\n",
       "      <td>70.320000</td>\n",
       "      <td>70.339996</td>\n",
       "      <td>6844200</td>\n",
       "      <td>69.826568</td>\n",
       "    </tr>\n",
       "    <tr>\n",
       "      <th>2016-12-09</th>\n",
       "      <td>70.269997</td>\n",
       "      <td>70.430000</td>\n",
       "      <td>69.739998</td>\n",
       "      <td>70.080002</td>\n",
       "      <td>10756700</td>\n",
       "      <td>69.568471</td>\n",
       "    </tr>\n",
       "    <tr>\n",
       "      <th>2016-12-12</th>\n",
       "      <td>70.070000</td>\n",
       "      <td>71.779999</td>\n",
       "      <td>70.019997</td>\n",
       "      <td>71.669998</td>\n",
       "      <td>9084100</td>\n",
       "      <td>71.146861</td>\n",
       "    </tr>\n",
       "    <tr>\n",
       "      <th>2016-12-13</th>\n",
       "      <td>71.669998</td>\n",
       "      <td>72.230003</td>\n",
       "      <td>71.610001</td>\n",
       "      <td>71.800003</td>\n",
       "      <td>8887500</td>\n",
       "      <td>71.275917</td>\n",
       "    </tr>\n",
       "    <tr>\n",
       "      <th>2016-12-14</th>\n",
       "      <td>71.900002</td>\n",
       "      <td>72.480003</td>\n",
       "      <td>71.180000</td>\n",
       "      <td>71.339996</td>\n",
       "      <td>8669400</td>\n",
       "      <td>70.819268</td>\n",
       "    </tr>\n",
       "    <tr>\n",
       "      <th>2016-12-15</th>\n",
       "      <td>71.220001</td>\n",
       "      <td>71.800003</td>\n",
       "      <td>71.029999</td>\n",
       "      <td>71.080002</td>\n",
       "      <td>7136300</td>\n",
       "      <td>70.561172</td>\n",
       "    </tr>\n",
       "    <tr>\n",
       "      <th>2016-12-16</th>\n",
       "      <td>71.070000</td>\n",
       "      <td>71.639999</td>\n",
       "      <td>70.599998</td>\n",
       "      <td>70.980003</td>\n",
       "      <td>17844800</td>\n",
       "      <td>70.461903</td>\n",
       "    </tr>\n",
       "    <tr>\n",
       "      <th>2016-12-19</th>\n",
       "      <td>70.839996</td>\n",
       "      <td>71.750000</td>\n",
       "      <td>70.839996</td>\n",
       "      <td>71.580002</td>\n",
       "      <td>5889300</td>\n",
       "      <td>71.057522</td>\n",
       "    </tr>\n",
       "    <tr>\n",
       "      <th>2016-12-20</th>\n",
       "      <td>71.730003</td>\n",
       "      <td>71.930000</td>\n",
       "      <td>71.510002</td>\n",
       "      <td>71.820000</td>\n",
       "      <td>6108100</td>\n",
       "      <td>71.295768</td>\n",
       "    </tr>\n",
       "    <tr>\n",
       "      <th>2016-12-21</th>\n",
       "      <td>71.660004</td>\n",
       "      <td>72.000000</td>\n",
       "      <td>71.239998</td>\n",
       "      <td>71.239998</td>\n",
       "      <td>5101000</td>\n",
       "      <td>70.720000</td>\n",
       "    </tr>\n",
       "    <tr>\n",
       "      <th>2016-12-22</th>\n",
       "      <td>71.239998</td>\n",
       "      <td>71.239998</td>\n",
       "      <td>69.209999</td>\n",
       "      <td>69.589996</td>\n",
       "      <td>12106800</td>\n",
       "      <td>69.082042</td>\n",
       "    </tr>\n",
       "    <tr>\n",
       "      <th>2016-12-23</th>\n",
       "      <td>69.430000</td>\n",
       "      <td>69.750000</td>\n",
       "      <td>69.360001</td>\n",
       "      <td>69.540001</td>\n",
       "      <td>4803900</td>\n",
       "      <td>69.032411</td>\n",
       "    </tr>\n",
       "    <tr>\n",
       "      <th>2016-12-27</th>\n",
       "      <td>69.300003</td>\n",
       "      <td>69.820000</td>\n",
       "      <td>69.250000</td>\n",
       "      <td>69.699997</td>\n",
       "      <td>4435700</td>\n",
       "      <td>69.191240</td>\n",
       "    </tr>\n",
       "    <tr>\n",
       "      <th>2016-12-28</th>\n",
       "      <td>69.940002</td>\n",
       "      <td>70.000000</td>\n",
       "      <td>69.260002</td>\n",
       "      <td>69.309998</td>\n",
       "      <td>4875700</td>\n",
       "      <td>68.804087</td>\n",
       "    </tr>\n",
       "    <tr>\n",
       "      <th>2016-12-29</th>\n",
       "      <td>69.209999</td>\n",
       "      <td>69.519997</td>\n",
       "      <td>69.120003</td>\n",
       "      <td>69.260002</td>\n",
       "      <td>4298400</td>\n",
       "      <td>68.754456</td>\n",
       "    </tr>\n",
       "    <tr>\n",
       "      <th>2016-12-30</th>\n",
       "      <td>69.120003</td>\n",
       "      <td>69.430000</td>\n",
       "      <td>68.830002</td>\n",
       "      <td>69.120003</td>\n",
       "      <td>6889500</td>\n",
       "      <td>68.615479</td>\n",
       "    </tr>\n",
       "  </tbody>\n",
       "</table>\n",
       "<p>1258 rows × 6 columns</p>\n",
       "</div>"
      ],
      "text/plain": [
       "                 Open       High        Low      Close    Volume  Adj Close\n",
       "Date                                                                       \n",
       "2012-01-03  59.970001  61.060001  59.869999  60.330002  12668800  52.619235\n",
       "2012-01-04  60.209999  60.349998  59.470001  59.709999   9593300  52.078475\n",
       "2012-01-05  59.349998  59.619999  58.369999  59.419998  12768200  51.825539\n",
       "2012-01-06  59.419998  59.450001  58.869999  59.000000   8069400  51.459220\n",
       "2012-01-09  59.029999  59.549999  58.919998  59.180000   6679300  51.616215\n",
       "2012-01-10  59.430000  59.709999  58.980000  59.040001   6907300  51.494109\n",
       "2012-01-11  59.060001  59.529999  59.040001  59.400002   6365600  51.808098\n",
       "2012-01-12  59.790001  60.000000  59.400002  59.500000   7236400  51.895316\n",
       "2012-01-13  59.180000  59.610001  59.009998  59.540001   7729300  51.930204\n",
       "2012-01-17  59.869999  60.110001  59.520000  59.849998   8500000  52.200581\n",
       "2012-01-18  59.790001  60.029999  59.650002  60.009998   5911400  52.340131\n",
       "2012-01-19  59.930000  60.730000  59.750000  60.610001   9234600  52.863447\n",
       "2012-01-20  60.750000  61.250000  60.669998  61.009998  10378800  53.212321\n",
       "2012-01-23  60.810001  60.980000  60.509998  60.910000   7134100  53.125104\n",
       "2012-01-24  60.750000  62.000000  60.750000  61.389999   7362800  53.543754\n",
       "2012-01-25  61.180000  61.610001  61.040001  61.470001   5915800  53.613531\n",
       "2012-01-26  61.799999  61.840000  60.770000  60.970001   7436200  53.177436\n",
       "2012-01-27  60.860001  61.119999  60.540001  60.709999   6287300  52.950665\n",
       "2012-01-30  60.470001  61.320000  60.349998  61.299999   7636900  53.465257\n",
       "2012-01-31  61.529999  61.570000  60.580002  61.360001   9761500  53.517590\n",
       "2012-02-01  61.790001  62.630001  61.790001  62.180000  12130600  54.232785\n",
       "2012-02-02  62.400002  62.470001  61.820000  61.939999   6211300  54.023458\n",
       "2012-02-03  62.320000  62.430000  61.700001  62.029999   7727200  54.101956\n",
       "2012-02-06  61.849998  61.980000  61.700001  61.880001   5480600  53.971129\n",
       "2012-02-07  61.619999  61.900002  61.619999  61.689999   6084400  53.805411\n",
       "2012-02-08  61.910000  62.020000  61.230000  61.619999   7260000  53.744358\n",
       "2012-02-09  61.580002  62.160000  61.580002  61.959999   6453100  54.040903\n",
       "2012-02-10  61.680000  61.910000  61.380001  61.900002   5501000  53.988573\n",
       "2012-02-13  62.009998  62.080002  61.730000  61.790001   4175000  53.892632\n",
       "2012-02-14  61.910000  62.240002  61.790001  62.220001   5173100  54.267674\n",
       "...               ...        ...        ...        ...       ...        ...\n",
       "2016-11-17  69.080002  69.519997  68.120003  69.190002  23440300  68.196870\n",
       "2016-11-18  68.930000  69.400002  68.440002  68.540001  11135300  67.556199\n",
       "2016-11-21  68.540001  69.400002  68.419998  69.370003   8356000  68.374287\n",
       "2016-11-22  69.730003  70.419998  69.730003  70.120003  10984000  69.113522\n",
       "2016-11-23  70.220001  70.889999  70.180000  70.830002   7398900  69.813330\n",
       "2016-11-25  71.110001  71.650002  70.980003  71.230003   4234400  70.207590\n",
       "2016-11-28  70.930000  71.519997  70.800003  71.190002   7099200  70.168163\n",
       "2016-11-29  71.379997  71.790001  71.199997  71.370003   7310100  70.345580\n",
       "2016-11-30  70.919998  71.160004  70.169998  70.430000   9326100  69.419070\n",
       "2016-12-01  70.250000  70.730003  70.050003  70.669998   6849800  69.655623\n",
       "2016-12-02  70.580002  70.949997  70.449997  70.879997   6674200  69.862608\n",
       "2016-12-05  70.900002  70.989998  69.809998  69.940002  10527900  68.936105\n",
       "2016-12-06  70.010002  70.389999  69.500000  70.360001   7778000  69.350075\n",
       "2016-12-07  69.930000  70.650002  69.900002  70.599998   6966200  70.084672\n",
       "2016-12-08  70.480003  70.900002  70.320000  70.339996   6844200  69.826568\n",
       "2016-12-09  70.269997  70.430000  69.739998  70.080002  10756700  69.568471\n",
       "2016-12-12  70.070000  71.779999  70.019997  71.669998   9084100  71.146861\n",
       "2016-12-13  71.669998  72.230003  71.610001  71.800003   8887500  71.275917\n",
       "2016-12-14  71.900002  72.480003  71.180000  71.339996   8669400  70.819268\n",
       "2016-12-15  71.220001  71.800003  71.029999  71.080002   7136300  70.561172\n",
       "2016-12-16  71.070000  71.639999  70.599998  70.980003  17844800  70.461903\n",
       "2016-12-19  70.839996  71.750000  70.839996  71.580002   5889300  71.057522\n",
       "2016-12-20  71.730003  71.930000  71.510002  71.820000   6108100  71.295768\n",
       "2016-12-21  71.660004  72.000000  71.239998  71.239998   5101000  70.720000\n",
       "2016-12-22  71.239998  71.239998  69.209999  69.589996  12106800  69.082042\n",
       "2016-12-23  69.430000  69.750000  69.360001  69.540001   4803900  69.032411\n",
       "2016-12-27  69.300003  69.820000  69.250000  69.699997   4435700  69.191240\n",
       "2016-12-28  69.940002  70.000000  69.260002  69.309998   4875700  68.804087\n",
       "2016-12-29  69.209999  69.519997  69.120003  69.260002   4298400  68.754456\n",
       "2016-12-30  69.120003  69.430000  68.830002  69.120003   6889500  68.615479\n",
       "\n",
       "[1258 rows x 6 columns]"
      ]
     },
     "execution_count": 114,
     "metadata": {},
     "output_type": "execute_result"
    }
   ],
   "source": [
    "#data column을 index로 변환\n",
    "df.set_index('Date',inplace=False)"
   ]
  },
  {
   "cell_type": "code",
   "execution_count": 116,
   "metadata": {},
   "outputs": [
    {
     "data": {
      "text/plain": [
       "RangeIndex(start=0, stop=1258, step=1)"
      ]
     },
     "execution_count": 116,
     "metadata": {},
     "output_type": "execute_result"
    }
   ],
   "source": [
    "df.index"
   ]
  },
  {
   "cell_type": "code",
   "execution_count": 118,
   "metadata": {},
   "outputs": [
    {
     "data": {
      "text/plain": [
       "pandas.core.indexes.range.RangeIndex"
      ]
     },
     "execution_count": 118,
     "metadata": {},
     "output_type": "execute_result"
    }
   ],
   "source": [
    "type(df.index)"
   ]
  },
  {
   "cell_type": "code",
   "execution_count": 120,
   "metadata": {},
   "outputs": [],
   "source": [
    "#새로운 방법을 통해서 접근\n",
    "df=pd.read_csv('datasets/walmart_stock.csv',index_col='Date')"
   ]
  },
  {
   "cell_type": "code",
   "execution_count": 122,
   "metadata": {},
   "outputs": [
    {
     "data": {
      "text/plain": [
       "DatetimeIndex(['2012-01-03', '2012-01-04', '2012-01-05', '2012-01-06',\n",
       "               '2012-01-09', '2012-01-10', '2012-01-11', '2012-01-12',\n",
       "               '2012-01-13', '2012-01-17',\n",
       "               ...\n",
       "               '2016-12-16', '2016-12-19', '2016-12-20', '2016-12-21',\n",
       "               '2016-12-22', '2016-12-23', '2016-12-27', '2016-12-28',\n",
       "               '2016-12-29', '2016-12-30'],\n",
       "              dtype='datetime64[ns]', name='Date', length=1258, freq=None)"
      ]
     },
     "execution_count": 122,
     "metadata": {},
     "output_type": "execute_result"
    }
   ],
   "source": [
    "df=pd.read_csv('datasets/walmart_stock.csv',index_col='Date',parse_dates=True)\n",
    "df.index"
   ]
  },
  {
   "cell_type": "code",
   "execution_count": 124,
   "metadata": {},
   "outputs": [
    {
     "data": {
      "text/plain": [
       "pandas.core.indexes.datetimes.DatetimeIndex"
      ]
     },
     "execution_count": 124,
     "metadata": {},
     "output_type": "execute_result"
    }
   ],
   "source": [
    "type(df.index)"
   ]
  },
  {
   "cell_type": "code",
   "execution_count": 127,
   "metadata": {},
   "outputs": [
    {
     "data": {
      "text/plain": [
       "DatetimeIndexResampler [freq=<YearEnd: month=12>, axis=0, closed=right, label=right, convention=start, base=0]"
      ]
     },
     "execution_count": 127,
     "metadata": {},
     "output_type": "execute_result"
    }
   ],
   "source": [
    "df.resample(rule=\"A\") #1년에 한번씩"
   ]
  },
  {
   "cell_type": "code",
   "execution_count": 129,
   "metadata": {},
   "outputs": [
    {
     "data": {
      "text/html": [
       "<div>\n",
       "<style scoped>\n",
       "    .dataframe tbody tr th:only-of-type {\n",
       "        vertical-align: middle;\n",
       "    }\n",
       "\n",
       "    .dataframe tbody tr th {\n",
       "        vertical-align: top;\n",
       "    }\n",
       "\n",
       "    .dataframe thead th {\n",
       "        text-align: right;\n",
       "    }\n",
       "</style>\n",
       "<table border=\"1\" class=\"dataframe\">\n",
       "  <thead>\n",
       "    <tr style=\"text-align: right;\">\n",
       "      <th></th>\n",
       "      <th>Open</th>\n",
       "      <th>High</th>\n",
       "      <th>Low</th>\n",
       "      <th>Close</th>\n",
       "      <th>Volume</th>\n",
       "      <th>Adj Close</th>\n",
       "    </tr>\n",
       "    <tr>\n",
       "      <th>Date</th>\n",
       "      <th></th>\n",
       "      <th></th>\n",
       "      <th></th>\n",
       "      <th></th>\n",
       "      <th></th>\n",
       "      <th></th>\n",
       "    </tr>\n",
       "  </thead>\n",
       "  <tbody>\n",
       "    <tr>\n",
       "      <th>2012-12-31</th>\n",
       "      <td>67.158680</td>\n",
       "      <td>67.602120</td>\n",
       "      <td>66.786520</td>\n",
       "      <td>67.215120</td>\n",
       "      <td>9.239015e+06</td>\n",
       "      <td>59.389349</td>\n",
       "    </tr>\n",
       "    <tr>\n",
       "      <th>2013-12-31</th>\n",
       "      <td>75.264048</td>\n",
       "      <td>75.729405</td>\n",
       "      <td>74.843055</td>\n",
       "      <td>75.320516</td>\n",
       "      <td>6.951496e+06</td>\n",
       "      <td>68.147179</td>\n",
       "    </tr>\n",
       "    <tr>\n",
       "      <th>2014-12-31</th>\n",
       "      <td>77.274524</td>\n",
       "      <td>77.740040</td>\n",
       "      <td>76.864405</td>\n",
       "      <td>77.327381</td>\n",
       "      <td>6.515612e+06</td>\n",
       "      <td>71.709712</td>\n",
       "    </tr>\n",
       "    <tr>\n",
       "      <th>2015-12-31</th>\n",
       "      <td>72.569405</td>\n",
       "      <td>73.064167</td>\n",
       "      <td>72.034802</td>\n",
       "      <td>72.491111</td>\n",
       "      <td>9.040769e+06</td>\n",
       "      <td>68.831426</td>\n",
       "    </tr>\n",
       "    <tr>\n",
       "      <th>2016-12-31</th>\n",
       "      <td>69.481349</td>\n",
       "      <td>70.019643</td>\n",
       "      <td>69.023492</td>\n",
       "      <td>69.547063</td>\n",
       "      <td>9.371645e+06</td>\n",
       "      <td>68.054229</td>\n",
       "    </tr>\n",
       "  </tbody>\n",
       "</table>\n",
       "</div>"
      ],
      "text/plain": [
       "                 Open       High        Low      Close        Volume  \\\n",
       "Date                                                                   \n",
       "2012-12-31  67.158680  67.602120  66.786520  67.215120  9.239015e+06   \n",
       "2013-12-31  75.264048  75.729405  74.843055  75.320516  6.951496e+06   \n",
       "2014-12-31  77.274524  77.740040  76.864405  77.327381  6.515612e+06   \n",
       "2015-12-31  72.569405  73.064167  72.034802  72.491111  9.040769e+06   \n",
       "2016-12-31  69.481349  70.019643  69.023492  69.547063  9.371645e+06   \n",
       "\n",
       "            Adj Close  \n",
       "Date                   \n",
       "2012-12-31  59.389349  \n",
       "2013-12-31  68.147179  \n",
       "2014-12-31  71.709712  \n",
       "2015-12-31  68.831426  \n",
       "2016-12-31  68.054229  "
      ]
     },
     "execution_count": 129,
     "metadata": {},
     "output_type": "execute_result"
    }
   ],
   "source": [
    "df.resample(rule='A').mean()"
   ]
  },
  {
   "cell_type": "code",
   "execution_count": 132,
   "metadata": {},
   "outputs": [
    {
     "data": {
      "text/html": [
       "<div>\n",
       "<style scoped>\n",
       "    .dataframe tbody tr th:only-of-type {\n",
       "        vertical-align: middle;\n",
       "    }\n",
       "\n",
       "    .dataframe tbody tr th {\n",
       "        vertical-align: top;\n",
       "    }\n",
       "\n",
       "    .dataframe thead th {\n",
       "        text-align: right;\n",
       "    }\n",
       "</style>\n",
       "<table border=\"1\" class=\"dataframe\">\n",
       "  <thead>\n",
       "    <tr style=\"text-align: right;\">\n",
       "      <th></th>\n",
       "      <th>Open</th>\n",
       "      <th>High</th>\n",
       "      <th>Low</th>\n",
       "      <th>Close</th>\n",
       "      <th>Volume</th>\n",
       "      <th>Adj Close</th>\n",
       "    </tr>\n",
       "    <tr>\n",
       "      <th>Date</th>\n",
       "      <th></th>\n",
       "      <th></th>\n",
       "      <th></th>\n",
       "      <th></th>\n",
       "      <th></th>\n",
       "      <th></th>\n",
       "    </tr>\n",
       "  </thead>\n",
       "  <tbody>\n",
       "    <tr>\n",
       "      <th>2012-03-31</th>\n",
       "      <td>60.462903</td>\n",
       "      <td>60.807258</td>\n",
       "      <td>60.160484</td>\n",
       "      <td>60.519516</td>\n",
       "      <td>8.850221e+06</td>\n",
       "      <td>52.881839</td>\n",
       "    </tr>\n",
       "    <tr>\n",
       "      <th>2012-06-30</th>\n",
       "      <td>62.888889</td>\n",
       "      <td>63.400159</td>\n",
       "      <td>62.592222</td>\n",
       "      <td>63.057143</td>\n",
       "      <td>1.155795e+07</td>\n",
       "      <td>55.594392</td>\n",
       "    </tr>\n",
       "    <tr>\n",
       "      <th>2012-09-30</th>\n",
       "      <td>73.081587</td>\n",
       "      <td>73.549682</td>\n",
       "      <td>72.717619</td>\n",
       "      <td>73.174921</td>\n",
       "      <td>7.871587e+06</td>\n",
       "      <td>64.891949</td>\n",
       "    </tr>\n",
       "    <tr>\n",
       "      <th>2012-12-31</th>\n",
       "      <td>72.174678</td>\n",
       "      <td>72.623226</td>\n",
       "      <td>71.647741</td>\n",
       "      <td>72.079839</td>\n",
       "      <td>8.660958e+06</td>\n",
       "      <td>64.161672</td>\n",
       "    </tr>\n",
       "    <tr>\n",
       "      <th>2013-03-31</th>\n",
       "      <td>70.898834</td>\n",
       "      <td>71.393000</td>\n",
       "      <td>70.552666</td>\n",
       "      <td>71.026000</td>\n",
       "      <td>8.482003e+06</td>\n",
       "      <td>63.581880</td>\n",
       "    </tr>\n",
       "    <tr>\n",
       "      <th>2013-06-30</th>\n",
       "      <td>76.873906</td>\n",
       "      <td>77.417813</td>\n",
       "      <td>76.413281</td>\n",
       "      <td>76.885781</td>\n",
       "      <td>7.656086e+06</td>\n",
       "      <td>69.393600</td>\n",
       "    </tr>\n",
       "    <tr>\n",
       "      <th>2013-09-30</th>\n",
       "      <td>75.637969</td>\n",
       "      <td>76.030469</td>\n",
       "      <td>75.213594</td>\n",
       "      <td>75.629063</td>\n",
       "      <td>5.796625e+06</td>\n",
       "      <td>68.676662</td>\n",
       "    </tr>\n",
       "    <tr>\n",
       "      <th>2013-12-31</th>\n",
       "      <td>77.372656</td>\n",
       "      <td>77.805313</td>\n",
       "      <td>76.924531</td>\n",
       "      <td>77.472813</td>\n",
       "      <td>5.966927e+06</td>\n",
       "      <td>70.651242</td>\n",
       "    </tr>\n",
       "    <tr>\n",
       "      <th>2014-03-31</th>\n",
       "      <td>75.339344</td>\n",
       "      <td>75.802787</td>\n",
       "      <td>74.863278</td>\n",
       "      <td>75.337213</td>\n",
       "      <td>7.050402e+06</td>\n",
       "      <td>69.106983</td>\n",
       "    </tr>\n",
       "    <tr>\n",
       "      <th>2014-06-30</th>\n",
       "      <td>77.036508</td>\n",
       "      <td>77.391111</td>\n",
       "      <td>76.689524</td>\n",
       "      <td>77.066508</td>\n",
       "      <td>6.048765e+06</td>\n",
       "      <td>71.284646</td>\n",
       "    </tr>\n",
       "    <tr>\n",
       "      <th>2014-09-30</th>\n",
       "      <td>75.674843</td>\n",
       "      <td>76.062501</td>\n",
       "      <td>75.375938</td>\n",
       "      <td>75.748593</td>\n",
       "      <td>5.550031e+06</td>\n",
       "      <td>70.520795</td>\n",
       "    </tr>\n",
       "    <tr>\n",
       "      <th>2014-12-31</th>\n",
       "      <td>80.952969</td>\n",
       "      <td>81.607500</td>\n",
       "      <td>80.432344</td>\n",
       "      <td>81.059844</td>\n",
       "      <td>7.431025e+06</td>\n",
       "      <td>75.797780</td>\n",
       "    </tr>\n",
       "    <tr>\n",
       "      <th>2015-03-31</th>\n",
       "      <td>85.096229</td>\n",
       "      <td>85.699017</td>\n",
       "      <td>84.491803</td>\n",
       "      <td>85.107213</td>\n",
       "      <td>7.209713e+06</td>\n",
       "      <td>79.994746</td>\n",
       "    </tr>\n",
       "    <tr>\n",
       "      <th>2015-06-30</th>\n",
       "      <td>76.678730</td>\n",
       "      <td>77.066191</td>\n",
       "      <td>76.191111</td>\n",
       "      <td>76.492540</td>\n",
       "      <td>7.481765e+06</td>\n",
       "      <td>72.501821</td>\n",
       "    </tr>\n",
       "    <tr>\n",
       "      <th>2015-09-30</th>\n",
       "      <td>68.884375</td>\n",
       "      <td>69.366094</td>\n",
       "      <td>68.328594</td>\n",
       "      <td>68.825313</td>\n",
       "      <td>8.883412e+06</td>\n",
       "      <td>65.666534</td>\n",
       "    </tr>\n",
       "    <tr>\n",
       "      <th>2015-12-31</th>\n",
       "      <td>60.269688</td>\n",
       "      <td>60.780156</td>\n",
       "      <td>59.776563</td>\n",
       "      <td>60.193281</td>\n",
       "      <td>1.247800e+07</td>\n",
       "      <td>57.743235</td>\n",
       "    </tr>\n",
       "    <tr>\n",
       "      <th>2016-03-31</th>\n",
       "      <td>65.564754</td>\n",
       "      <td>66.346065</td>\n",
       "      <td>65.015574</td>\n",
       "      <td>65.776557</td>\n",
       "      <td>1.198041e+07</td>\n",
       "      <td>63.580834</td>\n",
       "    </tr>\n",
       "    <tr>\n",
       "      <th>2016-06-30</th>\n",
       "      <td>69.350000</td>\n",
       "      <td>69.857656</td>\n",
       "      <td>68.918906</td>\n",
       "      <td>69.438437</td>\n",
       "      <td>8.751062e+06</td>\n",
       "      <td>67.762903</td>\n",
       "    </tr>\n",
       "    <tr>\n",
       "      <th>2016-09-30</th>\n",
       "      <td>72.808594</td>\n",
       "      <td>73.230938</td>\n",
       "      <td>72.371719</td>\n",
       "      <td>72.782812</td>\n",
       "      <td>8.236991e+06</td>\n",
       "      <td>71.530300</td>\n",
       "    </tr>\n",
       "    <tr>\n",
       "      <th>2016-12-31</th>\n",
       "      <td>70.026985</td>\n",
       "      <td>70.478889</td>\n",
       "      <td>69.609048</td>\n",
       "      <td>70.021111</td>\n",
       "      <td>8.628798e+06</td>\n",
       "      <td>69.150314</td>\n",
       "    </tr>\n",
       "  </tbody>\n",
       "</table>\n",
       "</div>"
      ],
      "text/plain": [
       "                 Open       High        Low      Close        Volume  \\\n",
       "Date                                                                   \n",
       "2012-03-31  60.462903  60.807258  60.160484  60.519516  8.850221e+06   \n",
       "2012-06-30  62.888889  63.400159  62.592222  63.057143  1.155795e+07   \n",
       "2012-09-30  73.081587  73.549682  72.717619  73.174921  7.871587e+06   \n",
       "2012-12-31  72.174678  72.623226  71.647741  72.079839  8.660958e+06   \n",
       "2013-03-31  70.898834  71.393000  70.552666  71.026000  8.482003e+06   \n",
       "2013-06-30  76.873906  77.417813  76.413281  76.885781  7.656086e+06   \n",
       "2013-09-30  75.637969  76.030469  75.213594  75.629063  5.796625e+06   \n",
       "2013-12-31  77.372656  77.805313  76.924531  77.472813  5.966927e+06   \n",
       "2014-03-31  75.339344  75.802787  74.863278  75.337213  7.050402e+06   \n",
       "2014-06-30  77.036508  77.391111  76.689524  77.066508  6.048765e+06   \n",
       "2014-09-30  75.674843  76.062501  75.375938  75.748593  5.550031e+06   \n",
       "2014-12-31  80.952969  81.607500  80.432344  81.059844  7.431025e+06   \n",
       "2015-03-31  85.096229  85.699017  84.491803  85.107213  7.209713e+06   \n",
       "2015-06-30  76.678730  77.066191  76.191111  76.492540  7.481765e+06   \n",
       "2015-09-30  68.884375  69.366094  68.328594  68.825313  8.883412e+06   \n",
       "2015-12-31  60.269688  60.780156  59.776563  60.193281  1.247800e+07   \n",
       "2016-03-31  65.564754  66.346065  65.015574  65.776557  1.198041e+07   \n",
       "2016-06-30  69.350000  69.857656  68.918906  69.438437  8.751062e+06   \n",
       "2016-09-30  72.808594  73.230938  72.371719  72.782812  8.236991e+06   \n",
       "2016-12-31  70.026985  70.478889  69.609048  70.021111  8.628798e+06   \n",
       "\n",
       "            Adj Close  \n",
       "Date                   \n",
       "2012-03-31  52.881839  \n",
       "2012-06-30  55.594392  \n",
       "2012-09-30  64.891949  \n",
       "2012-12-31  64.161672  \n",
       "2013-03-31  63.581880  \n",
       "2013-06-30  69.393600  \n",
       "2013-09-30  68.676662  \n",
       "2013-12-31  70.651242  \n",
       "2014-03-31  69.106983  \n",
       "2014-06-30  71.284646  \n",
       "2014-09-30  70.520795  \n",
       "2014-12-31  75.797780  \n",
       "2015-03-31  79.994746  \n",
       "2015-06-30  72.501821  \n",
       "2015-09-30  65.666534  \n",
       "2015-12-31  57.743235  \n",
       "2016-03-31  63.580834  \n",
       "2016-06-30  67.762903  \n",
       "2016-09-30  71.530300  \n",
       "2016-12-31  69.150314  "
      ]
     },
     "execution_count": 132,
     "metadata": {},
     "output_type": "execute_result"
    }
   ],
   "source": [
    "#매 분기별 주식 평균값\n",
    "\n",
    "df.resample(rule='Q').mean()"
   ]
  },
  {
   "cell_type": "code",
   "execution_count": 134,
   "metadata": {},
   "outputs": [
    {
     "data": {
      "text/html": [
       "<div>\n",
       "<style scoped>\n",
       "    .dataframe tbody tr th:only-of-type {\n",
       "        vertical-align: middle;\n",
       "    }\n",
       "\n",
       "    .dataframe tbody tr th {\n",
       "        vertical-align: top;\n",
       "    }\n",
       "\n",
       "    .dataframe thead th {\n",
       "        text-align: right;\n",
       "    }\n",
       "</style>\n",
       "<table border=\"1\" class=\"dataframe\">\n",
       "  <thead>\n",
       "    <tr style=\"text-align: right;\">\n",
       "      <th></th>\n",
       "      <th>Open</th>\n",
       "      <th>High</th>\n",
       "      <th>Low</th>\n",
       "      <th>Close</th>\n",
       "      <th>Volume</th>\n",
       "      <th>Adj Close</th>\n",
       "    </tr>\n",
       "    <tr>\n",
       "      <th>Date</th>\n",
       "      <th></th>\n",
       "      <th></th>\n",
       "      <th></th>\n",
       "      <th></th>\n",
       "      <th></th>\n",
       "      <th></th>\n",
       "    </tr>\n",
       "  </thead>\n",
       "  <tbody>\n",
       "    <tr>\n",
       "      <th>2012-12-31</th>\n",
       "      <td>77.599998</td>\n",
       "      <td>77.599998</td>\n",
       "      <td>76.690002</td>\n",
       "      <td>77.150002</td>\n",
       "      <td>38007300</td>\n",
       "      <td>68.568371</td>\n",
       "    </tr>\n",
       "    <tr>\n",
       "      <th>2013-12-31</th>\n",
       "      <td>81.209999</td>\n",
       "      <td>81.370003</td>\n",
       "      <td>80.820000</td>\n",
       "      <td>81.209999</td>\n",
       "      <td>25683700</td>\n",
       "      <td>73.929868</td>\n",
       "    </tr>\n",
       "    <tr>\n",
       "      <th>2014-12-31</th>\n",
       "      <td>87.080002</td>\n",
       "      <td>88.089996</td>\n",
       "      <td>86.480003</td>\n",
       "      <td>87.540001</td>\n",
       "      <td>22812400</td>\n",
       "      <td>81.707680</td>\n",
       "    </tr>\n",
       "    <tr>\n",
       "      <th>2015-12-31</th>\n",
       "      <td>90.800003</td>\n",
       "      <td>90.970001</td>\n",
       "      <td>89.250000</td>\n",
       "      <td>90.470001</td>\n",
       "      <td>80898100</td>\n",
       "      <td>84.914216</td>\n",
       "    </tr>\n",
       "    <tr>\n",
       "      <th>2016-12-31</th>\n",
       "      <td>74.500000</td>\n",
       "      <td>75.190002</td>\n",
       "      <td>73.629997</td>\n",
       "      <td>74.300003</td>\n",
       "      <td>35076700</td>\n",
       "      <td>73.233524</td>\n",
       "    </tr>\n",
       "  </tbody>\n",
       "</table>\n",
       "</div>"
      ],
      "text/plain": [
       "                 Open       High        Low      Close    Volume  Adj Close\n",
       "Date                                                                       \n",
       "2012-12-31  77.599998  77.599998  76.690002  77.150002  38007300  68.568371\n",
       "2013-12-31  81.209999  81.370003  80.820000  81.209999  25683700  73.929868\n",
       "2014-12-31  87.080002  88.089996  86.480003  87.540001  22812400  81.707680\n",
       "2015-12-31  90.800003  90.970001  89.250000  90.470001  80898100  84.914216\n",
       "2016-12-31  74.500000  75.190002  73.629997  74.300003  35076700  73.233524"
      ]
     },
     "execution_count": 134,
     "metadata": {},
     "output_type": "execute_result"
    }
   ],
   "source": [
    "#매년 주식의 최대값\n",
    "df.resample(rule='A').max()"
   ]
  },
  {
   "cell_type": "code",
   "execution_count": 137,
   "metadata": {},
   "outputs": [
    {
     "data": {
      "text/plain": [
       "<matplotlib.axes._subplots.AxesSubplot at 0x207447e2278>"
      ]
     },
     "execution_count": 137,
     "metadata": {},
     "output_type": "execute_result"
    },
    {
     "data": {
      "image/png": "[encoded data removed]",
      "text/plain": [
       "<Figure size 432x288 with 1 Axes>"
      ]
     },
     "metadata": {},
     "output_type": "display_data"
    }
   ],
   "source": [
    "df['Close'].resample('A').mean().plot(kind='bar')"
   ]
  },
  {
   "cell_type": "code",
   "execution_count": 1,
   "metadata": {},
   "outputs": [
    {
     "ename": "NameError",
     "evalue": "name 'df' is not defined",
     "output_type": "error",
     "traceback": [
      "\u001b[1;31m---------------------------------------------------------------------------\u001b[0m",
      "\u001b[1;31mNameError\u001b[0m                                 Traceback (most recent call last)",
      "\u001b[1;32m<ipython-input-1-0b5ee10c9f3e>\u001b[0m in \u001b[0;36m<module>\u001b[1;34m()\u001b[0m\n\u001b[1;32m----> 1\u001b[1;33m \u001b[0mdf\u001b[0m\u001b[1;33m[\u001b[0m\u001b[1;34m'Close'\u001b[0m\u001b[1;33m]\u001b[0m\u001b[1;33m.\u001b[0m\u001b[0mresample\u001b[0m\u001b[1;33m(\u001b[0m\u001b[1;34m'A'\u001b[0m\u001b[1;33m)\u001b[0m\u001b[1;33m.\u001b[0m\u001b[0mmean\u001b[0m\u001b[1;33m(\u001b[0m\u001b[1;33m)\u001b[0m\u001b[1;33m.\u001b[0m\u001b[0mplot\u001b[0m\u001b[1;33m(\u001b[0m\u001b[0mkind\u001b[0m\u001b[1;33m=\u001b[0m\u001b[1;34m'bar'\u001b[0m\u001b[1;33m,\u001b[0m\u001b[0mfigsize\u001b[0m\u001b[1;33m=\u001b[0m\u001b[1;33m(\u001b[0m\u001b[1;36m16\u001b[0m\u001b[1;33m,\u001b[0m\u001b[1;36m6\u001b[0m\u001b[1;33m)\u001b[0m\u001b[1;33m)\u001b[0m\u001b[1;33m\u001b[0m\u001b[0m\n\u001b[0m",
      "\u001b[1;31mNameError\u001b[0m: name 'df' is not defined"
     ]
    }
   ],
   "source": [
    "df['Close'].resample('A').mean().plot(kind='bar',figsize=(16,6))"
   ]
  },
  {
   "cell_type": "markdown",
   "metadata": {},
   "source": [
    "### 7. pandas.Series.rolling() : moving window function(이동창 함수)\n",
    "#### 예) 일주일간 주가 평균(이동 평균계산), for()를 사용하지 않음"
   ]
  },
  {
   "cell_type": "code",
   "execution_count": 2,
   "metadata": {},
   "outputs": [],
   "source": [
    "import pandas as pd\n",
    "import numpy as np\n",
    "import matplotlib.pyplot as plt\n",
    "%matplotlib inline\n",
    "\n",
    "from datetime import datetime"
   ]
  },
  {
   "cell_type": "code",
   "execution_count": 11,
   "metadata": {},
   "outputs": [
    {
     "name": "stdout",
     "output_type": "stream",
     "text": [
      "            AAPL   MSFT    XOM     SPX\n",
      "2003-01-02  7.40  21.11  29.22  909.03\n",
      "2003-01-03  7.45  21.14  29.24  908.59\n",
      "2003-01-06  7.45  21.52  29.96  929.01\n",
      "2003-01-07  7.43  21.93  28.95  922.93\n",
      "2003-01-08  7.28  21.31  28.83  909.93\n"
     ]
    }
   ],
   "source": [
    "close_px_all=pd.read_csv(\"examples/stock_px_2.csv\",parse_dates=True,index_col=0)\n",
    "print(close_px_all.head())\n",
    "close_px=close_px_all[['AAPL','MSFT','XOM']]\n",
    "close_px=close_px.resample('B').ffill()"
   ]
  },
  {
   "cell_type": "code",
   "execution_count": 12,
   "metadata": {},
   "outputs": [
    {
     "data": {
      "text/plain": [
       "<matplotlib.axes._subplots.AxesSubplot at 0x20feee67208>"
      ]
     },
     "execution_count": 12,
     "metadata": {},
     "output_type": "execute_result"
    },
    {
     "data": {
      "image/png": "[encoded data removed]",
      "text/plain": [
       "<Figure size 432x288 with 1 Axes>"
      ]
     },
     "metadata": {},
     "output_type": "display_data"
    }
   ],
   "source": [
    "close_px.AAPL.plot()\n",
    "close_px.AAPL.rolling(250).mean().plot()"
   ]
  },
  {
   "cell_type": "code",
   "execution_count": 20,
   "metadata": {},
   "outputs": [],
   "source": [
    "appl_std250=close_px.AAPL.rolling(250,min_periods=50).std()"
   ]
  },
  {
   "cell_type": "code",
   "execution_count": 21,
   "metadata": {},
   "outputs": [
    {
     "data": {
      "text/plain": [
       "<matplotlib.axes._subplots.AxesSubplot at 0x20feeaeb0f0>"
      ]
     },
     "execution_count": 21,
     "metadata": {},
     "output_type": "execute_result"
    },
    {
     "data": {
      "image/png": "[encoded data removed]",
      "text/plain": [
       "<Figure size 432x288 with 1 Axes>"
      ]
     },
     "metadata": {},
     "output_type": "display_data"
    }
   ],
   "source": [
    "appl_std250.plot()"
   ]
  },
  {
   "cell_type": "code",
   "execution_count": 26,
   "metadata": {},
   "outputs": [
    {
     "data": {
      "text/plain": [
       "<matplotlib.axes._subplots.AxesSubplot at 0x20ff043d550>"
      ]
     },
     "execution_count": 26,
     "metadata": {},
     "output_type": "execute_result"
    },
    {
     "data": {
      "image/png": "[encoded data removed]",
      "text/plain": [
       "<Figure size 432x288 with 1 Axes>"
      ]
     },
     "metadata": {},
     "output_type": "display_data"
    }
   ],
   "source": [
    "# 확장창평균: expending()\n",
    "expanding_mean=appl_std250.expanding().mean()\n",
    "close_px.rolling(60).mean().plot(logy=True)"
   ]
  },
  {
   "cell_type": "code",
   "execution_count": 28,
   "metadata": {},
   "outputs": [
    {
     "data": {
      "text/html": [
       "<div>\n",
       "<style scoped>\n",
       "    .dataframe tbody tr th:only-of-type {\n",
       "        vertical-align: middle;\n",
       "    }\n",
       "\n",
       "    .dataframe tbody tr th {\n",
       "        vertical-align: top;\n",
       "    }\n",
       "\n",
       "    .dataframe thead th {\n",
       "        text-align: right;\n",
       "    }\n",
       "</style>\n",
       "<table border=\"1\" class=\"dataframe\">\n",
       "  <thead>\n",
       "    <tr style=\"text-align: right;\">\n",
       "      <th></th>\n",
       "      <th>AAPL</th>\n",
       "      <th>MSFT</th>\n",
       "      <th>XOM</th>\n",
       "    </tr>\n",
       "  </thead>\n",
       "  <tbody>\n",
       "    <tr>\n",
       "      <th>2003-01-02</th>\n",
       "      <td>7.400000</td>\n",
       "      <td>21.110000</td>\n",
       "      <td>29.220000</td>\n",
       "    </tr>\n",
       "    <tr>\n",
       "      <th>2003-01-03</th>\n",
       "      <td>7.425000</td>\n",
       "      <td>21.125000</td>\n",
       "      <td>29.230000</td>\n",
       "    </tr>\n",
       "    <tr>\n",
       "      <th>2003-01-06</th>\n",
       "      <td>7.433333</td>\n",
       "      <td>21.256667</td>\n",
       "      <td>29.473333</td>\n",
       "    </tr>\n",
       "    <tr>\n",
       "      <th>2003-01-07</th>\n",
       "      <td>7.432500</td>\n",
       "      <td>21.425000</td>\n",
       "      <td>29.342500</td>\n",
       "    </tr>\n",
       "    <tr>\n",
       "      <th>2003-01-08</th>\n",
       "      <td>7.402000</td>\n",
       "      <td>21.402000</td>\n",
       "      <td>29.240000</td>\n",
       "    </tr>\n",
       "    <tr>\n",
       "      <th>2003-01-09</th>\n",
       "      <td>7.391667</td>\n",
       "      <td>21.490000</td>\n",
       "      <td>29.273333</td>\n",
       "    </tr>\n",
       "    <tr>\n",
       "      <th>2003-01-10</th>\n",
       "      <td>7.387143</td>\n",
       "      <td>21.558571</td>\n",
       "      <td>29.238571</td>\n",
       "    </tr>\n",
       "    <tr>\n",
       "      <th>2003-01-13</th>\n",
       "      <td>7.378750</td>\n",
       "      <td>21.633750</td>\n",
       "      <td>29.197500</td>\n",
       "    </tr>\n",
       "    <tr>\n",
       "      <th>2003-01-14</th>\n",
       "      <td>7.370000</td>\n",
       "      <td>21.717778</td>\n",
       "      <td>29.194444</td>\n",
       "    </tr>\n",
       "    <tr>\n",
       "      <th>2003-01-15</th>\n",
       "      <td>7.355000</td>\n",
       "      <td>21.757000</td>\n",
       "      <td>29.152000</td>\n",
       "    </tr>\n",
       "    <tr>\n",
       "      <th>2003-01-16</th>\n",
       "      <td>7.350909</td>\n",
       "      <td>21.756364</td>\n",
       "      <td>29.129091</td>\n",
       "    </tr>\n",
       "    <tr>\n",
       "      <th>2003-01-17</th>\n",
       "      <td>7.325833</td>\n",
       "      <td>21.628333</td>\n",
       "      <td>29.085000</td>\n",
       "    </tr>\n",
       "    <tr>\n",
       "      <th>2003-01-20</th>\n",
       "      <td>7.304615</td>\n",
       "      <td>21.520000</td>\n",
       "      <td>29.047692</td>\n",
       "    </tr>\n",
       "    <tr>\n",
       "      <th>2003-01-21</th>\n",
       "      <td>7.283571</td>\n",
       "      <td>21.423571</td>\n",
       "      <td>28.968571</td>\n",
       "    </tr>\n",
       "    <tr>\n",
       "      <th>2003-01-22</th>\n",
       "      <td>7.250714</td>\n",
       "      <td>21.347143</td>\n",
       "      <td>28.851429</td>\n",
       "    </tr>\n",
       "    <tr>\n",
       "      <th>2003-01-23</th>\n",
       "      <td>7.225000</td>\n",
       "      <td>21.304286</td>\n",
       "      <td>28.728571</td>\n",
       "    </tr>\n",
       "    <tr>\n",
       "      <th>2003-01-24</th>\n",
       "      <td>7.203333</td>\n",
       "      <td>21.190000</td>\n",
       "      <td>28.608667</td>\n",
       "    </tr>\n",
       "    <tr>\n",
       "      <th>2003-01-27</th>\n",
       "      <td>7.160000</td>\n",
       "      <td>20.980000</td>\n",
       "      <td>28.316429</td>\n",
       "    </tr>\n",
       "    <tr>\n",
       "      <th>2003-01-28</th>\n",
       "      <td>7.160714</td>\n",
       "      <td>20.827857</td>\n",
       "      <td>28.178571</td>\n",
       "    </tr>\n",
       "    <tr>\n",
       "      <th>2003-01-29</th>\n",
       "      <td>7.170000</td>\n",
       "      <td>20.662143</td>\n",
       "      <td>28.067143</td>\n",
       "    </tr>\n",
       "    <tr>\n",
       "      <th>2003-01-30</th>\n",
       "      <td>7.155714</td>\n",
       "      <td>20.446429</td>\n",
       "      <td>27.948571</td>\n",
       "    </tr>\n",
       "    <tr>\n",
       "      <th>2003-01-31</th>\n",
       "      <td>7.157333</td>\n",
       "      <td>20.326667</td>\n",
       "      <td>27.960667</td>\n",
       "    </tr>\n",
       "    <tr>\n",
       "      <th>2003-02-03</th>\n",
       "      <td>7.147857</td>\n",
       "      <td>19.959286</td>\n",
       "      <td>27.846429</td>\n",
       "    </tr>\n",
       "    <tr>\n",
       "      <th>2003-02-04</th>\n",
       "      <td>7.153571</td>\n",
       "      <td>19.707857</td>\n",
       "      <td>27.828571</td>\n",
       "    </tr>\n",
       "    <tr>\n",
       "      <th>2003-02-05</th>\n",
       "      <td>7.147143</td>\n",
       "      <td>19.472143</td>\n",
       "      <td>27.772143</td>\n",
       "    </tr>\n",
       "    <tr>\n",
       "      <th>2003-02-06</th>\n",
       "      <td>7.159286</td>\n",
       "      <td>19.358571</td>\n",
       "      <td>27.720000</td>\n",
       "    </tr>\n",
       "    <tr>\n",
       "      <th>2003-02-07</th>\n",
       "      <td>7.153333</td>\n",
       "      <td>19.288000</td>\n",
       "      <td>27.716000</td>\n",
       "    </tr>\n",
       "    <tr>\n",
       "      <th>2003-02-10</th>\n",
       "      <td>7.172857</td>\n",
       "      <td>19.110714</td>\n",
       "      <td>27.647857</td>\n",
       "    </tr>\n",
       "    <tr>\n",
       "      <th>2003-02-11</th>\n",
       "      <td>7.190000</td>\n",
       "      <td>18.982857</td>\n",
       "      <td>27.654286</td>\n",
       "    </tr>\n",
       "    <tr>\n",
       "      <th>2003-02-12</th>\n",
       "      <td>7.197857</td>\n",
       "      <td>18.819286</td>\n",
       "      <td>27.625714</td>\n",
       "    </tr>\n",
       "    <tr>\n",
       "      <th>...</th>\n",
       "      <td>...</td>\n",
       "      <td>...</td>\n",
       "      <td>...</td>\n",
       "    </tr>\n",
       "    <tr>\n",
       "      <th>2011-09-05</th>\n",
       "      <td>375.711429</td>\n",
       "      <td>25.276429</td>\n",
       "      <td>72.607857</td>\n",
       "    </tr>\n",
       "    <tr>\n",
       "      <th>2011-09-06</th>\n",
       "      <td>375.661429</td>\n",
       "      <td>25.295000</td>\n",
       "      <td>72.392857</td>\n",
       "    </tr>\n",
       "    <tr>\n",
       "      <th>2011-09-07</th>\n",
       "      <td>376.938571</td>\n",
       "      <td>25.390000</td>\n",
       "      <td>72.586429</td>\n",
       "    </tr>\n",
       "    <tr>\n",
       "      <th>2011-09-08</th>\n",
       "      <td>378.946429</td>\n",
       "      <td>25.545000</td>\n",
       "      <td>72.802143</td>\n",
       "    </tr>\n",
       "    <tr>\n",
       "      <th>2011-09-09</th>\n",
       "      <td>378.848667</td>\n",
       "      <td>25.558000</td>\n",
       "      <td>72.682667</td>\n",
       "    </tr>\n",
       "    <tr>\n",
       "      <th>2011-09-12</th>\n",
       "      <td>380.902143</td>\n",
       "      <td>25.754286</td>\n",
       "      <td>72.731429</td>\n",
       "    </tr>\n",
       "    <tr>\n",
       "      <th>2011-09-13</th>\n",
       "      <td>381.505000</td>\n",
       "      <td>25.835714</td>\n",
       "      <td>72.596429</td>\n",
       "    </tr>\n",
       "    <tr>\n",
       "      <th>2011-09-14</th>\n",
       "      <td>382.617857</td>\n",
       "      <td>25.973571</td>\n",
       "      <td>72.658571</td>\n",
       "    </tr>\n",
       "    <tr>\n",
       "      <th>2011-09-15</th>\n",
       "      <td>383.287857</td>\n",
       "      <td>26.097857</td>\n",
       "      <td>72.756429</td>\n",
       "    </tr>\n",
       "    <tr>\n",
       "      <th>2011-09-16</th>\n",
       "      <td>384.435333</td>\n",
       "      <td>26.166000</td>\n",
       "      <td>72.876000</td>\n",
       "    </tr>\n",
       "    <tr>\n",
       "      <th>2011-09-19</th>\n",
       "      <td>385.585714</td>\n",
       "      <td>26.259286</td>\n",
       "      <td>72.772143</td>\n",
       "    </tr>\n",
       "    <tr>\n",
       "      <th>2011-09-20</th>\n",
       "      <td>387.630000</td>\n",
       "      <td>26.286429</td>\n",
       "      <td>72.771429</td>\n",
       "    </tr>\n",
       "    <tr>\n",
       "      <th>2011-09-21</th>\n",
       "      <td>389.852143</td>\n",
       "      <td>26.270714</td>\n",
       "      <td>72.662857</td>\n",
       "    </tr>\n",
       "    <tr>\n",
       "      <th>2011-09-22</th>\n",
       "      <td>391.835714</td>\n",
       "      <td>26.217857</td>\n",
       "      <td>72.455714</td>\n",
       "    </tr>\n",
       "    <tr>\n",
       "      <th>2011-09-23</th>\n",
       "      <td>392.666667</td>\n",
       "      <td>26.140667</td>\n",
       "      <td>72.246000</td>\n",
       "    </tr>\n",
       "    <tr>\n",
       "      <th>2011-09-26</th>\n",
       "      <td>395.670000</td>\n",
       "      <td>26.160000</td>\n",
       "      <td>72.294286</td>\n",
       "    </tr>\n",
       "    <tr>\n",
       "      <th>2011-09-27</th>\n",
       "      <td>396.765000</td>\n",
       "      <td>26.136429</td>\n",
       "      <td>72.241429</td>\n",
       "    </tr>\n",
       "    <tr>\n",
       "      <th>2011-09-28</th>\n",
       "      <td>397.684286</td>\n",
       "      <td>26.090714</td>\n",
       "      <td>72.187857</td>\n",
       "    </tr>\n",
       "    <tr>\n",
       "      <th>2011-09-29</th>\n",
       "      <td>398.619286</td>\n",
       "      <td>26.070000</td>\n",
       "      <td>72.392857</td>\n",
       "    </tr>\n",
       "    <tr>\n",
       "      <th>2011-09-30</th>\n",
       "      <td>397.466000</td>\n",
       "      <td>25.991333</td>\n",
       "      <td>72.408667</td>\n",
       "    </tr>\n",
       "    <tr>\n",
       "      <th>2011-10-03</th>\n",
       "      <td>398.002143</td>\n",
       "      <td>25.890714</td>\n",
       "      <td>72.413571</td>\n",
       "    </tr>\n",
       "    <tr>\n",
       "      <th>2011-10-04</th>\n",
       "      <td>396.802143</td>\n",
       "      <td>25.807857</td>\n",
       "      <td>72.427143</td>\n",
       "    </tr>\n",
       "    <tr>\n",
       "      <th>2011-10-05</th>\n",
       "      <td>395.751429</td>\n",
       "      <td>25.729286</td>\n",
       "      <td>72.422857</td>\n",
       "    </tr>\n",
       "    <tr>\n",
       "      <th>2011-10-06</th>\n",
       "      <td>394.099286</td>\n",
       "      <td>25.673571</td>\n",
       "      <td>72.375714</td>\n",
       "    </tr>\n",
       "    <tr>\n",
       "      <th>2011-10-07</th>\n",
       "      <td>392.479333</td>\n",
       "      <td>25.712000</td>\n",
       "      <td>72.454667</td>\n",
       "    </tr>\n",
       "    <tr>\n",
       "      <th>2011-10-10</th>\n",
       "      <td>389.351429</td>\n",
       "      <td>25.602143</td>\n",
       "      <td>72.527857</td>\n",
       "    </tr>\n",
       "    <tr>\n",
       "      <th>2011-10-11</th>\n",
       "      <td>388.505000</td>\n",
       "      <td>25.674286</td>\n",
       "      <td>72.835000</td>\n",
       "    </tr>\n",
       "    <tr>\n",
       "      <th>2011-10-12</th>\n",
       "      <td>388.531429</td>\n",
       "      <td>25.810000</td>\n",
       "      <td>73.400714</td>\n",
       "    </tr>\n",
       "    <tr>\n",
       "      <th>2011-10-13</th>\n",
       "      <td>388.826429</td>\n",
       "      <td>25.961429</td>\n",
       "      <td>73.905000</td>\n",
       "    </tr>\n",
       "    <tr>\n",
       "      <th>2011-10-14</th>\n",
       "      <td>391.038000</td>\n",
       "      <td>26.048667</td>\n",
       "      <td>74.185333</td>\n",
       "    </tr>\n",
       "  </tbody>\n",
       "</table>\n",
       "<p>2292 rows × 3 columns</p>\n",
       "</div>"
      ],
      "text/plain": [
       "                  AAPL       MSFT        XOM\n",
       "2003-01-02    7.400000  21.110000  29.220000\n",
       "2003-01-03    7.425000  21.125000  29.230000\n",
       "2003-01-06    7.433333  21.256667  29.473333\n",
       "2003-01-07    7.432500  21.425000  29.342500\n",
       "2003-01-08    7.402000  21.402000  29.240000\n",
       "2003-01-09    7.391667  21.490000  29.273333\n",
       "2003-01-10    7.387143  21.558571  29.238571\n",
       "2003-01-13    7.378750  21.633750  29.197500\n",
       "2003-01-14    7.370000  21.717778  29.194444\n",
       "2003-01-15    7.355000  21.757000  29.152000\n",
       "2003-01-16    7.350909  21.756364  29.129091\n",
       "2003-01-17    7.325833  21.628333  29.085000\n",
       "2003-01-20    7.304615  21.520000  29.047692\n",
       "2003-01-21    7.283571  21.423571  28.968571\n",
       "2003-01-22    7.250714  21.347143  28.851429\n",
       "2003-01-23    7.225000  21.304286  28.728571\n",
       "2003-01-24    7.203333  21.190000  28.608667\n",
       "2003-01-27    7.160000  20.980000  28.316429\n",
       "2003-01-28    7.160714  20.827857  28.178571\n",
       "2003-01-29    7.170000  20.662143  28.067143\n",
       "2003-01-30    7.155714  20.446429  27.948571\n",
       "2003-01-31    7.157333  20.326667  27.960667\n",
       "2003-02-03    7.147857  19.959286  27.846429\n",
       "2003-02-04    7.153571  19.707857  27.828571\n",
       "2003-02-05    7.147143  19.472143  27.772143\n",
       "2003-02-06    7.159286  19.358571  27.720000\n",
       "2003-02-07    7.153333  19.288000  27.716000\n",
       "2003-02-10    7.172857  19.110714  27.647857\n",
       "2003-02-11    7.190000  18.982857  27.654286\n",
       "2003-02-12    7.197857  18.819286  27.625714\n",
       "...                ...        ...        ...\n",
       "2011-09-05  375.711429  25.276429  72.607857\n",
       "2011-09-06  375.661429  25.295000  72.392857\n",
       "2011-09-07  376.938571  25.390000  72.586429\n",
       "2011-09-08  378.946429  25.545000  72.802143\n",
       "2011-09-09  378.848667  25.558000  72.682667\n",
       "2011-09-12  380.902143  25.754286  72.731429\n",
       "2011-09-13  381.505000  25.835714  72.596429\n",
       "2011-09-14  382.617857  25.973571  72.658571\n",
       "2011-09-15  383.287857  26.097857  72.756429\n",
       "2011-09-16  384.435333  26.166000  72.876000\n",
       "2011-09-19  385.585714  26.259286  72.772143\n",
       "2011-09-20  387.630000  26.286429  72.771429\n",
       "2011-09-21  389.852143  26.270714  72.662857\n",
       "2011-09-22  391.835714  26.217857  72.455714\n",
       "2011-09-23  392.666667  26.140667  72.246000\n",
       "2011-09-26  395.670000  26.160000  72.294286\n",
       "2011-09-27  396.765000  26.136429  72.241429\n",
       "2011-09-28  397.684286  26.090714  72.187857\n",
       "2011-09-29  398.619286  26.070000  72.392857\n",
       "2011-09-30  397.466000  25.991333  72.408667\n",
       "2011-10-03  398.002143  25.890714  72.413571\n",
       "2011-10-04  396.802143  25.807857  72.427143\n",
       "2011-10-05  395.751429  25.729286  72.422857\n",
       "2011-10-06  394.099286  25.673571  72.375714\n",
       "2011-10-07  392.479333  25.712000  72.454667\n",
       "2011-10-10  389.351429  25.602143  72.527857\n",
       "2011-10-11  388.505000  25.674286  72.835000\n",
       "2011-10-12  388.531429  25.810000  73.400714\n",
       "2011-10-13  388.826429  25.961429  73.905000\n",
       "2011-10-14  391.038000  26.048667  74.185333\n",
       "\n",
       "[2292 rows x 3 columns]"
      ]
     },
     "execution_count": 28,
     "metadata": {},
     "output_type": "execute_result"
    }
   ],
   "source": [
    "close_px.rolling('20D').mean()"
   ]
  },
  {
   "cell_type": "code",
   "execution_count": null,
   "metadata": {},
   "outputs": [],
   "source": []
  }
 ],
 "metadata": {
  "kernelspec": {
   "display_name": "Python 3",
   "language": "python",
   "name": "python3"
  },
  "language_info": {
   "codemirror_mode": {
    "name": "ipython",
    "version": 3
   },
   "file_extension": ".py",
   "mimetype": "text/x-python",
   "name": "python",
   "nbconvert_exporter": "python",
   "pygments_lexer": "ipython3",
   "version": "3.6.5"
  }
 },
 "nbformat": 4,
 "nbformat_minor": 2
}
