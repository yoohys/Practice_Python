{
 "cells": [
  {
   "cell_type": "markdown",
   "metadata": {},
   "source": [
    "# p09_1. Matplotlib"
   ]
  },
  {
   "cell_type": "markdown",
   "metadata": {},
   "source": [
    "## 1. Matplotlib : 시각화"
   ]
  },
  {
   "cell_type": "code",
   "execution_count": 2,
   "metadata": {},
   "outputs": [],
   "source": [
    "%magic\n"
   ]
  },
  {
   "cell_type": "code",
   "execution_count": 3,
   "metadata": {},
   "outputs": [
    {
     "name": "stdout",
     "output_type": "stream",
     "text": [
      "C:\\Users\\user\n"
     ]
    }
   ],
   "source": [
    "%cd"
   ]
  },
  {
   "cell_type": "code",
   "execution_count": 4,
   "metadata": {},
   "outputs": [
    {
     "name": "stdout",
     "output_type": "stream",
     "text": [
      " C 드라이브의 볼륨에는 이름이 없습니다.\n",
      " 볼륨 일련 번호: 702A-D304\n",
      "\n",
      " C:\\Users\\user 디렉터리\n",
      "\n",
      "2019-11-13  오후 03:16    <DIR>          .\n",
      "2019-11-13  오후 03:16    <DIR>          ..\n",
      "2019-10-28  오후 02:41    <DIR>          .anaconda\n",
      "2019-10-28  오후 05:07    <DIR>          .conda\n",
      "2019-10-28  오후 05:07                43 .condarc\n",
      "2019-08-13  오후 05:56    <DIR>          .eclipse\n",
      "2019-10-28  오후 05:04    <DIR>          .ipynb_checkpoints\n",
      "2019-10-28  오후 02:46    <DIR>          .ipython\n",
      "2019-11-01  오후 02:35    <DIR>          .jupyter\n",
      "2019-11-15  오전 10:33    <DIR>          .m2\n",
      "2019-11-13  오후 03:29    <DIR>          .matplotlib\n",
      "2019-08-13  오후 12:11    <DIR>          .oracle\n",
      "2019-08-27  오전 11:19    <DIR>          .oracle_jre_usage\n",
      "2019-11-19  오전 11:38    <DIR>          .p2\n",
      "2019-10-31  오후 02:06    <DIR>          .spyder-py3\n",
      "2019-08-13  오후 05:48    <DIR>          .tooling\n",
      "2019-08-30  오후 02:25    <DIR>          .webclipse\n",
      "2019-11-14  오전 11:45    <DIR>          3D Objects\n",
      "2019-11-14  오전 11:45    <DIR>          Contacts\n",
      "2019-11-16  오후 01:21    <DIR>          Desktop\n",
      "2019-11-19  오후 03:08    <DIR>          Documents\n",
      "2019-11-19  오후 03:05    <DIR>          Downloads\n",
      "2019-11-04  오후 01:56    <DIR>          eclipse\n",
      "2019-11-14  오전 11:45    <DIR>          Favorites\n",
      "2019-11-14  오전 11:45    <DIR>          Links\n",
      "2019-11-14  오전 11:45    <DIR>          Music\n",
      "2019-08-13  오후 05:25    <DIR>          OneDrive\n",
      "2019-08-13  오후 01:40    <DIR>          Oracle\n",
      "2019-11-16  오후 01:10    <DIR>          Pictures\n",
      "2019-11-14  오전 11:45    <DIR>          Saved Games\n",
      "2019-11-14  오전 11:45    <DIR>          Searches\n",
      "2019-11-14  오전 11:45    <DIR>          Videos\n",
      "2019-08-28  오전 09:22    <DIR>          workspace\n",
      "               1개 파일                  43 바이트\n",
      "              32개 디렉터리  420,179,488,768 바이트 남음\n"
     ]
    }
   ],
   "source": [
    "!dir"
   ]
  },
  {
   "cell_type": "code",
   "execution_count": 5,
   "metadata": {},
   "outputs": [
    {
     "name": "stdout",
     "output_type": "stream",
     "text": [
      "Interactive namespace is empty.\n"
     ]
    }
   ],
   "source": [
    "%who\n"
   ]
  },
  {
   "cell_type": "code",
   "execution_count": 6,
   "metadata": {},
   "outputs": [],
   "source": [
    "import matplotlib\n",
    "import matplotlib.pyplot as plt\n",
    "# %matplotlib inline          #: 노트북상에서 특정셀에 대한 플롯을 일단 설정하면 수정불가\n",
    "\n",
    " #  노트북상에서 특정셀 플롯 수정가능\n",
    "%matplotlib nbagg         \n",
    "\n",
    "import numpy as np\n",
    "import pandas as pd"
   ]
  },
  {
   "cell_type": "code",
   "execution_count": null,
   "metadata": {},
   "outputs": [],
   "source": []
  },
  {
   "cell_type": "markdown",
   "metadata": {},
   "source": [
    "## 2. plot의 종류"
   ]
  },
  {
   "cell_type": "markdown",
   "metadata": {},
   "source": [
    "### (1) Line plot 그리기"
   ]
  },
  {
   "cell_type": "code",
   "execution_count": 7,
   "metadata": {
    "scrolled": true
   },
   "outputs": [
    {
     "data": {
      "text/plain": [
       "0    -0.235295\n",
       "10   -1.589948\n",
       "20   -1.498806\n",
       "30   -2.272093\n",
       "40   -4.329710\n",
       "50   -4.365410\n",
       "60   -4.131368\n",
       "70   -2.914580\n",
       "80   -2.239140\n",
       "90   -0.817468\n",
       "dtype: float64"
      ]
     },
     "execution_count": 7,
     "metadata": {},
     "output_type": "execute_result"
    }
   ],
   "source": [
    "s= pd.Series(np.random.randn(10).cumsum(), index=np.arange(0,100,10))\n",
    "s"
   ]
  },
  {
   "cell_type": "code",
   "execution_count": 8,
   "metadata": {},
   "outputs": [
    {
     "data": {
      "text/plain": [
       "<matplotlib.axes._subplots.AxesSubplot at 0x18afd9ada20>"
      ]
     },
     "execution_count": 8,
     "metadata": {},
     "output_type": "execute_result"
    },
    {
     "data": {
      "image/png": "[encoded data removed]",
      "text/plain": [
       "<Figure size 432x288 with 1 Axes>"
      ]
     },
     "metadata": {},
     "output_type": "display_data"
    }
   ],
   "source": [
    "s.plot()"
   ]
  },
  {
   "cell_type": "code",
   "execution_count": 9,
   "metadata": {},
   "outputs": [
    {
     "data": {
      "text/html": [
       "<div>\n",
       "<style scoped>\n",
       "    .dataframe tbody tr th:only-of-type {\n",
       "        vertical-align: middle;\n",
       "    }\n",
       "\n",
       "    .dataframe tbody tr th {\n",
       "        vertical-align: top;\n",
       "    }\n",
       "\n",
       "    .dataframe thead th {\n",
       "        text-align: right;\n",
       "    }\n",
       "</style>\n",
       "<table border=\"1\" class=\"dataframe\">\n",
       "  <thead>\n",
       "    <tr style=\"text-align: right;\">\n",
       "      <th></th>\n",
       "      <th>A</th>\n",
       "      <th>B</th>\n",
       "      <th>C</th>\n",
       "      <th>D</th>\n",
       "    </tr>\n",
       "  </thead>\n",
       "  <tbody>\n",
       "    <tr>\n",
       "      <th>0</th>\n",
       "      <td>-1.058547</td>\n",
       "      <td>-0.672012</td>\n",
       "      <td>-1.593150</td>\n",
       "      <td>0.648562</td>\n",
       "    </tr>\n",
       "    <tr>\n",
       "      <th>10</th>\n",
       "      <td>-0.694388</td>\n",
       "      <td>-0.258582</td>\n",
       "      <td>-1.892848</td>\n",
       "      <td>0.514140</td>\n",
       "    </tr>\n",
       "    <tr>\n",
       "      <th>20</th>\n",
       "      <td>-1.264294</td>\n",
       "      <td>-1.126837</td>\n",
       "      <td>-1.458018</td>\n",
       "      <td>0.997878</td>\n",
       "    </tr>\n",
       "    <tr>\n",
       "      <th>30</th>\n",
       "      <td>-3.251744</td>\n",
       "      <td>-2.706355</td>\n",
       "      <td>-0.894165</td>\n",
       "      <td>1.931361</td>\n",
       "    </tr>\n",
       "    <tr>\n",
       "      <th>40</th>\n",
       "      <td>-3.435517</td>\n",
       "      <td>-4.016027</td>\n",
       "      <td>-1.135191</td>\n",
       "      <td>1.114002</td>\n",
       "    </tr>\n",
       "    <tr>\n",
       "      <th>50</th>\n",
       "      <td>-2.717374</td>\n",
       "      <td>-4.623178</td>\n",
       "      <td>-0.243654</td>\n",
       "      <td>1.219916</td>\n",
       "    </tr>\n",
       "    <tr>\n",
       "      <th>60</th>\n",
       "      <td>-0.105498</td>\n",
       "      <td>-5.209845</td>\n",
       "      <td>-2.263094</td>\n",
       "      <td>1.264968</td>\n",
       "    </tr>\n",
       "    <tr>\n",
       "      <th>70</th>\n",
       "      <td>-0.738251</td>\n",
       "      <td>-3.716768</td>\n",
       "      <td>-4.328658</td>\n",
       "      <td>2.236771</td>\n",
       "    </tr>\n",
       "    <tr>\n",
       "      <th>80</th>\n",
       "      <td>-1.951065</td>\n",
       "      <td>-2.768963</td>\n",
       "      <td>-5.023765</td>\n",
       "      <td>1.945006</td>\n",
       "    </tr>\n",
       "    <tr>\n",
       "      <th>90</th>\n",
       "      <td>-2.078832</td>\n",
       "      <td>-1.507041</td>\n",
       "      <td>-5.634308</td>\n",
       "      <td>0.163927</td>\n",
       "    </tr>\n",
       "  </tbody>\n",
       "</table>\n",
       "</div>"
      ],
      "text/plain": [
       "           A         B         C         D\n",
       "0  -1.058547 -0.672012 -1.593150  0.648562\n",
       "10 -0.694388 -0.258582 -1.892848  0.514140\n",
       "20 -1.264294 -1.126837 -1.458018  0.997878\n",
       "30 -3.251744 -2.706355 -0.894165  1.931361\n",
       "40 -3.435517 -4.016027 -1.135191  1.114002\n",
       "50 -2.717374 -4.623178 -0.243654  1.219916\n",
       "60 -0.105498 -5.209845 -2.263094  1.264968\n",
       "70 -0.738251 -3.716768 -4.328658  2.236771\n",
       "80 -1.951065 -2.768963 -5.023765  1.945006\n",
       "90 -2.078832 -1.507041 -5.634308  0.163927"
      ]
     },
     "execution_count": 9,
     "metadata": {},
     "output_type": "execute_result"
    }
   ],
   "source": [
    "#DataFrame을 통한 line plot그리기 : (10,4) , 컬럼(A,B,C,D) , 인덱스는 10 step\n",
    "df=pd.DataFrame(np.random.randn(10,4).cumsum(axis=0),\n",
    "                             columns=['A',\"B\",\"C\",\"D\"],\n",
    "                            index=np.arange(0,100,10))\n",
    "df"
   ]
  },
  {
   "cell_type": "code",
   "execution_count": 10,
   "metadata": {
    "scrolled": true
   },
   "outputs": [
    {
     "data": {
      "text/plain": [
       "<matplotlib.axes._subplots.AxesSubplot at 0x18afd5dcfd0>"
      ]
     },
     "execution_count": 10,
     "metadata": {},
     "output_type": "execute_result"
    },
    {
     "data": {
      "image/png": "[encoded data removed]",
      "text/plain": [
       "<Figure size 432x288 with 1 Axes>"
      ]
     },
     "metadata": {},
     "output_type": "display_data"
    }
   ],
   "source": [
    "df.plot()"
   ]
  },
  {
   "cell_type": "code",
   "execution_count": 11,
   "metadata": {},
   "outputs": [
    {
     "data": {
      "text/plain": [
       "<matplotlib.axes._subplots.AxesSubplot at 0x18afce2cf60>"
      ]
     },
     "execution_count": 11,
     "metadata": {},
     "output_type": "execute_result"
    },
    {
     "data": {
      "image/png": "[encoded data removed]",
      "text/plain": [
       "<Figure size 432x288 with 1 Axes>"
      ]
     },
     "metadata": {},
     "output_type": "display_data"
    }
   ],
   "source": [
    "#하나의 열에 대해서만 보기\n",
    "df['B'].plot()"
   ]
  },
  {
   "cell_type": "markdown",
   "metadata": {},
   "source": [
    "###  (2) Bar plot 그리기"
   ]
  },
  {
   "cell_type": "code",
   "execution_count": 12,
   "metadata": {},
   "outputs": [
    {
     "data": {
      "text/plain": [
       "a    0.931890\n",
       "b    0.035505\n",
       "c    0.808152\n",
       "d    0.672935\n",
       "e    0.265591\n",
       "f    0.361235\n",
       "g    0.443331\n",
       "h    0.020398\n",
       "i    0.410317\n",
       "j    0.492500\n",
       "k    0.896788\n",
       "l    0.842923\n",
       "m    0.816878\n",
       "n    0.003839\n",
       "o    0.894434\n",
       "p    0.621532\n",
       "dtype: float64"
      ]
     },
     "execution_count": 12,
     "metadata": {},
     "output_type": "execute_result"
    }
   ],
   "source": [
    "s2= pd.Series(np.random.rand(16), index=list(\"abcdefghijklmnop\"))\n",
    "s2"
   ]
  },
  {
   "cell_type": "code",
   "execution_count": 13,
   "metadata": {},
   "outputs": [
    {
     "data": {
      "text/plain": [
       "<matplotlib.axes._subplots.AxesSubplot at 0x18afce2ce10>"
      ]
     },
     "execution_count": 13,
     "metadata": {},
     "output_type": "execute_result"
    },
    {
     "data": {
      "image/png": "[encoded data removed]",
      "text/plain": [
       "<Figure size 432x288 with 1 Axes>"
      ]
     },
     "metadata": {},
     "output_type": "display_data"
    }
   ],
   "source": [
    "s2.plot(kind='bar')"
   ]
  },
  {
   "cell_type": "code",
   "execution_count": 14,
   "metadata": {
    "scrolled": true
   },
   "outputs": [
    {
     "data": {
      "text/plain": [
       "<matplotlib.axes._subplots.AxesSubplot at 0x18afd464e80>"
      ]
     },
     "execution_count": 14,
     "metadata": {},
     "output_type": "execute_result"
    },
    {
     "data": {
      "image/png": "[encoded data removed]",
      "text/plain": [
       "<Figure size 432x288 with 1 Axes>"
      ]
     },
     "metadata": {},
     "output_type": "display_data"
    }
   ],
   "source": [
    "#h: horizontal\n",
    "s2.plot(kind='barh')"
   ]
  },
  {
   "cell_type": "code",
   "execution_count": 15,
   "metadata": {
    "scrolled": true
   },
   "outputs": [
    {
     "data": {
      "text/html": [
       "<div>\n",
       "<style scoped>\n",
       "    .dataframe tbody tr th:only-of-type {\n",
       "        vertical-align: middle;\n",
       "    }\n",
       "\n",
       "    .dataframe tbody tr th {\n",
       "        vertical-align: top;\n",
       "    }\n",
       "\n",
       "    .dataframe thead th {\n",
       "        text-align: right;\n",
       "    }\n",
       "</style>\n",
       "<table border=\"1\" class=\"dataframe\">\n",
       "  <thead>\n",
       "    <tr style=\"text-align: right;\">\n",
       "      <th>Genus</th>\n",
       "      <th>A</th>\n",
       "      <th>B</th>\n",
       "      <th>C</th>\n",
       "      <th>D</th>\n",
       "    </tr>\n",
       "  </thead>\n",
       "  <tbody>\n",
       "    <tr>\n",
       "      <th>one</th>\n",
       "      <td>0.361291</td>\n",
       "      <td>0.257811</td>\n",
       "      <td>0.248812</td>\n",
       "      <td>0.778874</td>\n",
       "    </tr>\n",
       "    <tr>\n",
       "      <th>two</th>\n",
       "      <td>0.894688</td>\n",
       "      <td>0.681802</td>\n",
       "      <td>0.460942</td>\n",
       "      <td>0.690802</td>\n",
       "    </tr>\n",
       "    <tr>\n",
       "      <th>three</th>\n",
       "      <td>0.027104</td>\n",
       "      <td>0.182335</td>\n",
       "      <td>0.848936</td>\n",
       "      <td>0.189856</td>\n",
       "    </tr>\n",
       "    <tr>\n",
       "      <th>four</th>\n",
       "      <td>0.988322</td>\n",
       "      <td>0.648912</td>\n",
       "      <td>0.788545</td>\n",
       "      <td>0.035243</td>\n",
       "    </tr>\n",
       "    <tr>\n",
       "      <th>five</th>\n",
       "      <td>0.388582</td>\n",
       "      <td>0.789607</td>\n",
       "      <td>0.058848</td>\n",
       "      <td>0.584083</td>\n",
       "    </tr>\n",
       "    <tr>\n",
       "      <th>six</th>\n",
       "      <td>0.473820</td>\n",
       "      <td>0.293222</td>\n",
       "      <td>0.138468</td>\n",
       "      <td>0.690701</td>\n",
       "    </tr>\n",
       "  </tbody>\n",
       "</table>\n",
       "</div>"
      ],
      "text/plain": [
       "Genus         A         B         C         D\n",
       "one    0.361291  0.257811  0.248812  0.778874\n",
       "two    0.894688  0.681802  0.460942  0.690802\n",
       "three  0.027104  0.182335  0.848936  0.189856\n",
       "four   0.988322  0.648912  0.788545  0.035243\n",
       "five   0.388582  0.789607  0.058848  0.584083\n",
       "six    0.473820  0.293222  0.138468  0.690701"
      ]
     },
     "execution_count": 15,
     "metadata": {},
     "output_type": "execute_result"
    }
   ],
   "source": [
    "#randn() & rand()\n",
    "df2=pd.DataFrame(np.random.rand(6,4),\n",
    "                 index=['one','two','three','four','five','six'],\n",
    "                 columns=pd.Index(['A','B','C','D'], name='Genus'))\n",
    "df2"
   ]
  },
  {
   "cell_type": "code",
   "execution_count": 16,
   "metadata": {},
   "outputs": [
    {
     "data": {
      "text/plain": [
       "<matplotlib.axes._subplots.AxesSubplot at 0x18afce2fef0>"
      ]
     },
     "execution_count": 16,
     "metadata": {},
     "output_type": "execute_result"
    },
    {
     "data": {
      "image/png": "[encoded data removed]",
      "text/plain": [
       "<Figure size 432x288 with 1 Axes>"
      ]
     },
     "metadata": {},
     "output_type": "display_data"
    }
   ],
   "source": [
    "df2.plot(kind='bar')"
   ]
  },
  {
   "cell_type": "code",
   "execution_count": 17,
   "metadata": {
    "scrolled": false
   },
   "outputs": [
    {
     "data": {
      "text/plain": [
       "<matplotlib.axes._subplots.AxesSubplot at 0x18afd877b70>"
      ]
     },
     "execution_count": 17,
     "metadata": {},
     "output_type": "execute_result"
    },
    {
     "data": {
      "image/png": "[encoded data removed]",
      "text/plain": [
       "<Figure size 432x288 with 1 Axes>"
      ]
     },
     "metadata": {},
     "output_type": "display_data"
    }
   ],
   "source": [
    "#stacked:하나의 인덱스에 대한 각 열의 값을 한줄로 쌓아서 나타내기\n",
    "df2.plot(kind='barh', stacked=True)"
   ]
  },
  {
   "cell_type": "markdown",
   "metadata": {},
   "source": [
    "### (3)Histogram"
   ]
  },
  {
   "cell_type": "code",
   "execution_count": 18,
   "metadata": {},
   "outputs": [
    {
     "data": {
      "text/plain": [
       "0     -1.298228\n",
       "1      1.708253\n",
       "2     -0.985436\n",
       "3      1.004070\n",
       "4     -0.610170\n",
       "5     -0.229489\n",
       "6     -2.154603\n",
       "7      2.302954\n",
       "8      1.823581\n",
       "9     -0.430464\n",
       "10    -0.671343\n",
       "11    -1.679978\n",
       "12    -0.026008\n",
       "13     0.665224\n",
       "14    -0.088833\n",
       "15    -0.979404\n",
       "16    -0.386705\n",
       "17    -1.025273\n",
       "18    -1.244194\n",
       "19    -0.012904\n",
       "20     0.177972\n",
       "21     0.083031\n",
       "22     0.526018\n",
       "23     0.350091\n",
       "24    -1.437427\n",
       "25    -0.721887\n",
       "26     1.124042\n",
       "27     1.691759\n",
       "28     0.018377\n",
       "29     0.569323\n",
       "         ...   \n",
       "170   -0.322901\n",
       "171    0.149958\n",
       "172   -0.670523\n",
       "173    0.176601\n",
       "174    0.330634\n",
       "175    0.148946\n",
       "176   -0.510442\n",
       "177   -0.143098\n",
       "178   -0.292185\n",
       "179   -1.110061\n",
       "180   -0.251102\n",
       "181    0.791558\n",
       "182    0.703453\n",
       "183   -2.194954\n",
       "184   -2.668317\n",
       "185   -0.191641\n",
       "186    0.541120\n",
       "187   -0.581360\n",
       "188    1.062826\n",
       "189   -0.396034\n",
       "190   -0.001852\n",
       "191    0.650519\n",
       "192    1.619444\n",
       "193   -0.411511\n",
       "194   -0.768906\n",
       "195   -1.385914\n",
       "196   -0.770438\n",
       "197    0.622753\n",
       "198    0.557079\n",
       "199   -1.106647\n",
       "Length: 200, dtype: float64"
      ]
     },
     "execution_count": 18,
     "metadata": {},
     "output_type": "execute_result"
    }
   ],
   "source": [
    "#Histogram은 index가 필요없다.\n",
    "s3=pd.Series(np.random.normal(0,1, size=200))\n",
    "s3\n"
   ]
  },
  {
   "cell_type": "code",
   "execution_count": 19,
   "metadata": {
    "scrolled": true
   },
   "outputs": [
    {
     "data": {
      "text/plain": [
       "<matplotlib.axes._subplots.AxesSubplot at 0x18afd8fc4e0>"
      ]
     },
     "execution_count": 19,
     "metadata": {},
     "output_type": "execute_result"
    },
    {
     "data": {
      "image/png": "[encoded data removed]",
      "text/plain": [
       "<Figure size 432x288 with 1 Axes>"
      ]
     },
     "metadata": {},
     "output_type": "display_data"
    }
   ],
   "source": [
    "#bin=x축의 구간갯수\n",
    "s3.hist(bins=50)"
   ]
  },
  {
   "cell_type": "code",
   "execution_count": 20,
   "metadata": {},
   "outputs": [
    {
     "name": "stderr",
     "output_type": "stream",
     "text": [
      "C:\\ProgramData\\Anaconda3\\lib\\site-packages\\matplotlib\\axes\\_axes.py:6462: UserWarning: The 'normed' kwarg is deprecated, and has been replaced by the 'density' kwarg.\n",
      "  warnings.warn(\"The 'normed' kwarg is deprecated, and has been \"\n"
     ]
    },
    {
     "data": {
      "text/plain": [
       "<matplotlib.axes._subplots.AxesSubplot at 0x18afec30f28>"
      ]
     },
     "execution_count": 20,
     "metadata": {},
     "output_type": "execute_result"
    },
    {
     "data": {
      "image/png": "[encoded data removed]",
      "text/plain": [
       "<Figure size 432x288 with 1 Axes>"
      ]
     },
     "metadata": {},
     "output_type": "display_data"
    }
   ],
   "source": [
    "#normed : 각 bin에 속하는 갯수를 전체갯수로 나눈비율, 즉 정규화한 값을 bar의 높이로 사용.\n",
    "s3.hist(bins=100, normed=True)"
   ]
  },
  {
   "cell_type": "markdown",
   "metadata": {},
   "source": [
    "### (4) Scatter Plot(산점도)"
   ]
  },
  {
   "cell_type": "code",
   "execution_count": 21,
   "metadata": {},
   "outputs": [
    {
     "data": {
      "text/plain": [
       "array([[ 2.57398965e-01,  1.96486720e+00],\n",
       "       [ 3.23062575e+00, -5.10613380e+00],\n",
       "       [-4.91393224e-02,  7.43224202e-01],\n",
       "       [ 2.14413275e+00, -2.18130831e+00],\n",
       "       [ 1.54839636e+00,  1.15548364e+00],\n",
       "       [ 2.74894055e-01, -1.06348638e+01],\n",
       "       [ 1.61922283e+00, -1.09964313e+00],\n",
       "       [-8.20348248e-02, -3.30142009e+00],\n",
       "       [ 1.70953476e+00, -1.83423676e+00],\n",
       "       [ 1.10440017e+00, -1.21539594e+00],\n",
       "       [ 2.26933159e+00, -4.28843383e+00],\n",
       "       [-9.50131093e-03,  5.87039446e+00],\n",
       "       [ 1.60945024e+00,  9.06192816e-01],\n",
       "       [ 2.24253820e+00, -6.34995824e+00],\n",
       "       [ 1.62575006e-01,  1.59080837e+00],\n",
       "       [ 9.51396182e-01, -5.46681901e+00],\n",
       "       [ 1.93949821e-01, -9.42821590e+00],\n",
       "       [ 4.59866192e-01, -9.06443510e-02],\n",
       "       [-3.43354500e-01, -8.38690551e+00],\n",
       "       [-7.01885585e-01, -3.36218221e+00],\n",
       "       [ 1.61793182e+00, -2.66728811e+00],\n",
       "       [ 7.31620195e-01, -1.48949136e+00],\n",
       "       [ 1.89608175e+00, -1.39606829e+01],\n",
       "       [ 4.67201371e-01, -2.46513397e+00],\n",
       "       [-6.33716711e-01, -7.38702376e+00],\n",
       "       [ 1.42337528e+00,  9.64314135e+00],\n",
       "       [ 5.52146851e-01, -6.25886936e+00],\n",
       "       [ 1.25341077e+00, -6.37979966e+00],\n",
       "       [ 1.47235370e+00, -3.45239216e+00],\n",
       "       [-4.39751653e-01, -4.54850731e+00],\n",
       "       [ 1.36154146e+00,  3.75126102e+00],\n",
       "       [ 1.93800096e+00, -2.13632018e+00],\n",
       "       [ 1.29124578e+00,  1.44112283e+00],\n",
       "       [ 9.86322926e-02, -1.29037860e+00],\n",
       "       [ 1.48104383e+00, -7.67998307e+00],\n",
       "       [ 1.10214827e-01,  1.04395208e+00],\n",
       "       [ 1.29236532e+00,  1.51837356e+00],\n",
       "       [ 1.47769024e+00, -7.33525071e+00],\n",
       "       [ 2.11463265e+00, -6.07469626e+00],\n",
       "       [-5.60473701e-02, -1.03688983e+01],\n",
       "       [ 1.06905760e+00, -2.47296001e+00],\n",
       "       [ 2.85015497e+00,  6.86991444e+00],\n",
       "       [ 5.93317197e-01, -1.65032557e+00],\n",
       "       [ 1.45480841e+00, -9.17992471e-01],\n",
       "       [ 4.96161531e-01, -9.02076033e-01],\n",
       "       [ 5.68860328e-01,  2.32208495e+00],\n",
       "       [ 7.74777704e-01, -1.04782824e+01],\n",
       "       [ 5.32614540e-01, -1.83155958e+00],\n",
       "       [-1.46125060e-01, -6.66411086e+00],\n",
       "       [ 8.45989472e-01, -6.60462263e+00],\n",
       "       [ 9.93896918e-01,  5.00931684e+00],\n",
       "       [ 1.87005510e-01, -6.45366472e+00],\n",
       "       [ 4.00323167e-01, -3.06486693e+00],\n",
       "       [ 1.99683421e+00,  2.59389255e+00],\n",
       "       [ 7.19350383e-01, -1.10042795e+00],\n",
       "       [ 8.73107707e-01,  3.76633746e+00],\n",
       "       [ 2.18634405e+00, -3.17786661e+00],\n",
       "       [ 2.66046175e-01, -2.20270980e+00],\n",
       "       [-5.46282396e-01, -1.14955443e+01],\n",
       "       [ 1.98367304e+00, -1.05786159e+00],\n",
       "       [ 1.43931920e+00, -5.46753470e+00],\n",
       "       [ 7.91905230e-01,  8.14266667e+00],\n",
       "       [ 1.46293963e+00, -3.98414246e+00],\n",
       "       [-8.42603992e-01, -5.50458887e+00],\n",
       "       [ 1.02126597e-01, -5.48054593e+00],\n",
       "       [ 1.57101249e+00, -4.12611708e+00],\n",
       "       [ 1.01987336e+00,  4.21271585e-01],\n",
       "       [ 1.66037662e+00,  3.06882917e+00],\n",
       "       [ 1.14425156e+00,  1.11117406e+00],\n",
       "       [-1.57731661e-02, -2.30747114e+00],\n",
       "       [ 2.47640842e+00, -1.13358454e+01],\n",
       "       [ 2.31948180e+00, -1.85650935e+00],\n",
       "       [ 9.67872482e-01, -2.09213242e+00],\n",
       "       [ 1.20109832e+00, -5.74880001e+00],\n",
       "       [ 2.57288148e+00, -1.13825484e+00],\n",
       "       [ 1.19520287e+00, -9.08628668e-01],\n",
       "       [ 2.38649775e+00, -3.00134909e+00],\n",
       "       [ 6.96109422e-01, -6.71663980e+00],\n",
       "       [ 1.46527115e+00, -1.15008917e+01],\n",
       "       [ 9.62896285e-01, -2.89984176e+00],\n",
       "       [ 1.05476071e-01, -8.36262505e+00],\n",
       "       [ 4.42515585e-01,  5.38606289e-02],\n",
       "       [ 1.81216377e+00, -3.43929365e+00],\n",
       "       [ 1.44129997e-01, -3.43212852e+00],\n",
       "       [ 5.59951569e-01,  1.69476455e+00],\n",
       "       [ 1.72932408e+00, -4.16320194e+00],\n",
       "       [ 4.84309066e-01, -1.27071563e+00],\n",
       "       [ 1.43037928e+00, -3.49604885e+00],\n",
       "       [ 3.53951486e-01,  4.32228489e+00],\n",
       "       [ 1.17161002e+00, -4.72323735e+00],\n",
       "       [ 1.68419272e+00, -4.06117287e+00],\n",
       "       [-6.10182498e-01,  6.39462569e+00],\n",
       "       [ 1.08609659e+00, -5.75852174e+00],\n",
       "       [ 1.27391802e+00, -9.85510075e+00],\n",
       "       [ 1.45835762e+00, -4.81860752e+00],\n",
       "       [ 1.76301409e+00, -6.23652157e+00],\n",
       "       [ 1.27078992e+00, -3.70728131e+00],\n",
       "       [ 1.16719631e+00,  8.99792465e+00],\n",
       "       [ 1.34535579e+00, -3.67873707e+00],\n",
       "       [ 1.17591898e+00,  3.52557129e+00]])"
      ]
     },
     "execution_count": 21,
     "metadata": {},
     "output_type": "execute_result"
    }
   ],
   "source": [
    "#산점도: 서로 두개의 독립변수에 대해서 어떤 관계가 있는지 살펴보기 위한 목적\n",
    "\n",
    "\n",
    "#np.random.normal(정규분포 평균, 표준편차, (행, 열) or 개수) : 정규 분포 확률 밀도에서 표본 추출\n",
    "x1=np.random.normal(1,1, size=(100,1))\n",
    "x2=np.random.normal(-2,4, size=(100,1))  #100행 1열\n",
    "x=np.concatenate((x1,x2), axis=1)\n",
    "x"
   ]
  },
  {
   "cell_type": "code",
   "execution_count": 22,
   "metadata": {},
   "outputs": [
    {
     "data": {
      "text/html": [
       "<div>\n",
       "<style scoped>\n",
       "    .dataframe tbody tr th:only-of-type {\n",
       "        vertical-align: middle;\n",
       "    }\n",
       "\n",
       "    .dataframe tbody tr th {\n",
       "        vertical-align: top;\n",
       "    }\n",
       "\n",
       "    .dataframe thead th {\n",
       "        text-align: right;\n",
       "    }\n",
       "</style>\n",
       "<table border=\"1\" class=\"dataframe\">\n",
       "  <thead>\n",
       "    <tr style=\"text-align: right;\">\n",
       "      <th></th>\n",
       "      <th>x1</th>\n",
       "      <th>x2</th>\n",
       "    </tr>\n",
       "  </thead>\n",
       "  <tbody>\n",
       "    <tr>\n",
       "      <th>0</th>\n",
       "      <td>0.257399</td>\n",
       "      <td>1.964867</td>\n",
       "    </tr>\n",
       "    <tr>\n",
       "      <th>1</th>\n",
       "      <td>3.230626</td>\n",
       "      <td>-5.106134</td>\n",
       "    </tr>\n",
       "    <tr>\n",
       "      <th>2</th>\n",
       "      <td>-0.049139</td>\n",
       "      <td>0.743224</td>\n",
       "    </tr>\n",
       "    <tr>\n",
       "      <th>3</th>\n",
       "      <td>2.144133</td>\n",
       "      <td>-2.181308</td>\n",
       "    </tr>\n",
       "    <tr>\n",
       "      <th>4</th>\n",
       "      <td>1.548396</td>\n",
       "      <td>1.155484</td>\n",
       "    </tr>\n",
       "    <tr>\n",
       "      <th>5</th>\n",
       "      <td>0.274894</td>\n",
       "      <td>-10.634864</td>\n",
       "    </tr>\n",
       "    <tr>\n",
       "      <th>6</th>\n",
       "      <td>1.619223</td>\n",
       "      <td>-1.099643</td>\n",
       "    </tr>\n",
       "    <tr>\n",
       "      <th>7</th>\n",
       "      <td>-0.082035</td>\n",
       "      <td>-3.301420</td>\n",
       "    </tr>\n",
       "    <tr>\n",
       "      <th>8</th>\n",
       "      <td>1.709535</td>\n",
       "      <td>-1.834237</td>\n",
       "    </tr>\n",
       "    <tr>\n",
       "      <th>9</th>\n",
       "      <td>1.104400</td>\n",
       "      <td>-1.215396</td>\n",
       "    </tr>\n",
       "    <tr>\n",
       "      <th>10</th>\n",
       "      <td>2.269332</td>\n",
       "      <td>-4.288434</td>\n",
       "    </tr>\n",
       "    <tr>\n",
       "      <th>11</th>\n",
       "      <td>-0.009501</td>\n",
       "      <td>5.870394</td>\n",
       "    </tr>\n",
       "    <tr>\n",
       "      <th>12</th>\n",
       "      <td>1.609450</td>\n",
       "      <td>0.906193</td>\n",
       "    </tr>\n",
       "    <tr>\n",
       "      <th>13</th>\n",
       "      <td>2.242538</td>\n",
       "      <td>-6.349958</td>\n",
       "    </tr>\n",
       "    <tr>\n",
       "      <th>14</th>\n",
       "      <td>0.162575</td>\n",
       "      <td>1.590808</td>\n",
       "    </tr>\n",
       "    <tr>\n",
       "      <th>15</th>\n",
       "      <td>0.951396</td>\n",
       "      <td>-5.466819</td>\n",
       "    </tr>\n",
       "    <tr>\n",
       "      <th>16</th>\n",
       "      <td>0.193950</td>\n",
       "      <td>-9.428216</td>\n",
       "    </tr>\n",
       "    <tr>\n",
       "      <th>17</th>\n",
       "      <td>0.459866</td>\n",
       "      <td>-0.090644</td>\n",
       "    </tr>\n",
       "    <tr>\n",
       "      <th>18</th>\n",
       "      <td>-0.343355</td>\n",
       "      <td>-8.386906</td>\n",
       "    </tr>\n",
       "    <tr>\n",
       "      <th>19</th>\n",
       "      <td>-0.701886</td>\n",
       "      <td>-3.362182</td>\n",
       "    </tr>\n",
       "    <tr>\n",
       "      <th>20</th>\n",
       "      <td>1.617932</td>\n",
       "      <td>-2.667288</td>\n",
       "    </tr>\n",
       "    <tr>\n",
       "      <th>21</th>\n",
       "      <td>0.731620</td>\n",
       "      <td>-1.489491</td>\n",
       "    </tr>\n",
       "    <tr>\n",
       "      <th>22</th>\n",
       "      <td>1.896082</td>\n",
       "      <td>-13.960683</td>\n",
       "    </tr>\n",
       "    <tr>\n",
       "      <th>23</th>\n",
       "      <td>0.467201</td>\n",
       "      <td>-2.465134</td>\n",
       "    </tr>\n",
       "    <tr>\n",
       "      <th>24</th>\n",
       "      <td>-0.633717</td>\n",
       "      <td>-7.387024</td>\n",
       "    </tr>\n",
       "    <tr>\n",
       "      <th>25</th>\n",
       "      <td>1.423375</td>\n",
       "      <td>9.643141</td>\n",
       "    </tr>\n",
       "    <tr>\n",
       "      <th>26</th>\n",
       "      <td>0.552147</td>\n",
       "      <td>-6.258869</td>\n",
       "    </tr>\n",
       "    <tr>\n",
       "      <th>27</th>\n",
       "      <td>1.253411</td>\n",
       "      <td>-6.379800</td>\n",
       "    </tr>\n",
       "    <tr>\n",
       "      <th>28</th>\n",
       "      <td>1.472354</td>\n",
       "      <td>-3.452392</td>\n",
       "    </tr>\n",
       "    <tr>\n",
       "      <th>29</th>\n",
       "      <td>-0.439752</td>\n",
       "      <td>-4.548507</td>\n",
       "    </tr>\n",
       "    <tr>\n",
       "      <th>...</th>\n",
       "      <td>...</td>\n",
       "      <td>...</td>\n",
       "    </tr>\n",
       "    <tr>\n",
       "      <th>70</th>\n",
       "      <td>2.476408</td>\n",
       "      <td>-11.335845</td>\n",
       "    </tr>\n",
       "    <tr>\n",
       "      <th>71</th>\n",
       "      <td>2.319482</td>\n",
       "      <td>-1.856509</td>\n",
       "    </tr>\n",
       "    <tr>\n",
       "      <th>72</th>\n",
       "      <td>0.967872</td>\n",
       "      <td>-2.092132</td>\n",
       "    </tr>\n",
       "    <tr>\n",
       "      <th>73</th>\n",
       "      <td>1.201098</td>\n",
       "      <td>-5.748800</td>\n",
       "    </tr>\n",
       "    <tr>\n",
       "      <th>74</th>\n",
       "      <td>2.572881</td>\n",
       "      <td>-1.138255</td>\n",
       "    </tr>\n",
       "    <tr>\n",
       "      <th>75</th>\n",
       "      <td>1.195203</td>\n",
       "      <td>-0.908629</td>\n",
       "    </tr>\n",
       "    <tr>\n",
       "      <th>76</th>\n",
       "      <td>2.386498</td>\n",
       "      <td>-3.001349</td>\n",
       "    </tr>\n",
       "    <tr>\n",
       "      <th>77</th>\n",
       "      <td>0.696109</td>\n",
       "      <td>-6.716640</td>\n",
       "    </tr>\n",
       "    <tr>\n",
       "      <th>78</th>\n",
       "      <td>1.465271</td>\n",
       "      <td>-11.500892</td>\n",
       "    </tr>\n",
       "    <tr>\n",
       "      <th>79</th>\n",
       "      <td>0.962896</td>\n",
       "      <td>-2.899842</td>\n",
       "    </tr>\n",
       "    <tr>\n",
       "      <th>80</th>\n",
       "      <td>0.105476</td>\n",
       "      <td>-8.362625</td>\n",
       "    </tr>\n",
       "    <tr>\n",
       "      <th>81</th>\n",
       "      <td>0.442516</td>\n",
       "      <td>0.053861</td>\n",
       "    </tr>\n",
       "    <tr>\n",
       "      <th>82</th>\n",
       "      <td>1.812164</td>\n",
       "      <td>-3.439294</td>\n",
       "    </tr>\n",
       "    <tr>\n",
       "      <th>83</th>\n",
       "      <td>0.144130</td>\n",
       "      <td>-3.432129</td>\n",
       "    </tr>\n",
       "    <tr>\n",
       "      <th>84</th>\n",
       "      <td>0.559952</td>\n",
       "      <td>1.694765</td>\n",
       "    </tr>\n",
       "    <tr>\n",
       "      <th>85</th>\n",
       "      <td>1.729324</td>\n",
       "      <td>-4.163202</td>\n",
       "    </tr>\n",
       "    <tr>\n",
       "      <th>86</th>\n",
       "      <td>0.484309</td>\n",
       "      <td>-1.270716</td>\n",
       "    </tr>\n",
       "    <tr>\n",
       "      <th>87</th>\n",
       "      <td>1.430379</td>\n",
       "      <td>-3.496049</td>\n",
       "    </tr>\n",
       "    <tr>\n",
       "      <th>88</th>\n",
       "      <td>0.353951</td>\n",
       "      <td>4.322285</td>\n",
       "    </tr>\n",
       "    <tr>\n",
       "      <th>89</th>\n",
       "      <td>1.171610</td>\n",
       "      <td>-4.723237</td>\n",
       "    </tr>\n",
       "    <tr>\n",
       "      <th>90</th>\n",
       "      <td>1.684193</td>\n",
       "      <td>-4.061173</td>\n",
       "    </tr>\n",
       "    <tr>\n",
       "      <th>91</th>\n",
       "      <td>-0.610182</td>\n",
       "      <td>6.394626</td>\n",
       "    </tr>\n",
       "    <tr>\n",
       "      <th>92</th>\n",
       "      <td>1.086097</td>\n",
       "      <td>-5.758522</td>\n",
       "    </tr>\n",
       "    <tr>\n",
       "      <th>93</th>\n",
       "      <td>1.273918</td>\n",
       "      <td>-9.855101</td>\n",
       "    </tr>\n",
       "    <tr>\n",
       "      <th>94</th>\n",
       "      <td>1.458358</td>\n",
       "      <td>-4.818608</td>\n",
       "    </tr>\n",
       "    <tr>\n",
       "      <th>95</th>\n",
       "      <td>1.763014</td>\n",
       "      <td>-6.236522</td>\n",
       "    </tr>\n",
       "    <tr>\n",
       "      <th>96</th>\n",
       "      <td>1.270790</td>\n",
       "      <td>-3.707281</td>\n",
       "    </tr>\n",
       "    <tr>\n",
       "      <th>97</th>\n",
       "      <td>1.167196</td>\n",
       "      <td>8.997925</td>\n",
       "    </tr>\n",
       "    <tr>\n",
       "      <th>98</th>\n",
       "      <td>1.345356</td>\n",
       "      <td>-3.678737</td>\n",
       "    </tr>\n",
       "    <tr>\n",
       "      <th>99</th>\n",
       "      <td>1.175919</td>\n",
       "      <td>3.525571</td>\n",
       "    </tr>\n",
       "  </tbody>\n",
       "</table>\n",
       "<p>100 rows × 2 columns</p>\n",
       "</div>"
      ],
      "text/plain": [
       "          x1         x2\n",
       "0   0.257399   1.964867\n",
       "1   3.230626  -5.106134\n",
       "2  -0.049139   0.743224\n",
       "3   2.144133  -2.181308\n",
       "4   1.548396   1.155484\n",
       "5   0.274894 -10.634864\n",
       "6   1.619223  -1.099643\n",
       "7  -0.082035  -3.301420\n",
       "8   1.709535  -1.834237\n",
       "9   1.104400  -1.215396\n",
       "10  2.269332  -4.288434\n",
       "11 -0.009501   5.870394\n",
       "12  1.609450   0.906193\n",
       "13  2.242538  -6.349958\n",
       "14  0.162575   1.590808\n",
       "15  0.951396  -5.466819\n",
       "16  0.193950  -9.428216\n",
       "17  0.459866  -0.090644\n",
       "18 -0.343355  -8.386906\n",
       "19 -0.701886  -3.362182\n",
       "20  1.617932  -2.667288\n",
       "21  0.731620  -1.489491\n",
       "22  1.896082 -13.960683\n",
       "23  0.467201  -2.465134\n",
       "24 -0.633717  -7.387024\n",
       "25  1.423375   9.643141\n",
       "26  0.552147  -6.258869\n",
       "27  1.253411  -6.379800\n",
       "28  1.472354  -3.452392\n",
       "29 -0.439752  -4.548507\n",
       "..       ...        ...\n",
       "70  2.476408 -11.335845\n",
       "71  2.319482  -1.856509\n",
       "72  0.967872  -2.092132\n",
       "73  1.201098  -5.748800\n",
       "74  2.572881  -1.138255\n",
       "75  1.195203  -0.908629\n",
       "76  2.386498  -3.001349\n",
       "77  0.696109  -6.716640\n",
       "78  1.465271 -11.500892\n",
       "79  0.962896  -2.899842\n",
       "80  0.105476  -8.362625\n",
       "81  0.442516   0.053861\n",
       "82  1.812164  -3.439294\n",
       "83  0.144130  -3.432129\n",
       "84  0.559952   1.694765\n",
       "85  1.729324  -4.163202\n",
       "86  0.484309  -1.270716\n",
       "87  1.430379  -3.496049\n",
       "88  0.353951   4.322285\n",
       "89  1.171610  -4.723237\n",
       "90  1.684193  -4.061173\n",
       "91 -0.610182   6.394626\n",
       "92  1.086097  -5.758522\n",
       "93  1.273918  -9.855101\n",
       "94  1.458358  -4.818608\n",
       "95  1.763014  -6.236522\n",
       "96  1.270790  -3.707281\n",
       "97  1.167196   8.997925\n",
       "98  1.345356  -3.678737\n",
       "99  1.175919   3.525571\n",
       "\n",
       "[100 rows x 2 columns]"
      ]
     },
     "execution_count": 22,
     "metadata": {},
     "output_type": "execute_result"
    }
   ],
   "source": [
    "df3=pd.DataFrame(x, columns=['x1','x2'])\n",
    "df3"
   ]
  },
  {
   "cell_type": "code",
   "execution_count": 23,
   "metadata": {},
   "outputs": [
    {
     "data": {
      "text/plain": [
       "<matplotlib.collections.PathCollection at 0x18afee98048>"
      ]
     },
     "execution_count": 23,
     "metadata": {},
     "output_type": "execute_result"
    },
    {
     "data": {
      "image/png": "[encoded data removed]",
      "text/plain": [
       "<Figure size 432x288 with 1 Axes>"
      ]
     },
     "metadata": {},
     "output_type": "display_data"
    }
   ],
   "source": [
    "#x축: df3['x1'], y축:df3['x2']\n",
    "plt.scatter(df3['x1'], df3['x2'])"
   ]
  },
  {
   "cell_type": "markdown",
   "metadata": {},
   "source": [
    "### (5) Plot모양 변형하기"
   ]
  },
  {
   "cell_type": "code",
   "execution_count": 24,
   "metadata": {},
   "outputs": [
    {
     "data": {
      "image/png": "[encoded data removed]",
      "text/plain": [
       "<Figure size 432x288 with 1 Axes>"
      ]
     },
     "metadata": {},
     "output_type": "display_data"
    }
   ],
   "source": [
    "#비어 있는 figure생성\n",
    "fig=plt.figure()\n",
    "ax1=fig.add_subplot(1,1,1)\n",
    "#ax2=fig.add_subplot(2,2,2)\n",
    "#ax3=fig.add_subplot(2,2,3)\n",
    "plt.show()"
   ]
  },
  {
   "cell_type": "code",
   "execution_count": 29,
   "metadata": {},
   "outputs": [
    {
     "data": {
      "image/png": "[encoded data removed]",
      "text/plain": [
       "<Figure size 648x648 with 3 Axes>"
      ]
     },
     "metadata": {},
     "output_type": "display_data"
    }
   ],
   "source": [
    "fig=plt.figure(figsize=(9,9))\n",
    "ax=fig.add_subplot(1,1,1)  #전체크기 x:1,y:1 순서:1\n",
    "\n",
    "ax=fig.add_subplot(2,2,2) # 전체 크기:2\n",
    "\n",
    "ax=fig.add_subplot(2,2,3)\n",
    "plt.show()"
   ]
  },
  {
   "cell_type": "code",
   "execution_count": 30,
   "metadata": {},
   "outputs": [
    {
     "data": {
      "image/png": "[encoded data removed]",
      "text/plain": [
       "<Figure size 432x288 with 2 Axes>"
      ]
     },
     "metadata": {},
     "output_type": "display_data"
    }
   ],
   "source": [
    "# 전체 창을 가로 1칸, 세로 2칸, 그중 첫번째 칸에 ex1, 두번쨰 칸에 ex2 생성하기\n",
    "\n",
    "fig=plt.figure()\n",
    "ex1=fig.add_subplot(1,2,1)  \n",
    "\n",
    "ex2=fig.add_subplot(1,2,2) \n",
    "\n",
    "plt.show()"
   ]
  },
  {
   "cell_type": "code",
   "execution_count": 76,
   "metadata": {},
   "outputs": [
    {
     "data": {
      "image/png": "[encoded data removed]",
      "text/plain": [
       "<Figure size 432x288 with 2 Axes>"
      ]
     },
     "metadata": {},
     "output_type": "display_data"
    }
   ],
   "source": [
    "# 전체 창을 가로 1칸, 세로 2칸, 그중 첫번째 칸에 ex1, 두번쨰 칸에 ex2 생성하기\n",
    "\n",
    "fig=plt.figure()\n",
    "ax1=fig.add_subplot(1,2,1)  \n",
    "ax1.set(xlim=[0.,1.],ylim=[-0.5,2.5],title=\"Example\",xlabel=\"yAxis\",ylabel=\"yAxis\")\n",
    "ax2=fig.add_subplot(1,2,2) \n",
    "ax2.set_xlim([0.,1.])\n",
    "ax2.set_ylim([-3.5,3.5])\n",
    "ax2.set_title(\"Example2\")\n",
    "ax2.set_xlabel(\"X\")\n",
    "ax2.set_ylabel(\"Y\")\n",
    "\n",
    "x=np.array([1,3,6,4])\n",
    "y=np.array([10,20,25,40])\n",
    "ax1.plot(x,y,color='red',linewidth=3)\n",
    "\n",
    "\n",
    "plt.show()"
   ]
  },
  {
   "cell_type": "code",
   "execution_count": 58,
   "metadata": {},
   "outputs": [
    {
     "data": {
      "image/png": "[encoded data removed]",
      "text/plain": [
       "<Figure size 432x288 with 1 Axes>"
      ]
     },
     "metadata": {},
     "output_type": "display_data"
    }
   ],
   "source": [
    "fig=plt.figure()\n",
    "ax=fig.add_subplot(1,1,1)\n",
    "x=np.array([0.3,3.8,1.2,2.5])\n",
    "y=np.array([11,25,8,25])\n",
    "ax.scatter(x,y,marker='^',color='darkgreen')\n",
    "plt.show()"
   ]
  },
  {
   "cell_type": "code",
   "execution_count": null,
   "metadata": {},
   "outputs": [],
   "source": []
  },
  {
   "cell_type": "code",
   "execution_count": null,
   "metadata": {},
   "outputs": [],
   "source": []
  },
  {
   "cell_type": "code",
   "execution_count": null,
   "metadata": {},
   "outputs": [],
   "source": []
  },
  {
   "cell_type": "code",
   "execution_count": null,
   "metadata": {},
   "outputs": [],
   "source": []
  },
  {
   "cell_type": "code",
   "execution_count": null,
   "metadata": {},
   "outputs": [],
   "source": []
  },
  {
   "cell_type": "code",
   "execution_count": null,
   "metadata": {},
   "outputs": [],
   "source": []
  }
 ],
 "metadata": {
  "kernelspec": {
   "display_name": "Python 3",
   "language": "python",
   "name": "python3"
  },
  "language_info": {
   "codemirror_mode": {
    "name": "ipython",
    "version": 3
   },
   "file_extension": ".py",
   "mimetype": "text/x-python",
   "name": "python",
   "nbconvert_exporter": "python",
   "pygments_lexer": "ipython3",
   "version": "3.6.5"
  }
 },
 "nbformat": 4,
 "nbformat_minor": 2
}
