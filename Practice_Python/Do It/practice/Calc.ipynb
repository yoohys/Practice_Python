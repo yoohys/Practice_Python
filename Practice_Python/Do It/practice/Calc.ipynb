{
 "cells": [
  {
   "cell_type": "markdown",
   "metadata": {},
   "source": [
    "### 컴퓨터는 random 모듈을 이용해서 간단한 덧셈, 뺄셈, 곱셈 문제를 임의로 만들어 보여 줍니다. \n",
    "### 사용자가 이 문제를 보고 계산을 해서 답을 입력하면, 컴퓨터는 이 답이 정답인지 오답인지 계산해서 점수를 매깁니다. \n",
    "### 이 과정을 다섯 번 반복해서 전체 정답 수를 알려 주는 게임입니다."
   ]
  },
  {
   "cell_type": "markdown",
   "metadata": {},
   "source": [
    "# 프로젝트1 :계산 문제를 맞추는 게임"
   ]
  },
  {
   "cell_type": "code",
   "execution_count": null,
   "metadata": {},
   "outputs": [],
   "source": []
  },
  {
   "cell_type": "code",
   "execution_count": 71,
   "metadata": {},
   "outputs": [
    {
     "name": "stdout",
     "output_type": "stream",
     "text": [
      "8-10\n",
      "= -2\n",
      "정답!\n",
      "38+13\n",
      "= 51\n",
      "정답!\n",
      "13*13\n",
      "= 169\n",
      "정답!\n",
      "6-19\n",
      "= -13\n",
      "정답!\n",
      "15+13\n",
      "= 28\n",
      "정답!\n",
      "정답: 5 오답: 0\n",
      "당신은 천재입니다!\n"
     ]
    }
   ],
   "source": [
    "import random\n",
    "\n",
    "def make_question():\n",
    "    a=random.randint(1,40)\n",
    "    b=random.randint(1,20)\n",
    "    op=random.randint(1,3)\n",
    "    q=str(a)\n",
    "    if op==1:\n",
    "        op=\"+\"\n",
    "    elif op==2:\n",
    "        op=\"-\"\n",
    "    else:\n",
    "        op=\"*\"\n",
    "    q2=str(b)\n",
    "    return q+op+q2\n",
    "    \n",
    "\n",
    "# 정답/오답 횟수를 저장할 변수 sc1과 sc2를 0으로 초기화합니다.\n",
    "sc1 = 0\n",
    "sc2 = 0\n",
    "for i in range(0,5):\n",
    "    q = make_question()\n",
    "    print(q)\n",
    "    r = input(\"= \")\n",
    "    if eval(q)==int(r):\n",
    "        sc1=sc1+1\n",
    "        print(\"정답!\")\n",
    "    else:\n",
    "        sc2=sc2+1\n",
    "        print(\"오답!\")\n",
    "        \n",
    "print(\"정답: \"+str(sc1)+\" 오답: \"+str(sc2))\n",
    "if sc1==5:\n",
    "    print(\"당신은 천재입니다!\")\n",
    "elif sc2==5:\n",
    "    print(\"다 틀렸군요!\")\n",
    "else:\n",
    "    print(\"수고하셧습니다!\")"
   ]
  }
 ],
 "metadata": {
  "kernelspec": {
   "display_name": "Python 3",
   "language": "python",
   "name": "python3"
  },
  "language_info": {
   "codemirror_mode": {
    "name": "ipython",
    "version": 3
   },
   "file_extension": ".py",
   "mimetype": "text/x-python",
   "name": "python",
   "nbconvert_exporter": "python",
   "pygments_lexer": "ipython3",
   "version": "3.6.5"
  }
 },
 "nbformat": 4,
 "nbformat_minor": 2
}
