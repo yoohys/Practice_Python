{
 "cells": [
  {
   "cell_type": "markdown",
   "metadata": {},
   "source": [
    "# Turtle Run"
   ]
  },
  {
   "cell_type": "code",
   "execution_count": 9,
   "metadata": {},
   "outputs": [],
   "source": [
    "import turtle as t\n",
    "d= 100\n",
    "\n",
    "#삼각형 그리기\n",
    "t.color(\"red\")\n",
    "t.forward(d) #거리\n",
    "t.left(120) #각도\n",
    "t.forward(d)\n",
    "t.left(120)\n",
    "t.forward(d)\n",
    "t.left(120)\n",
    "\n",
    "#사각형 그리기\n",
    "t.color(\"red\")\n",
    "t.pensize(3) #펜 두께\n",
    "t.forward(d)\n",
    "t.left(90)\n",
    "t.forward(d)\n",
    "t.left(90)\n",
    "t.forward(d)\n",
    "t.left(90)\n",
    "t.forward(d)\n",
    "t.left(90)\n",
    "\n",
    "#원 그리기\n",
    "t.color(\"blue\")\n",
    "t.pensize(5)\n",
    "t.circle(50) #반지름 : 50\n",
    "\n",
    "t.done()"
   ]
  },
  {
   "cell_type": "code",
   "execution_count": 14,
   "metadata": {},
   "outputs": [],
   "source": [
    "# 정오각형 그리기(for)\n",
    "\n",
    "import turtle as t\n",
    "d= 100\n",
    "\n",
    "t.color(\"green\")\n",
    "t.begin_fill() #색칠할 영역 시작\n",
    "for i in range(0,5):\n",
    "    t.forward(d)\n",
    "    t.left(72)\n",
    "t.end_fill() #색칠할 영역 끝\n",
    "t.done()"
   ]
  },
  {
   "cell_type": "code",
   "execution_count": 19,
   "metadata": {},
   "outputs": [],
   "source": [
    "# 원 반복해서 그리기\n",
    "\n",
    "import turtle as t\n",
    "\n",
    "t.color(\"green\")\n",
    "t.bgcolor(\"black\")\n",
    "t.speed(0) #거북이 속도를 빠르게\n",
    "for i in range(0,50):\n",
    "    t.circle(80)\n",
    "    t.left(7.2)\n",
    "\n",
    "t.done()"
   ]
  },
  {
   "cell_type": "code",
   "execution_count": 29,
   "metadata": {},
   "outputs": [],
   "source": [
    "# 선 반복해서 그리기\n",
    "\n",
    "import turtle as t\n",
    "\n",
    "t.color(\"yellow\")\n",
    "t.bgcolor(\"black\")\n",
    "t.speed(0) #거북이 속도를 빠르게\n",
    "for i in range(200):\n",
    "    t.forward(i)\n",
    "    t.left(75)\n",
    "\n",
    "t.done()"
   ]
  },
  {
   "cell_type": "code",
   "execution_count": 6,
   "metadata": {},
   "outputs": [
    {
     "ename": "Terminator",
     "evalue": "",
     "output_type": "error",
     "traceback": [
      "\u001b[1;31m---------------------------------------------------------------------------\u001b[0m",
      "\u001b[1;31mTerminator\u001b[0m                                Traceback (most recent call last)",
      "\u001b[1;32m<ipython-input-6-33de8d3538e6>\u001b[0m in \u001b[0;36m<module>\u001b[1;34m()\u001b[0m\n\u001b[0;32m      4\u001b[0m \u001b[1;32mimport\u001b[0m \u001b[0mrandom\u001b[0m\u001b[1;33m\u001b[0m\u001b[0m\n\u001b[0;32m      5\u001b[0m \u001b[1;33m\u001b[0m\u001b[0m\n\u001b[1;32m----> 6\u001b[1;33m \u001b[0mt\u001b[0m\u001b[1;33m.\u001b[0m\u001b[0mcolor\u001b[0m\u001b[1;33m(\u001b[0m\u001b[1;34m\"yellow\"\u001b[0m\u001b[1;33m)\u001b[0m\u001b[1;33m\u001b[0m\u001b[0m\n\u001b[0m\u001b[0;32m      7\u001b[0m \u001b[0mt\u001b[0m\u001b[1;33m.\u001b[0m\u001b[0mbgcolor\u001b[0m\u001b[1;33m(\u001b[0m\u001b[1;34m\"black\"\u001b[0m\u001b[1;33m)\u001b[0m \u001b[1;31m#shape : classic(default),turtle, triangle\u001b[0m\u001b[1;33m\u001b[0m\u001b[0m\n\u001b[0;32m      8\u001b[0m \u001b[0mt\u001b[0m\u001b[1;33m.\u001b[0m\u001b[0mshape\u001b[0m\u001b[1;33m(\u001b[0m\u001b[1;34m\"turtle\"\u001b[0m\u001b[1;33m)\u001b[0m\u001b[1;33m\u001b[0m\u001b[0m\n",
      "\u001b[1;32mC:\\ProgramData\\Anaconda3\\lib\\turtle.py\u001b[0m in \u001b[0;36mcolor\u001b[1;34m(*args)\u001b[0m\n",
      "\u001b[1;31mTerminator\u001b[0m: "
     ]
    }
   ],
   "source": [
    "# 마음대로 걷는 거북이\n",
    "\n",
    "import turtle as t\n",
    "import random \n",
    "\n",
    "t.color(\"yellow\")\n",
    "t.bgcolor(\"black\") #shape : classic(default),turtle, triangle\n",
    "t.shape(\"turtle\")\n",
    "t.speed(3) #거북이 속도를 빠르게\n",
    "\n",
    "for i in range(500):\n",
    "    a=random.randint(1,360)\n",
    "    t.setheading(a) #거북이 방향\n",
    "    t.forward(10)\n",
    "    \n",
    "t.done()"
   ]
  },
  {
   "cell_type": "code",
   "execution_count": null,
   "metadata": {},
   "outputs": [],
   "source": [
    "# 마음대로 걷는 거북이\n",
    "\n",
    "import turtle as t\n",
    "import random \n",
    "\n",
    " #shape : classic(default),turtle, triangle\n",
    "t.shape(\"turtle\")\n",
    "t.speed(0) #거북이 속도를 빠르게\n",
    "\n",
    "for i in range(5000):\n",
    "    a=random.randint(1,360)\n",
    "    t.setheading(a) #거북이 방향\n",
    "    b=random.randint(1,30) # 이동거리를 랜덤으로\n",
    "    t.forward(b)\n",
    "    \n",
    "t.done()"
   ]
  }
 ],
 "metadata": {
  "kernelspec": {
   "display_name": "Python 3",
   "language": "python",
   "name": "python3"
  },
  "language_info": {
   "codemirror_mode": {
    "name": "ipython",
    "version": 3
   },
   "file_extension": ".py",
   "mimetype": "text/x-python",
   "name": "python",
   "nbconvert_exporter": "python",
   "pygments_lexer": "ipython3",
   "version": "3.6.5"
  }
 },
 "nbformat": 4,
 "nbformat_minor": 2
}
