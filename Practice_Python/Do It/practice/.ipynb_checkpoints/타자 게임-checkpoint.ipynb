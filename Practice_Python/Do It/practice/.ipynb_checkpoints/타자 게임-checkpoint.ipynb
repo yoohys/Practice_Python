{
 "cells": [
  {
   "cell_type": "code",
   "execution_count": 3,
   "metadata": {},
   "outputs": [
    {
     "name": "stdout",
     "output_type": "stream",
     "text": [
      "[타자 게임] 준비되면 ENTER!\n",
      "\n",
      "문제1\n",
      "snake\n",
      "s\n",
      "오답!\n",
      "1.01초!\n"
     ]
    }
   ],
   "source": [
    "import random\n",
    "import time\n",
    "\n",
    "data=[\"mouse\",\"fox\",\"snake\",\"wolf\",\"panda\",\"frog\",\"monkey\",\"dog\"]\n",
    "random.shuffle(data)\n",
    "\n",
    "print(\"[타자 게임] 준비되면 ENTER!\")\n",
    "input()\n",
    "b1=time.time()\n",
    "for i in range(5):\n",
    "    print(\"문제\"+str(i+1))\n",
    "    print(data[i])\n",
    "    a=input()\n",
    "    if a == data[i]:\n",
    "        print(\"통과!\")\n",
    "    else:\n",
    "        print(\"오답!\")\n",
    "        break\n",
    "b2=time.time()\n",
    "b3=b2-b1\n",
    "print(str(round(b3,2))+\"초!\")\n"
   ]
  },
  {
   "cell_type": "code",
   "execution_count": null,
   "metadata": {},
   "outputs": [],
   "source": []
  },
  {
   "cell_type": "code",
   "execution_count": null,
   "metadata": {},
   "outputs": [],
   "source": []
  }
 ],
 "metadata": {
  "kernelspec": {
   "display_name": "Python 3",
   "language": "python",
   "name": "python3"
  },
  "language_info": {
   "codemirror_mode": {
    "name": "ipython",
    "version": 3
   },
   "file_extension": ".py",
   "mimetype": "text/x-python",
   "name": "python",
   "nbconvert_exporter": "python",
   "pygments_lexer": "ipython3",
   "version": "3.6.5"
  }
 },
 "nbformat": 4,
 "nbformat_minor": 2
}
