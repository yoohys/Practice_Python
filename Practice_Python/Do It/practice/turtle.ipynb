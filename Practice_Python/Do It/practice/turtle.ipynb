{
 "cells": [
  {
   "cell_type": "code",
   "execution_count": null,
   "metadata": {},
   "outputs": [],
   "source": [
    "import turtle\n",
    "import random\n",
    "\n",
    "## 클래스 선언 부분 ##\n",
    "class Shape:  # 부모 클래스\n",
    "    myTurtle = None\n",
    "    cx, cy = 0, 0  # 사각형 및 원의 중심점.\n",
    "\n",
    "\n",
    "   # 거북이 생성.(생성자)\n",
    "    def __init__(self):\n",
    "        self.myTurtle = turtle.Turtle(\"turtle\")\n",
    "        \n",
    "\n",
    "   # 펜 색상과 두께를 랜덤하게 뽑기\n",
    "    def setPen(self):\n",
    "        self.myTurtle.pensize(random.randrange(1,10))\n",
    "        self.myTurtle.pencolor((random.random(),random.random(),random.random()))\n",
    "        self.myTurtle.ht()\n",
    "    \n",
    "\n",
    "  # 하위 클래스에서 상속받아서 오버라이딩\n",
    "    def drawShape(self): \n",
    "        pass\n",
    "\n",
    "class Rectangle(Shape): # 자식 클래스\n",
    "    width, height = [0] * 2\n",
    "\n",
    "    def __init__(self, x, y):\n",
    "        Shape.__init__(self)  \n",
    "        self.cx = x\n",
    "        self.cy = y\n",
    "        self.width = random.randrange(20, 100)\n",
    "        self.height = random.randrange(20, 100)\n",
    "        \n",
    "    def drawShape(self) :\n",
    "        # 네모 그리기\n",
    "        sx1, sy1, sx2, sy2 = [0] * 4  # 왼쪽 위 X, Y와 오른쪽 아래 X,Y\n",
    "        sx1 = self.cx - self.width/2\n",
    "        sy1 = self.cy - self.height/2\n",
    "        sx2 = self.cx + self.width/2\n",
    "        sy2 = self.cy + self.height/2\n",
    "\n",
    "\n",
    "\n",
    "        self.setPen() # 부모 클래스 메서드\n",
    "        self.myTurtle.penup()\n",
    "        self.myTurtle.goto(sx1, sy1)\n",
    "        self.myTurtle.pendown()\n",
    "        self.myTurtle.goto(sx1, sy2)\n",
    "        self.myTurtle.goto(sx2, sy2)\n",
    "        self.myTurtle.goto(sx2, sy1)\n",
    "        self.myTurtle.goto(sx1, sy1)\n",
    "        \n",
    "## 함수 선언 부분 ##\n",
    "def  screenLeftClick(x,y):\n",
    "    rect = Rectangle(x, y)\n",
    "    rect.drawShape()\n",
    "    \n",
    "## 메인 코드 부분 ##\n",
    "turtle.title('거북이로 객체지향 사각형 그리기')\n",
    "turtle.onscreenclick(screenLeftClick,1)\n",
    "turtle.done()\n"
   ]
  },
  {
   "cell_type": "code",
   "execution_count": null,
   "metadata": {},
   "outputs": [],
   "source": []
  },
  {
   "cell_type": "code",
   "execution_count": null,
   "metadata": {},
   "outputs": [],
   "source": []
  },
  {
   "cell_type": "code",
   "execution_count": null,
   "metadata": {},
   "outputs": [],
   "source": []
  }
 ],
 "metadata": {
  "kernelspec": {
   "display_name": "Python 3",
   "language": "python",
   "name": "python3"
  },
  "language_info": {
   "codemirror_mode": {
    "name": "ipython",
    "version": 3
   },
   "file_extension": ".py",
   "mimetype": "text/x-python",
   "name": "python",
   "nbconvert_exporter": "python",
   "pygments_lexer": "ipython3",
   "version": "3.6.5"
  }
 },
 "nbformat": 4,
 "nbformat_minor": 2
}
