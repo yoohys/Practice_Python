{
 "cells": [
  {
   "cell_type": "markdown",
   "metadata": {},
   "source": [
    "# Regular Expressions"
   ]
  },
  {
   "cell_type": "code",
   "execution_count": 2,
   "metadata": {},
   "outputs": [
    {
     "name": "stdout",
     "output_type": "stream",
     "text": [
      " \n",
      "    park 801011-*******\n",
      "    kim  700101-*******\n",
      "\n"
     ]
    }
   ],
   "source": [
    "# 정규 표현식을 사용하지 않았을 경우\n",
    "\n",
    "data = \"\"\" \n",
    "    park 801011-1234567\n",
    "    kim  700101-6785133\n",
    "\"\"\"\n",
    "\n",
    "result=[]\n",
    "for line in data.split(\"\\n\"):\n",
    "    word_result=[]\n",
    "    for word in line.split(\" \"):\n",
    "        if len(word)==14 and word[:6].isdigit() and word[7:].isdigit():\n",
    "            word = word[:6]+\"-\"+\"*******\"\n",
    "        word_result.append(word)\n",
    "    result.append(\" \".join(word_result))\n",
    "print(\"\\n\".join(result))\n",
    "    "
   ]
  },
  {
   "cell_type": "code",
   "execution_count": 6,
   "metadata": {},
   "outputs": [
    {
     "name": "stdout",
     "output_type": "stream",
     "text": [
      " \n",
      "    park 801011-1234567\n",
      "    kim  700101-6785133\n",
      "\n"
     ]
    }
   ],
   "source": [
    "# 정규 표현식을 사용하였을 경우\n",
    "\n",
    "import re\n",
    "\n",
    "data = \"\"\" \n",
    "    park 801011-1234567\n",
    "    kim  700101-6785133\n",
    "\"\"\"\n",
    "\n",
    "pat= re.compile(\"(\\d{6})[0]\\d{7}\")\n",
    "print(pat.sub(\"\\g<1>-*******\",data))\n"
   ]
  },
  {
   "cell_type": "code",
   "execution_count": 7,
   "metadata": {},
   "outputs": [
    {
     "ename": "SyntaxError",
     "evalue": "unexpected character after line continuation character (<ipython-input-7-051b7a2137ea>, line 1)",
     "output_type": "error",
     "traceback": [
      "\u001b[1;36m  File \u001b[1;32m\"<ipython-input-7-051b7a2137ea>\"\u001b[1;36m, line \u001b[1;32m1\u001b[0m\n\u001b[1;33m    \\d: [0-9] => 0~9\u001b[0m\n\u001b[1;37m                    ^\u001b[0m\n\u001b[1;31mSyntaxError\u001b[0m\u001b[1;31m:\u001b[0m unexpected character after line continuation character\n"
     ]
    }
   ],
   "source": [
    "\\d: [0-9] => 0~9\n",
    "\\D: [^0~9] => 0~9 제외한 모든 것\n",
    "\\s: whitespace 공백\n",
    "\\S: 공백이 아닌 것\n",
    "\\w: 문자+숫자\n",
    "\\W: 문자+숫자를 제외한 것 [^a-zA-Z0-9_]\n",
    "\n",
    "    "
   ]
  },
  {
   "cell_type": "code",
   "execution_count": 8,
   "metadata": {},
   "outputs": [
    {
     "ename": "SyntaxError",
     "evalue": "invalid syntax (<ipython-input-8-14b18741a9fb>, line 3)",
     "output_type": "error",
     "traceback": [
      "\u001b[1;36m  File \u001b[1;32m\"<ipython-input-8-14b18741a9fb>\"\u001b[1;36m, line \u001b[1;32m3\u001b[0m\n\u001b[1;33m    a.b=> a+모든문자+b\u001b[0m\n\u001b[1;37m        ^\u001b[0m\n\u001b[1;31mSyntaxError\u001b[0m\u001b[1;31m:\u001b[0m invalid syntax\n"
     ]
    }
   ],
   "source": [
    "#Dot(.)\n",
    "\n",
    "a.b=> a+모든문자+b\n",
    "a[.]b =>a+Dot(.)+b\n",
    "\n",
    "#반복(*) : 0~무한대까지\n",
    "ca*t => ct,cat,caaaat\n",
    "\n",
    "#반복(+) : 1~무한대까지\n",
    "ca+t => cat,caaaaat\n",
    "\n",
    "#반복({m,n}) : 반복횟수 : m번부터 n번까지\n",
    "ca{2}t => caat\n",
    "ca{2,5}t => caat,caaat, caaaaat\n",
    "\n",
    "#반복비슷개념(?): {0,1}: 있어도 되고 , 없어도 되고\n",
    "ab?c"
   ]
  }
 ],
 "metadata": {
  "kernelspec": {
   "display_name": "Python 3",
   "language": "python",
   "name": "python3"
  },
  "language_info": {
   "codemirror_mode": {
    "name": "ipython",
    "version": 3
   },
   "file_extension": ".py",
   "mimetype": "text/x-python",
   "name": "python",
   "nbconvert_exporter": "python",
   "pygments_lexer": "ipython3",
   "version": "3.6.5"
  }
 },
 "nbformat": 4,
 "nbformat_minor": 2
}
