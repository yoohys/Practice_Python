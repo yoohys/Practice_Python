{
 "cells": [
  {
   "cell_type": "markdown",
   "metadata": {},
   "source": [
    "# Ch11.Google Image Model :: Inception"
   ]
  },
  {
   "cell_type": "markdown",
   "metadata": {},
   "source": [
    "### : Inception은 작은 Convolution layer를  매우 많이 연결한 것으로\n",
    "###  구글이 텐서플로로 구현해 공개한 모델"
   ]
  },
  {
   "cell_type": "markdown",
   "metadata": {},
   "source": [
    "### [예제]  꽃 사진을 학습하고 꽂의 종류를 알아내는 테스트"
   ]
  },
  {
   "cell_type": "markdown",
   "metadata": {},
   "source": [
    "### 1. 자료준비하기"
   ]
  },
  {
   "cell_type": "code",
   "execution_count": null,
   "metadata": {},
   "outputs": [],
   "source": [
    "#두 개의 자료 다운로드 필요\n",
    "#(1) 학습을 위한 꽃 사진 다운로드\n",
    "#http://download.tensorflow.org/example_images/flower_photos.tgz\n",
    "#(2) 일정한 기준에 따라 사진을 학습시키는 스크립트 다운로드\n",
    "#https://github.com/golbin/TensorFlow-Tutorials/tree/master/11%20-%20Inception\n",
    "#이 두 자료 모두 텐서플로의 홈페이지에 있으며 아래의 링크에서 다운로드 가능\n",
    "#학습 자료와 학습시킨 모델을 저장할 디렉토리를 workspace라는 이름으로 생성\n",
    "#그런 다음 꽃 사진을 workspace 디렉토리에 위치시키고, 학습 스크립트는 현재 디렉토리에 저장\n",
    "#구성된 디렉토리 구조는 아래와 같음\n",
    "#/retrain.py\n",
    "#/workspace\n",
    "#            /flower_photos\n",
    "#                            /daisy\n",
    "#                            /dandelion\n",
    "#                            /roses\n",
    "#                            /sunflowers\n",
    "#                            /tulips\n",
    "#꽃의 이름별로 디렉토리가 나뉘어 있음\n",
    "#retrain.py 스크립트는 디렉토리 이름을 레이블(꽃 이름)로 하여 각 디렉토리에 있는 사진들을 학습"
   ]
  },
  {
   "cell_type": "code",
   "execution_count": null,
   "metadata": {},
   "outputs": [],
   "source": [
    "# retrain.py, predict.py 다운받기\n",
    "https://github.com/golbin/TensorFlow-Tutorials/tree/master/11%20-%20Inception\n",
    "[retrain.py][raw][소스코드 안에서 오른쪽 마우스][다른이름으로 저장][retrain.py]\n",
    "\n",
    "[prdict.py][raw][소스코드 안에서 오른쪽 마우스][다른이름으로 저장][predict.py]\n",
    "들을 해당 위치(C:\\JupyterSpace\\Deep_Learning)에 저장한다."
   ]
  },
  {
   "cell_type": "markdown",
   "metadata": {},
   "source": [
    "### 2.학습시키기"
   ]
  },
  {
   "cell_type": "markdown",
   "metadata": {},
   "source": [
    "#입력시 역슬래쉬 제거(\\)\n",
    "\n",
    "#### C:\\JupyterSpace\\Deep_Learning>python retrain.py --bottleneck_dir=./workspace/bottlenecks \n",
    "#### --model_dir=./workspace/inception \n",
    "#### --output_graph=./workspace/flowers_graph.pb \n",
    "#### --output_labels=./workspace/flowers_labels.txt \n",
    "#### --image_dir=./workspace/flower_photos \n",
    "#### --how_many_training_steps 1000"
   ]
  },
  {
   "cell_type": "code",
   "execution_count": null,
   "metadata": {},
   "outputs": [],
   "source": [
    "#retrain.py 스크립트로 꽃 사진들을 학습시킴\n",
    "#터미널(명령 프롬프트)에서 retrain.py 파일이 있는 위치에서 다음 명령어 실행\n",
    "#python retrain.py \\\n",
    "#--bottleneck_dir=./workspace/bottlenecks \\\n",
    "#--model_dir=./workspace/inception \\\n",
    "#--output_graph=./workspace/flowers_graph.pb \\\n",
    "#--output_labels=./workspace/flowers_labels.txt \\\n",
    "#--image_dir=./workspace/flower_photos \\\n",
    "#--how_many_training_steps 1000\n",
    "#스크립트에 사용한 옵션들의 의미\n",
    "\n",
    "#--bottleneck_dir\n",
    "#학습할 사진을 인셉션용 학습 데이터로 변환해서 저장해둘 디렉토리\n",
    "#--model_dir\n",
    "#인셉션 모델을 내려받을 경로\n",
    "#--output_graph\n",
    "#학습된 모델(.pb)을 저장할 경로\n",
    "#--output_labels\n",
    "#레이블 이름들을 저장해 둘 파일 경로\n",
    "#--image_dir\n",
    "#원본 이미지 경로\n",
    "#--how_many_training_steps\n",
    "#반복 학습 횟수\n",
    "#스크립트를 실행하면 다음 메시지와 함께 학습이 이루어짐"
   ]
  },
  {
   "cell_type": "markdown",
   "metadata": {},
   "source": [
    "### 3. Prediction 스크립트(predict.py) 작성하기"
   ]
  },
  {
   "cell_type": "code",
   "execution_count": null,
   "metadata": {},
   "outputs": [],
   "source": [
    "# 이미지 처리할때 pillow가 필요: 아나콘다에서는 기본설치됨\n",
    "# pip list"
   ]
  },
  {
   "cell_type": "markdown",
   "metadata": {},
   "source": [
    "#cmd\n",
    "#### C:\\JupyterSpace\\Deep_Learning>python predict.py workspace/flower_photos/roses/10503217854_e66a804309.jpg"
   ]
  },
  {
   "cell_type": "code",
   "execution_count": null,
   "metadata": {},
   "outputs": [],
   "source": [
    "[결과]\n",
    "\n",
    "=== 예측 결과 ===\n",
    "daisy (0.30%)\n",
    "dandelion (0.67%)\n",
    "roses (97.56%)\n",
    "sunflowers (0.39%)\n",
    "tulips (1.08%)"
   ]
  }
 ],
 "metadata": {
  "kernelspec": {
   "display_name": "Python 3",
   "language": "python",
   "name": "python3"
  },
  "language_info": {
   "codemirror_mode": {
    "name": "ipython",
    "version": 3
   },
   "file_extension": ".py",
   "mimetype": "text/x-python",
   "name": "python",
   "nbconvert_exporter": "python",
   "pygments_lexer": "ipython3",
   "version": "3.6.9"
  }
 },
 "nbformat": 4,
 "nbformat_minor": 2
}
