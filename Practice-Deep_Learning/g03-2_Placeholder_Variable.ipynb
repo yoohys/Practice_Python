{
 "cells": [
  {
   "cell_type": "code",
   "execution_count": 7,
   "metadata": {},
   "outputs": [
    {
     "name": "stderr",
     "output_type": "stream",
     "text": [
      "C:\\ProgramData\\Anaconda3\\lib\\site-packages\\h5py\\__init__.py:36: FutureWarning: Conversion of the second argument of issubdtype from `float` to `np.floating` is deprecated. In future, it will be treated as `np.float64 == np.dtype(float).type`.\n",
      "  from ._conv import register_converters as _register_converters\n"
     ]
    }
   ],
   "source": [
    " import tensorflow as tf"
   ]
  },
  {
   "cell_type": "code",
   "execution_count": 8,
   "metadata": {},
   "outputs": [
    {
     "name": "stdout",
     "output_type": "stream",
     "text": [
      "Tensor(\"Placeholder:0\", shape=(?, 3), dtype=float32)\n"
     ]
    }
   ],
   "source": [
    "#none: 크기가 정해져 있지 않음\n",
    "# X : placeholder에 넣을 값\n",
    "\n",
    "X=tf.placeholder(tf.float32, [None, 3])\n",
    "print(X)"
   ]
  },
  {
   "cell_type": "code",
   "execution_count": 9,
   "metadata": {},
   "outputs": [],
   "source": [
    "x_data=[[1,2,3],[4,5,6]]"
   ]
  },
  {
   "cell_type": "code",
   "execution_count": 14,
   "metadata": {},
   "outputs": [],
   "source": [
    "#tf.Variable()\n",
    "\n",
    "W=tf.Variable(tf.random_normal([3,2])) # W: 3행 2열\n",
    "b=tf.Variable(tf.random_normal([2,1])) # b: 2행 1열"
   ]
  },
  {
   "cell_type": "code",
   "execution_count": 15,
   "metadata": {},
   "outputs": [],
   "source": [
    "# 행렬 곱 : tf.matmul() : matrix multiply\n",
    "# 일반 곱하기 : tf.mun()\n",
    "\n",
    "expr = tf.matmul(X,W)+b"
   ]
  },
  {
   "cell_type": "code",
   "execution_count": 23,
   "metadata": {},
   "outputs": [],
   "source": [
    "sess=tf.Session()\n",
    "# 세션 초기화\n",
    "sess.run(tf.global_variables_initializer())"
   ]
  },
  {
   "cell_type": "code",
   "execution_count": 30,
   "metadata": {},
   "outputs": [
    {
     "name": "stdout",
     "output_type": "stream",
     "text": [
      "========== x_data =========\n",
      "[[1, 2, 3], [4, 5, 6]]\n",
      "=========== W =============\n",
      "[[ 1.403474    1.6573316 ]\n",
      " [-0.9403729   1.432989  ]\n",
      " [-1.6495724   0.93110687]]\n",
      "=========== b =============\n",
      "[[ 0.49960074]\n",
      " [-0.73287547]]\n",
      "========== expr ===========\n",
      "[[-4.9263883  7.8162313]\n",
      " [-9.718279  18.648037 ]]\n"
     ]
    }
   ],
   "source": [
    "print(\"========== x_data =========\")\n",
    "print(x_data)\n",
    "print(\"=========== W =============\")\n",
    "print(sess.run(W))\n",
    "print(\"=========== b =============\")\n",
    "print(sess.run(b))\n",
    "print(\"========== expr ===========\")\n",
    "# expr : 그래프를 실행할 때 사용할 입력값(X)\n",
    "print(sess.run(expr, feed_dict= {X: x_data})) #결과 2행 2열"
   ]
  },
  {
   "cell_type": "code",
   "execution_count": null,
   "metadata": {},
   "outputs": [],
   "source": []
  }
 ],
 "metadata": {
  "kernelspec": {
   "display_name": "Python 3",
   "language": "python",
   "name": "python3"
  },
  "language_info": {
   "codemirror_mode": {
    "name": "ipython",
    "version": 3
   },
   "file_extension": ".py",
   "mimetype": "text/x-python",
   "name": "python",
   "nbconvert_exporter": "python",
   "pygments_lexer": "ipython3",
   "version": "3.6.9"
  }
 },
 "nbformat": 4,
 "nbformat_minor": 2
}
