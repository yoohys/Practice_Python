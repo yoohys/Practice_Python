{
 "cells": [
  {
   "cell_type": "markdown",
   "metadata": {},
   "source": [
    "# Ch10-2.RNN:단어 자동 완성"
   ]
  },
  {
   "cell_type": "markdown",
   "metadata": {},
   "source": [
    "### LSTM(Long Short Term Memory)으로 단어 글자 예측하기"
   ]
  },
  {
   "cell_type": "markdown",
   "metadata": {},
   "source": [
    "#### (예) wor -> d     : word"
   ]
  },
  {
   "cell_type": "code",
   "execution_count": 1,
   "metadata": {},
   "outputs": [
    {
     "name": "stderr",
     "output_type": "stream",
     "text": [
      "C:\\ProgramData\\Anaconda3\\lib\\site-packages\\h5py\\__init__.py:36: FutureWarning: Conversion of the second argument of issubdtype from `float` to `np.floating` is deprecated. In future, it will be treated as `np.float64 == np.dtype(float).type`.\n",
      "  from ._conv import register_converters as _register_converters\n"
     ]
    }
   ],
   "source": [
    "import tensorflow as tf\n",
    "import numpy as np\n",
    "import matplotlib.pyplot as plt"
   ]
  },
  {
   "cell_type": "code",
   "execution_count": 2,
   "metadata": {},
   "outputs": [],
   "source": [
    "#소문자 a~z까지 배열변수에 넣기\n",
    "char_arr=[chr(ch) for ch in range(97,123)]\n",
    "num_dic={n:i for i,n in enumerate(char_arr)}\n",
    "dic_len=len(num_dic)"
   ]
  },
  {
   "cell_type": "code",
   "execution_count": 3,
   "metadata": {},
   "outputs": [],
   "source": [
    "seq_data=['word','wood','deep','dive','cold','cool','load','love','kiss','kind']"
   ]
  },
  {
   "cell_type": "code",
   "execution_count": 4,
   "metadata": {},
   "outputs": [],
   "source": [
    "def make_batch(seq_data):\n",
    "    input_batch=[]\n",
    "    target_batch=[]\n",
    "    \n",
    "    for seq in seq_data:\n",
    "        input=[num_dic[n] for n in seq[: -1]]\n",
    "        target=num_dic[seq[-1]]\n",
    "        input_batch.append(np.eye(dic_len)[input])\n",
    "        target_batch.append(target)\n",
    "        \n",
    "    return input_batch, target_batch"
   ]
  },
  {
   "cell_type": "code",
   "execution_count": 5,
   "metadata": {},
   "outputs": [],
   "source": [
    "learning_rate=0.01 #최적화함수에서 사용할 학습률\n",
    "total_epoch=30#전체 데이터를 학습할 총 횟수\n",
    "n_step=3\n",
    "n_hidden=128 #hidden layer의 뉴런 갯수\n",
    "n_input=n_class=dic_len"
   ]
  },
  {
   "cell_type": "code",
   "execution_count": 6,
   "metadata": {},
   "outputs": [],
   "source": [
    "X=tf.placeholder(tf.float32,[None,n_step, n_input]) \n",
    "Y=tf.placeholder(tf.int32,[None]) \n",
    "W=tf.Variable(tf.random_normal([n_hidden, n_class]))\n",
    "b=tf.Variable(tf.random_normal([n_class]))"
   ]
  },
  {
   "cell_type": "code",
   "execution_count": 7,
   "metadata": {},
   "outputs": [
    {
     "name": "stdout",
     "output_type": "stream",
     "text": [
      "WARNING:tensorflow:From <ipython-input-7-a6d042c8b5d6>:1: BasicLSTMCell.__init__ (from tensorflow.python.ops.rnn_cell_impl) is deprecated and will be removed in a future version.\n",
      "Instructions for updating:\n",
      "This class is equivalent as tf.keras.layers.LSTMCell, and will be replaced by that in Tensorflow 2.0.\n"
     ]
    }
   ],
   "source": [
    "cell1=tf.nn.rnn_cell.BasicLSTMCell(n_hidden)\n",
    "cell1=tf.nn.rnn_cell.DropoutWrapper(cell1, output_keep_prob=0.5)\n",
    "cell2=tf.nn.rnn_cell.BasicLSTMCell(n_hidden)"
   ]
  },
  {
   "cell_type": "code",
   "execution_count": 8,
   "metadata": {},
   "outputs": [
    {
     "name": "stdout",
     "output_type": "stream",
     "text": [
      "WARNING:tensorflow:From <ipython-input-8-b188fafb5cfd>:1: MultiRNNCell.__init__ (from tensorflow.python.ops.rnn_cell_impl) is deprecated and will be removed in a future version.\n",
      "Instructions for updating:\n",
      "This class is equivalent as tf.keras.layers.StackedRNNCells, and will be replaced by that in Tensorflow 2.0.\n"
     ]
    }
   ],
   "source": [
    "multi_cell=tf.nn.rnn_cell.MultiRNNCell([cell1, cell2])"
   ]
  },
  {
   "cell_type": "code",
   "execution_count": 9,
   "metadata": {},
   "outputs": [
    {
     "name": "stdout",
     "output_type": "stream",
     "text": [
      "WARNING:tensorflow:From <ipython-input-9-73c247d416d0>:1: dynamic_rnn (from tensorflow.python.ops.rnn) is deprecated and will be removed in a future version.\n",
      "Instructions for updating:\n",
      "Please use `keras.layers.RNN(cell)`, which is equivalent to this API\n",
      "WARNING:tensorflow:From C:\\ProgramData\\Anaconda3\\lib\\site-packages\\tensorflow_core\\python\\ops\\rnn_cell_impl.py:735: Layer.add_variable (from tensorflow.python.keras.engine.base_layer) is deprecated and will be removed in a future version.\n",
      "Instructions for updating:\n",
      "Please use `layer.add_weight` method instead.\n",
      "WARNING:tensorflow:From C:\\ProgramData\\Anaconda3\\lib\\site-packages\\tensorflow_core\\python\\ops\\rnn_cell_impl.py:739: calling Zeros.__init__ (from tensorflow.python.ops.init_ops) with dtype is deprecated and will be removed in a future version.\n",
      "Instructions for updating:\n",
      "Call initializer instance with the dtype argument instead of passing it to the constructor\n"
     ]
    }
   ],
   "source": [
    "outputs, states=tf.nn.dynamic_rnn(multi_cell, X, dtype=tf.float32)\n",
    "outputs=tf.transpose(outputs, [1,0,2])\n",
    "outputs=outputs[-1] #맨 뒤 cell\n",
    "model=tf.matmul(outputs, W)+b\n",
    "\n",
    "cost=tf.reduce_mean(tf.nn.sparse_softmax_cross_entropy_with_logits(logits=model, labels=Y))\n",
    "optimizer=tf.train.AdamOptimizer(learning_rate).minimize(cost)"
   ]
  },
  {
   "cell_type": "code",
   "execution_count": 10,
   "metadata": {},
   "outputs": [
    {
     "name": "stdout",
     "output_type": "stream",
     "text": [
      "Epoch:  0001 AVG_cost=  3.811745\n",
      "Epoch:  0002 AVG_cost=  2.880395\n",
      "Epoch:  0003 AVG_cost=  1.922401\n",
      "Epoch:  0004 AVG_cost=  1.456142\n",
      "Epoch:  0005 AVG_cost=  0.608919\n",
      "Epoch:  0006 AVG_cost=  1.510249\n",
      "Epoch:  0007 AVG_cost=  0.525544\n",
      "Epoch:  0008 AVG_cost=  0.420863\n",
      "Epoch:  0009 AVG_cost=  0.614880\n",
      "Epoch:  0010 AVG_cost=  0.626983\n",
      "Epoch:  0011 AVG_cost=  0.210050\n",
      "Epoch:  0012 AVG_cost=  0.146432\n",
      "Epoch:  0013 AVG_cost=  0.172914\n",
      "Epoch:  0014 AVG_cost=  0.268009\n",
      "Epoch:  0015 AVG_cost=  0.300398\n",
      "Epoch:  0016 AVG_cost=  0.252014\n",
      "Epoch:  0017 AVG_cost=  0.076825\n",
      "Epoch:  0018 AVG_cost=  0.111613\n",
      "Epoch:  0019 AVG_cost=  0.137420\n",
      "Epoch:  0020 AVG_cost=  0.143878\n",
      "Epoch:  0021 AVG_cost=  0.052593\n",
      "Epoch:  0022 AVG_cost=  0.080637\n",
      "Epoch:  0023 AVG_cost=  0.069199\n",
      "Epoch:  0024 AVG_cost=  0.045662\n",
      "Epoch:  0025 AVG_cost=  0.063003\n",
      "Epoch:  0026 AVG_cost=  0.040180\n",
      "Epoch:  0027 AVG_cost=  0.081855\n",
      "Epoch:  0028 AVG_cost=  0.090404\n",
      "Epoch:  0029 AVG_cost=  0.018008\n",
      "Epoch:  0030 AVG_cost=  0.004508\n",
      "완료\n",
      "\n",
      "======예측결과 ========\n",
      "입력값:  ['wor ', 'woo ', 'dee ', 'div ', 'col ', 'coo ', 'loa ', 'lov ', 'kis ', 'kin ']\n",
      "예측값:  ['word', 'wood', 'deep', 'dive', 'cold', 'cool', 'load', 'love', 'kiss', 'kind']\n",
      "정확도:  1.0\n"
     ]
    }
   ],
   "source": [
    "with tf.Session() as sess:\n",
    "    sess.run(tf.global_variables_initializer())\n",
    "    input_batch, target_batch=make_batch(seq_data)\n",
    "    \n",
    "    for epoch in range(total_epoch):\n",
    "        _, loss= sess.run([optimizer,cost], feed_dict={X: input_batch, Y:target_batch})\n",
    "        print('Epoch: ', '%04d' % (epoch+1), 'AVG_cost= ','{:6f}'.format(loss))\n",
    "    \n",
    "    print('완료')\n",
    "    \n",
    "    prediction=tf.cast(tf.argmax(model,1),tf.int32)\n",
    "    prediction_check=tf.equal(prediction,Y)\n",
    "    accuracy=tf.reduce_mean(tf.cast(prediction_check, tf.float32))\n",
    "    \n",
    "    input_batch, target_batch= make_batch(seq_data)\n",
    "    \n",
    "    predict, accuracy_val=sess.run([prediction,accuracy],feed_dict={X:input_batch, Y:target_batch})\n",
    "    \n",
    "    \n",
    "    predict_words=[]\n",
    "    \n",
    "    for idx, val in enumerate(seq_data):\n",
    "        last_char=char_arr[predict[idx]]\n",
    "        predict_words.append(val[:3]+last_char)\n",
    "    \n",
    "    print('\\n======예측결과 ========')\n",
    "    print('입력값: ', [w[:3]+' ' for w in seq_data])\n",
    "    print('예측값: ',predict_words)\n",
    "    print('정확도: ',accuracy_val)\n",
    "    "
   ]
  },
  {
   "cell_type": "code",
   "execution_count": null,
   "metadata": {},
   "outputs": [],
   "source": []
  },
  {
   "cell_type": "code",
   "execution_count": null,
   "metadata": {},
   "outputs": [],
   "source": []
  },
  {
   "cell_type": "code",
   "execution_count": null,
   "metadata": {},
   "outputs": [],
   "source": []
  },
  {
   "cell_type": "code",
   "execution_count": null,
   "metadata": {},
   "outputs": [],
   "source": []
  },
  {
   "cell_type": "code",
   "execution_count": null,
   "metadata": {},
   "outputs": [],
   "source": []
  },
  {
   "cell_type": "code",
   "execution_count": null,
   "metadata": {},
   "outputs": [],
   "source": []
  },
  {
   "cell_type": "code",
   "execution_count": null,
   "metadata": {},
   "outputs": [],
   "source": []
  },
  {
   "cell_type": "code",
   "execution_count": null,
   "metadata": {},
   "outputs": [],
   "source": []
  },
  {
   "cell_type": "code",
   "execution_count": null,
   "metadata": {},
   "outputs": [],
   "source": []
  },
  {
   "cell_type": "code",
   "execution_count": null,
   "metadata": {},
   "outputs": [],
   "source": []
  },
  {
   "cell_type": "code",
   "execution_count": null,
   "metadata": {},
   "outputs": [],
   "source": []
  }
 ],
 "metadata": {
  "kernelspec": {
   "display_name": "Python 3",
   "language": "python",
   "name": "python3"
  },
  "language_info": {
   "codemirror_mode": {
    "name": "ipython",
    "version": 3
   },
   "file_extension": ".py",
   "mimetype": "text/x-python",
   "name": "python",
   "nbconvert_exporter": "python",
   "pygments_lexer": "ipython3",
   "version": "3.6.9"
  }
 },
 "nbformat": 4,
 "nbformat_minor": 2
}
