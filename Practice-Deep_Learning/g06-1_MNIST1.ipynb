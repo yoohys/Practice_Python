{
 "cells": [
  {
   "cell_type": "markdown",
   "metadata": {},
   "source": [
    "# Ch06_MNIST dataset\n",
    "\n",
    "####: MINIST dataset을 학습.필기숫자들의 grayscale 28X28 픽셀이미지를 보고, \n",
    "#### 0~9까지 모든 숫자들에 대해 이미지가 어떤 숫자를 나타내고 있는 판별하는 것"
   ]
  },
  {
   "cell_type": "markdown",
   "metadata": {},
   "source": [
    "#### train-images-idx3-ubyte.gz:  training set images (9912422 bytes) : 학습셋이미지\n",
    "#### train-labels-idx1-ubyte.gz:  training set labels (28881 bytes) : 이미지와 매칭되는 학습셋 레이블\n",
    "#### t10k-images-idx3-ubyte.gz:   test set images (1648877 bytes): 테스트 셋이미지\n",
    "#### t10k-labels-idx1-ubyte.gz:   test set labels (4542 bytes) :이미지와 매칭되는 테스트 셋 레이블"
   ]
  },
  {
   "cell_type": "code",
   "execution_count": 1,
   "metadata": {},
   "outputs": [
    {
     "data": {
      "text/plain": [
       "'C:\\\\JupyterSpace\\\\Deep_Learning'"
      ]
     },
     "execution_count": 1,
     "metadata": {},
     "output_type": "execute_result"
    }
   ],
   "source": [
    "%pwd"
   ]
  },
  {
   "cell_type": "code",
   "execution_count": 3,
   "metadata": {
    "scrolled": false
   },
   "outputs": [],
   "source": [
    "import tensorflow as tf"
   ]
  },
  {
   "cell_type": "code",
   "execution_count": 5,
   "metadata": {},
   "outputs": [
    {
     "name": "stdout",
     "output_type": "stream",
     "text": [
      "Extracting C:/JupyterSpace/datasets/mnist/data\\train-images-idx3-ubyte.gz\n",
      "Extracting C:/JupyterSpace/datasets/mnist/data\\train-labels-idx1-ubyte.gz\n",
      "Extracting C:/JupyterSpace/datasets/mnist/data\\t10k-images-idx3-ubyte.gz\n",
      "Extracting C:/JupyterSpace/datasets/mnist/data\\t10k-labels-idx1-ubyte.gz\n"
     ]
    }
   ],
   "source": [
    "#Tensorflow에 기본적으로 내장되어 있는 데이터를 로드\n",
    "from tensorflow.examples.tutorials.mnist import input_data\n",
    "# 해당 폴더에 내용이 없으면,자동으로 데이터를 다운받기\n",
    "mnist=input_data.read_data_sets('C:/JupyterSpace/datasets/mnist/data',one_hot=True)"
   ]
  },
  {
   "cell_type": "code",
   "execution_count": 6,
   "metadata": {},
   "outputs": [],
   "source": [
    "#이미지(28X28) 갯수가 784:X\n",
    "X=tf.placeholder(tf.float32, [None,784])\n",
    "#0~9 분류:Y\n",
    "Y=tf.placeholder(tf.float32, [None, 10])\n",
    "#가중치:입력특성값(784) =>256(히든레이어 뉴런 갯수)\n",
    "#       : 결과값(0~9분류)\n",
    "\n",
    "#hidde layer0\n",
    "W1=tf.Variable(tf.random_normal([784,256],stddev=0.01))\n",
    "#입력값에 가중치를 곱하고 relu함수를 이용해서 레이어 만들기\n",
    "L1=tf.nn.relu(tf.matmul(X,W1))"
   ]
  },
  {
   "cell_type": "code",
   "execution_count": 7,
   "metadata": {},
   "outputs": [],
   "source": [
    "# hidden layer1\n",
    "W2=tf.Variable(tf.random_normal([256,256],stddev=0.01))\n",
    "#L1 레이어으 출력값에 가중치를 곱하고 relu함수를 이용해서 레이어 만들기\n",
    "L2=tf.nn.relu(tf.matmul(L1,W2))"
   ]
  },
  {
   "cell_type": "code",
   "execution_count": 8,
   "metadata": {},
   "outputs": [],
   "source": [
    "# hidden layer2\n",
    "W3=tf.Variable(tf.random_normal([256,10],stddev=0.01))\n",
    "#L1 레이어으 출력값에 가중치를 곱하고 relu함수를 이용해서 레이어 만들기\n",
    "model=tf.matmul(L2,W3)"
   ]
  },
  {
   "cell_type": "code",
   "execution_count": 9,
   "metadata": {},
   "outputs": [],
   "source": [
    "#tf.nn.softmax_cross_entropy_with_logits_v2():이미지에 대한 손실값: Y-model\n",
    "#tf.reduce_mean(): 미니배치의 평균 손실값\n",
    "cost=tf.reduce_mean(tf.nn.softmax_cross_entropy_with_logits_v2(logits=model, labels=Y))\n",
    "optimizer=tf.train.AdamOptimizer(0.001).minimize(cost)"
   ]
  },
  {
   "cell_type": "code",
   "execution_count": 10,
   "metadata": {},
   "outputs": [],
   "source": [
    "init=tf.global_variables_initializer()\n",
    "sess=tf.Session()\n",
    "sess.run(init)"
   ]
  },
  {
   "cell_type": "code",
   "execution_count": 11,
   "metadata": {},
   "outputs": [],
   "source": [
    "#mnist.train.num_examples: 학습데이터의 총갯수\n",
    "batch_size= 100\n",
    "total_batch=int(mnist.train.num_examples/batch_size)"
   ]
  },
  {
   "cell_type": "code",
   "execution_count": 13,
   "metadata": {},
   "outputs": [
    {
     "name": "stdout",
     "output_type": "stream",
     "text": [
      "Epoch: 0001 Avg.Cost=  0.148\n",
      "Epoch: 0002 Avg.Cost=  0.096\n",
      "Epoch: 0003 Avg.Cost=  0.070\n",
      "Epoch: 0004 Avg.Cost=  0.054\n",
      "Epoch: 0005 Avg.Cost=  0.040\n",
      "Epoch: 0006 Avg.Cost=  0.030\n",
      "Epoch: 0007 Avg.Cost=  0.026\n",
      "Epoch: 0008 Avg.Cost=  0.021\n",
      "Epoch: 0009 Avg.Cost=  0.017\n",
      "Epoch: 0010 Avg.Cost=  0.015\n",
      "Epoch: 0011 Avg.Cost=  0.017\n",
      "Epoch: 0012 Avg.Cost=  0.011\n",
      "Epoch: 0013 Avg.Cost=  0.011\n",
      "Epoch: 0014 Avg.Cost=  0.011\n",
      "Epoch: 0015 Avg.Cost=  0.010\n",
      "최적화 완료\n"
     ]
    }
   ],
   "source": [
    "#epoch:학습 데이터를 전체를 한번 수행하는 것\n",
    "for epoch in range(15):\n",
    "    total_cost=0\n",
    "    \n",
    "    for i in range(total_batch):\n",
    "        #지정한 크기만큼 학습데이터를 가져오기\n",
    "        batch_xs, batch_ys =mnist.train.next_batch(batch_size)\n",
    "        _, cost_val=sess.run([optimizer, cost],feed_dict={X:batch_xs, Y:batch_ys})\n",
    "        total_cost += cost_val\n",
    "        \n",
    "    print(\"Epoch:\", '%04d' % (epoch+1), 'Avg.Cost= ','{:.3f}'.format(total_cost/total_batch))\n",
    "print('최적화 완료')"
   ]
  },
  {
   "cell_type": "code",
   "execution_count": 15,
   "metadata": {},
   "outputs": [
    {
     "name": "stdout",
     "output_type": "stream",
     "text": [
      "정확도: 0.9785\n"
     ]
    }
   ],
   "source": [
    "#(tf.argmax(model, 1) : model의 행렬을 : 열 순서로 최대값 구하기\n",
    "is_correct=tf.equal(tf.argmax(model, 1), tf.argmax(Y,1))\n",
    "# cast(): 0과 1 반환\n",
    "accuracy=tf.reduce_mean(tf.cast(is_correct, tf.float32))\n",
    "print('정확도:',sess.run(accuracy, feed_dict={X:mnist.test.images, Y:mnist.test.labels}))"
   ]
  },
  {
   "cell_type": "code",
   "execution_count": null,
   "metadata": {},
   "outputs": [],
   "source": []
  },
  {
   "cell_type": "code",
   "execution_count": null,
   "metadata": {},
   "outputs": [],
   "source": []
  },
  {
   "cell_type": "code",
   "execution_count": null,
   "metadata": {},
   "outputs": [],
   "source": []
  },
  {
   "cell_type": "code",
   "execution_count": null,
   "metadata": {},
   "outputs": [],
   "source": []
  },
  {
   "cell_type": "code",
   "execution_count": null,
   "metadata": {},
   "outputs": [],
   "source": []
  },
  {
   "cell_type": "code",
   "execution_count": null,
   "metadata": {},
   "outputs": [],
   "source": []
  },
  {
   "cell_type": "code",
   "execution_count": null,
   "metadata": {},
   "outputs": [],
   "source": []
  },
  {
   "cell_type": "code",
   "execution_count": null,
   "metadata": {},
   "outputs": [],
   "source": []
  }
 ],
 "metadata": {
  "kernelspec": {
   "display_name": "Python 3",
   "language": "python",
   "name": "python3"
  },
  "language_info": {
   "codemirror_mode": {
    "name": "ipython",
    "version": 3
   },
   "file_extension": ".py",
   "mimetype": "text/x-python",
   "name": "python",
   "nbconvert_exporter": "python",
   "pygments_lexer": "ipython3",
   "version": "3.6.9"
  }
 },
 "nbformat": 4,
 "nbformat_minor": 2
}
