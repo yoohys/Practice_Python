{
 "cells": [
  {
   "cell_type": "markdown",
   "metadata": {},
   "source": [
    "# Ch04_2 Cliassifiaction"
   ]
  },
  {
   "cell_type": "code",
   "execution_count": 15,
   "metadata": {},
   "outputs": [],
   "source": [
    "import numpy as np\n",
    "import matplotlib.pyplot as plt\n",
    "import tensorflow as tf"
   ]
  },
  {
   "cell_type": "code",
   "execution_count": 31,
   "metadata": {},
   "outputs": [],
   "source": [
    "#hyperparameter(학습량(비율))\n",
    "learning_rate=0.01\n",
    "training_epochs=100\n",
    "\n",
    "\n",
    "# 입력값은 -1과 1사이에 균등하게 위치하는 101값으로 구성\n",
    "x_train=np.linspace(-1,1,101)\n",
    "# 노이지가 들어가게 설계\n",
    "y_train=2*x_train+np.random.randn(*x_train.shape)*0.33\n",
    "\n",
    "# 입력 노드와 출력 노드를 placeholder로 설정\n",
    "X=tf.placeholder(tf.float32)\n",
    "Y=tf.placeholder(tf.float32)\n",
    "\n",
    "\n",
    "def model(X,w):\n",
    "    return tf.multiply(X,w)\n",
    "\n",
    "#가중치 변수\n",
    "w=tf.Variable(0.0,name=\"weights\")\n",
    "\n",
    "#비용함수 정의\n",
    "y_model=model(X,w)\n",
    "cost=tf.square(Y-y_model)\n",
    "\n",
    "#경사하강법\n",
    "#학습 알고리즘이 반복될때 마다 호출될 연산을ㅈ ㅓㅇ의\n",
    "train_op=tf.train.GradientDescentOptimizer(learning_rate).minimize(cost)\n"
   ]
  },
  {
   "cell_type": "code",
   "execution_count": 32,
   "metadata": {},
   "outputs": [],
   "source": [
    "sess=tf.Session()\n",
    "init=tf.global_variables_initializer()\n",
    "sess.run(init)\n",
    "\n",
    "for epoch in range(training_epochs):\n",
    "    for(x,y) in zip(x_train, y_train):\n",
    "        sess.run(train_op,feed_dict={X:x,Y:y})\n",
    "        \n",
    "w_val=sess.run(w)\n",
    "sess.close()"
   ]
  },
  {
   "cell_type": "code",
   "execution_count": 33,
   "metadata": {},
   "outputs": [
    {
     "data": {
      "image/png": "[encoded data removed]",
      "text/plain": [
       "<Figure size 432x288 with 1 Axes>"
      ]
     },
     "metadata": {
      "needs_background": "light"
     },
     "output_type": "display_data"
    }
   ],
   "source": [
    "y_learned=x_train+w_val\n",
    "plt.scatter(x_train,y_train)\n",
    "plt.plot(x_train,y_learned,'r')\n",
    "plt.show()"
   ]
  },
  {
   "cell_type": "code",
   "execution_count": null,
   "metadata": {},
   "outputs": [],
   "source": []
  }
 ],
 "metadata": {
  "kernelspec": {
   "display_name": "Python 3",
   "language": "python",
   "name": "python3"
  },
  "language_info": {
   "codemirror_mode": {
    "name": "ipython",
    "version": 3
   },
   "file_extension": ".py",
   "mimetype": "text/x-python",
   "name": "python",
   "nbconvert_exporter": "python",
   "pygments_lexer": "ipython3",
   "version": "3.6.9"
  }
 },
 "nbformat": 4,
 "nbformat_minor": 2
}
