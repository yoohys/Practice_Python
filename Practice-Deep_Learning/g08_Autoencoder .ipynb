{
 "cells": [
  {
   "cell_type": "markdown",
   "metadata": {},
   "source": [
    "# Ch08.Autoencoder (Unsupervised Learning)\n",
    "### : 단순히 입력을 출력으로 복사하는 신경망"
   ]
  },
  {
   "cell_type": "code",
   "execution_count": 3,
   "metadata": {
    "scrolled": true
   },
   "outputs": [],
   "source": [
    "import tensorflow as tf"
   ]
  },
  {
   "cell_type": "code",
   "execution_count": 5,
   "metadata": {},
   "outputs": [
    {
     "name": "stdout",
     "output_type": "stream",
     "text": [
      "Extracting C:/JupyterSpace/datasets/mnist/data\\train-images-idx3-ubyte.gz\n",
      "Extracting C:/JupyterSpace/datasets/mnist/data\\train-labels-idx1-ubyte.gz\n",
      "Extracting C:/JupyterSpace/datasets/mnist/data\\t10k-images-idx3-ubyte.gz\n",
      "Extracting C:/JupyterSpace/datasets/mnist/data\\t10k-labels-idx1-ubyte.gz\n"
     ]
    }
   ],
   "source": [
    "#Tensorflow에 기본적으로 내장되어 있는 데이터를 로드\n",
    "from tensorflow.examples.tutorials.mnist import input_data\n",
    "# 해당 폴더에 내용이 없으면,자동으로 데이터를 다운받기\n",
    "mnist=input_data.read_data_sets('C:/JupyterSpace/datasets/mnist/data',one_hot=True)"
   ]
  },
  {
   "cell_type": "code",
   "execution_count": 6,
   "metadata": {},
   "outputs": [],
   "source": [
    "learning_rate=0.01 #최적화함수에서 사용할 학습률\n",
    "training_epoch=20 #전체 데이터를 학습할 총 횟수\n",
    "batch_size=100 # 한번에  학습할 데이터\n",
    "n_hidden=256 #hidden layer의 뉴런 갯수\n",
    "n_input=28*28 #입력값의 크기"
   ]
  },
  {
   "cell_type": "code",
   "execution_count": 7,
   "metadata": {},
   "outputs": [],
   "source": [
    "X=tf.placeholder(tf.float32,[None, n_input])"
   ]
  },
  {
   "cell_type": "code",
   "execution_count": 8,
   "metadata": {},
   "outputs": [],
   "source": [
    "#encoding\n",
    "W_encode=tf.Variable(tf.random_normal([n_input, n_hidden])) #Weight\n",
    "b_encode=tf.Variable(tf.random_normal([n_hidden]))#Bias\n",
    "encoder=tf.nn.sigmoid(tf.add(tf.matmul(X,W_encode),b_encode))  #Y=aX+b"
   ]
  },
  {
   "cell_type": "code",
   "execution_count": 9,
   "metadata": {},
   "outputs": [],
   "source": [
    "#decoding\n",
    "W_decode=tf.Variable(tf.random_normal([n_hidden,n_input])) #Weight\n",
    "b_decode=tf.Variable(tf.random_normal([n_input])) #Bias\n",
    "decoder=tf.nn.sigmoid(tf.add(tf.matmul(encoder,W_decode),b_decode))  #Y=aX+b"
   ]
  },
  {
   "cell_type": "code",
   "execution_count": 11,
   "metadata": {},
   "outputs": [],
   "source": [
    "cost=tf.reduce_mean(tf.pow(X-decoder,2))\n",
    "optimizer=tf.train.RMSPropOptimizer(learning_rate).minimize(cost)"
   ]
  },
  {
   "cell_type": "code",
   "execution_count": 12,
   "metadata": {},
   "outputs": [],
   "source": [
    "init=tf.global_variables_initializer()\n",
    "sess=tf.Session()\n",
    "sess.run(init)"
   ]
  },
  {
   "cell_type": "code",
   "execution_count": 13,
   "metadata": {},
   "outputs": [],
   "source": [
    "total_batch=int(mnist.train.num_examples/batch_size)"
   ]
  },
  {
   "cell_type": "code",
   "execution_count": 14,
   "metadata": {},
   "outputs": [
    {
     "name": "stdout",
     "output_type": "stream",
     "text": [
      "Epoch: 0001 Avg.Cost=  0.197\n",
      "Epoch: 0002 Avg.Cost=  0.059\n",
      "Epoch: 0003 Avg.Cost=  0.050\n",
      "Epoch: 0004 Avg.Cost=  0.044\n",
      "Epoch: 0005 Avg.Cost=  0.041\n",
      "Epoch: 0006 Avg.Cost=  0.037\n",
      "Epoch: 0007 Avg.Cost=  0.035\n",
      "Epoch: 0008 Avg.Cost=  0.034\n",
      "Epoch: 0009 Avg.Cost=  0.033\n",
      "Epoch: 0010 Avg.Cost=  0.033\n",
      "Epoch: 0011 Avg.Cost=  0.032\n",
      "Epoch: 0012 Avg.Cost=  0.032\n",
      "Epoch: 0013 Avg.Cost=  0.031\n",
      "Epoch: 0014 Avg.Cost=  0.031\n",
      "Epoch: 0015 Avg.Cost=  0.031\n",
      "Epoch: 0016 Avg.Cost=  0.031\n",
      "Epoch: 0017 Avg.Cost=  0.029\n",
      "Epoch: 0018 Avg.Cost=  0.029\n",
      "Epoch: 0019 Avg.Cost=  0.028\n",
      "Epoch: 0020 Avg.Cost=  0.028\n",
      "최적화 완료\n"
     ]
    }
   ],
   "source": [
    "#epoch:학습 데이터를 전체를 한번 수행하는 것\n",
    "for epoch in range(training_epoch):\n",
    "    total_cost=0\n",
    "    \n",
    "    for i in range(total_batch):\n",
    "        #지정한 크기만큼 학습데이터를 가져오기\n",
    "        batch_xs, batch_ys =mnist.train.next_batch(batch_size)\n",
    "        _, cost_val=sess.run([optimizer, cost],feed_dict={X:batch_xs})\n",
    "        total_cost += cost_val\n",
    "        \n",
    "    print(\"Epoch:\", '%04d' % (epoch+1), 'Avg.Cost= ','{:.3f}'.format(total_cost/total_batch))\n",
    "print('최적화 완료')"
   ]
  },
  {
   "cell_type": "code",
   "execution_count": 17,
   "metadata": {},
   "outputs": [
    {
     "data": {
      "image/png": "[encoded data removed]",
      "text/plain": [
       "<Figure size 720x144 with 20 Axes>"
      ]
     },
     "metadata": {
      "needs_background": "light"
     },
     "output_type": "display_data"
    }
   ],
   "source": [
    "import numpy as np\n",
    "import matplotlib.pyplot as plt\n",
    "sample_size=10\n",
    "samples=sess.run(decoder, feed_dict={X:mnist.test.images[:sample_size]})\n",
    "fig, ax= plt.subplots(2, sample_size,figsize=(sample_size,2))\n",
    "for i in range(sample_size):\n",
    "    ax[0][i].set_axis_off()\n",
    "    ax[1][i].set_axis_off()\n",
    "    ax[0][i].imshow(np.reshape(mnist.test.images[i],(28,28)))\n",
    "    ax[1][i].imshow(np.reshape(samples[i],(28,28)))\n",
    "\n",
    "plt.show()"
   ]
  },
  {
   "cell_type": "code",
   "execution_count": null,
   "metadata": {},
   "outputs": [],
   "source": []
  },
  {
   "cell_type": "code",
   "execution_count": null,
   "metadata": {},
   "outputs": [],
   "source": []
  },
  {
   "cell_type": "code",
   "execution_count": null,
   "metadata": {},
   "outputs": [],
   "source": []
  },
  {
   "cell_type": "code",
   "execution_count": null,
   "metadata": {},
   "outputs": [],
   "source": []
  },
  {
   "cell_type": "code",
   "execution_count": null,
   "metadata": {},
   "outputs": [],
   "source": []
  },
  {
   "cell_type": "code",
   "execution_count": null,
   "metadata": {},
   "outputs": [],
   "source": []
  },
  {
   "cell_type": "code",
   "execution_count": null,
   "metadata": {},
   "outputs": [],
   "source": []
  },
  {
   "cell_type": "code",
   "execution_count": null,
   "metadata": {},
   "outputs": [],
   "source": []
  }
 ],
 "metadata": {
  "kernelspec": {
   "display_name": "Python 3",
   "language": "python",
   "name": "python3"
  },
  "language_info": {
   "codemirror_mode": {
    "name": "ipython",
    "version": 3
   },
   "file_extension": ".py",
   "mimetype": "text/x-python",
   "name": "python",
   "nbconvert_exporter": "python",
   "pygments_lexer": "ipython3",
   "version": "3.6.9"
  }
 },
 "nbformat": 4,
 "nbformat_minor": 2
}
