{
 "cells": [
  {
   "cell_type": "markdown",
   "metadata": {},
   "source": [
    "# Tensorboard 사용하기\n",
    "### : 텐서플로우에서 지원하는 텐서플로우에 기록된 로그를 시각화 시켜주는 도구\n",
    "### : 텐서플로우 코드에서 FileWriter를 통해 그래프와 기록할 것을 로그로 만들어 준 다음에 \n",
    "###  : cmd에서 해당 로그위치에서 텐서보드 실행.\n",
    "###   : 그런후 chrome에서 http://localhost:6006를 하면 텐서보드를 알수있다.(IE는 불가)"
   ]
  },
  {
   "cell_type": "code",
   "execution_count": 2,
   "metadata": {
    "scrolled": true
   },
   "outputs": [],
   "source": [
    "import tensorflow as tf\n"
   ]
  },
  {
   "cell_type": "code",
   "execution_count": 3,
   "metadata": {},
   "outputs": [],
   "source": [
    "a=tf.constant(3.0)\n",
    "b=tf.constant(5.0)\n",
    "c=a*b"
   ]
  },
  {
   "cell_type": "code",
   "execution_count": 5,
   "metadata": {},
   "outputs": [],
   "source": [
    "#tensorboard에 point라는 이름으로 표시(summary: 요약), scalar(특정값)\n",
    "c_summary= tf.summary.scalar('point',c)\n",
    "# 텐서브도위에 시각화를 위한 요약된 정보를 결합(merge)\n",
    "merged=tf.summary.merge_all() \n",
    "with tf.Session() as sess:\n",
    "    writer=tf.summary.FileWriter('./logs', sess.graph)\n",
    "    \n",
    "    result=sess.run([merged])\n",
    "    sess.run(tf.global_variables_initializer())\n",
    "    \n",
    "    writer.add_summary(result[0])"
   ]
  },
  {
   "cell_type": "markdown",
   "metadata": {},
   "source": [
    "#### cmd에 관리자 계정으로 가서\n",
    "#### C:\\WINDOWS\\system32>activate root\n",
    "#### C:\\WINDOWS\\system32>pip list\n",
    "####  = > Tensorboard1.15.0  확인하기"
   ]
  },
  {
   "cell_type": "markdown",
   "metadata": {},
   "source": [
    "#### 디렉토리 변경 : c:\\JupyterSpace>\n",
    "\n",
    "#### (base) C:\\JupyterSpace>tensorboard --logdir=./Deep_Learning/logs"
   ]
  },
  {
   "cell_type": "code",
   "execution_count": null,
   "metadata": {},
   "outputs": [],
   "source": []
  },
  {
   "cell_type": "code",
   "execution_count": null,
   "metadata": {},
   "outputs": [],
   "source": []
  }
 ],
 "metadata": {
  "kernelspec": {
   "display_name": "Python 3",
   "language": "python",
   "name": "python3"
  },
  "language_info": {
   "codemirror_mode": {
    "name": "ipython",
    "version": 3
   },
   "file_extension": ".py",
   "mimetype": "text/x-python",
   "name": "python",
   "nbconvert_exporter": "python",
   "pygments_lexer": "ipython3",
   "version": "3.6.9"
  }
 },
 "nbformat": 4,
 "nbformat_minor": 2
}
