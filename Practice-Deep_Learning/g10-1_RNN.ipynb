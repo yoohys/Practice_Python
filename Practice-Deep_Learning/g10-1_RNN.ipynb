{
 "cells": [
  {
   "cell_type": "markdown",
   "metadata": {},
   "source": [
    "# Ch10-1. RNN(Recurrent Neural Network:순환신경망)"
   ]
  },
  {
   "cell_type": "markdown",
   "metadata": {},
   "source": [
    "#### : 상태가 고정된 데이터를  다른 신경망과 다르게 자연어 처리나 음성인식처럼 순서가 있는\n",
    "####  데이터를 처리하는데 장점\n",
    "#### (예): 언어 모델링과 텍스트 생성, 음성인식, 이미지캡션생성, 자동번역(기계번역), 유전자,손글씨,\n",
    "####  센서 감지한 데이터, 주가등의 배열(시계열 데이터)등"
   ]
  },
  {
   "cell_type": "markdown",
   "metadata": {},
   "source": [
    "## 1. 손글씨 이미지를 RNN방식으로 학습하고 예측하기"
   ]
  },
  {
   "cell_type": "code",
   "execution_count": 1,
   "metadata": {},
   "outputs": [
    {
     "name": "stderr",
     "output_type": "stream",
     "text": [
      "C:\\ProgramData\\Anaconda3\\lib\\site-packages\\h5py\\__init__.py:36: FutureWarning: Conversion of the second argument of issubdtype from `float` to `np.floating` is deprecated. In future, it will be treated as `np.float64 == np.dtype(float).type`.\n",
      "  from ._conv import register_converters as _register_converters\n"
     ]
    }
   ],
   "source": [
    "# 실행시 반드시  한번에 실행하면 결과가 나옴\n",
    "\n",
    "import tensorflow as tf\n",
    "import numpy as np\n",
    "import matplotlib.pyplot as plt"
   ]
  },
  {
   "cell_type": "code",
   "execution_count": 2,
   "metadata": {},
   "outputs": [
    {
     "name": "stdout",
     "output_type": "stream",
     "text": [
      "WARNING:tensorflow:From <ipython-input-2-338a32f9cbed>:2: read_data_sets (from tensorflow.contrib.learn.python.learn.datasets.mnist) is deprecated and will be removed in a future version.\n",
      "Instructions for updating:\n",
      "Please use alternatives such as official/mnist/dataset.py from tensorflow/models.\n",
      "WARNING:tensorflow:From C:\\ProgramData\\Anaconda3\\lib\\site-packages\\tensorflow_core\\contrib\\learn\\python\\learn\\datasets\\mnist.py:260: maybe_download (from tensorflow.contrib.learn.python.learn.datasets.base) is deprecated and will be removed in a future version.\n",
      "Instructions for updating:\n",
      "Please write your own downloading logic.\n",
      "WARNING:tensorflow:From C:\\ProgramData\\Anaconda3\\lib\\site-packages\\tensorflow_core\\contrib\\learn\\python\\learn\\datasets\\mnist.py:262: extract_images (from tensorflow.contrib.learn.python.learn.datasets.mnist) is deprecated and will be removed in a future version.\n",
      "Instructions for updating:\n",
      "Please use tf.data to implement this functionality.\n",
      "Extracting C:/JupyterSpace/datasets/mnist/data\\train-images-idx3-ubyte.gz\n",
      "WARNING:tensorflow:From C:\\ProgramData\\Anaconda3\\lib\\site-packages\\tensorflow_core\\contrib\\learn\\python\\learn\\datasets\\mnist.py:267: extract_labels (from tensorflow.contrib.learn.python.learn.datasets.mnist) is deprecated and will be removed in a future version.\n",
      "Instructions for updating:\n",
      "Please use tf.data to implement this functionality.\n",
      "Extracting C:/JupyterSpace/datasets/mnist/data\\train-labels-idx1-ubyte.gz\n",
      "WARNING:tensorflow:From C:\\ProgramData\\Anaconda3\\lib\\site-packages\\tensorflow_core\\contrib\\learn\\python\\learn\\datasets\\mnist.py:110: dense_to_one_hot (from tensorflow.contrib.learn.python.learn.datasets.mnist) is deprecated and will be removed in a future version.\n",
      "Instructions for updating:\n",
      "Please use tf.one_hot on tensors.\n",
      "Extracting C:/JupyterSpace/datasets/mnist/data\\t10k-images-idx3-ubyte.gz\n",
      "Extracting C:/JupyterSpace/datasets/mnist/data\\t10k-labels-idx1-ubyte.gz\n",
      "WARNING:tensorflow:From C:\\ProgramData\\Anaconda3\\lib\\site-packages\\tensorflow_core\\contrib\\learn\\python\\learn\\datasets\\mnist.py:290: DataSet.__init__ (from tensorflow.contrib.learn.python.learn.datasets.mnist) is deprecated and will be removed in a future version.\n",
      "Instructions for updating:\n",
      "Please use alternatives such as official/mnist/dataset.py from tensorflow/models.\n"
     ]
    }
   ],
   "source": [
    "from tensorflow.examples.tutorials.mnist import input_data\n",
    "mnist=input_data.read_data_sets('C:/JupyterSpace/datasets/mnist/data',one_hot=True)"
   ]
  },
  {
   "cell_type": "code",
   "execution_count": 3,
   "metadata": {},
   "outputs": [],
   "source": [
    "learning_rate=0.001 #최적화함수에서 사용할 학습률\n",
    "batch_size=128 # 한번에  학습할 데이터\n",
    "total_epoch=30#전체 데이터를 학습할 총 횟수\n",
    "n_step=28\n",
    "n_hidden=128 #hidden layer의 뉴런 갯수\n",
    "n_input=28 #입력값의 크기\n",
    "n_class=10 "
   ]
  },
  {
   "cell_type": "code",
   "execution_count": 4,
   "metadata": {},
   "outputs": [],
   "source": [
    "X=tf.placeholder(tf.float32,[None,n_step, n_input]) \n",
    "Y=tf.placeholder(tf.float32,[None, n_class]) \n",
    "W=tf.Variable(tf.random_normal([n_hidden, n_class]))\n",
    "b=tf.Variable(tf.random_normal([n_class]))"
   ]
  },
  {
   "cell_type": "code",
   "execution_count": 5,
   "metadata": {},
   "outputs": [
    {
     "name": "stdout",
     "output_type": "stream",
     "text": [
      "WARNING:tensorflow:From <ipython-input-5-8557905925d0>:2: BasicRNNCell.__init__ (from tensorflow.python.ops.rnn_cell_impl) is deprecated and will be removed in a future version.\n",
      "Instructions for updating:\n",
      "This class is equivalent as tf.keras.layers.SimpleRNNCell, and will be replaced by that in Tensorflow 2.0.\n",
      "WARNING:tensorflow:From <ipython-input-5-8557905925d0>:3: dynamic_rnn (from tensorflow.python.ops.rnn) is deprecated and will be removed in a future version.\n",
      "Instructions for updating:\n",
      "Please use `keras.layers.RNN(cell)`, which is equivalent to this API\n",
      "WARNING:tensorflow:From C:\\ProgramData\\Anaconda3\\lib\\site-packages\\tensorflow_core\\python\\ops\\rnn_cell_impl.py:456: Layer.add_variable (from tensorflow.python.keras.engine.base_layer) is deprecated and will be removed in a future version.\n",
      "Instructions for updating:\n",
      "Please use `layer.add_weight` method instead.\n",
      "WARNING:tensorflow:From C:\\ProgramData\\Anaconda3\\lib\\site-packages\\tensorflow_core\\python\\ops\\rnn_cell_impl.py:460: calling Zeros.__init__ (from tensorflow.python.ops.init_ops) with dtype is deprecated and will be removed in a future version.\n",
      "Instructions for updating:\n",
      "Call initializer instance with the dtype argument instead of passing it to the constructor\n"
     ]
    }
   ],
   "source": [
    "# 학습에 사용할 cell 만들기\n",
    "cell=tf.nn.rnn_cell.BasicRNNCell(n_hidden)\n",
    "outputs, states=tf.nn.dynamic_rnn(cell, X, dtype=tf.float32)\n",
    "outputs=tf.transpose(outputs, [1,0,2])\n",
    "outputs=outputs[-1] #맨 뒤 cell\n",
    "model=tf.matmul(outputs, W)+b\n",
    "\n",
    "cost=tf.reduce_mean(tf.nn.softmax_cross_entropy_with_logits_v2(logits=model, labels=Y))\n",
    "optimizer=tf.train.AdamOptimizer(learning_rate).minimize(cost)\n"
   ]
  },
  {
   "cell_type": "code",
   "execution_count": 6,
   "metadata": {},
   "outputs": [],
   "source": [
    "sess=tf.Session()\n",
    "sess.run(tf.global_variables_initializer())"
   ]
  },
  {
   "cell_type": "code",
   "execution_count": 7,
   "metadata": {},
   "outputs": [
    {
     "name": "stdout",
     "output_type": "stream",
     "text": [
      "Epoch:  0001 AVG_cost=  0.535948\n",
      "Epoch:  0002 AVG_cost=  0.231215\n",
      "Epoch:  0003 AVG_cost=  0.184375\n",
      "Epoch:  0004 AVG_cost=  0.164486\n",
      "Epoch:  0005 AVG_cost=  0.140351\n",
      "Epoch:  0006 AVG_cost=  0.129118\n",
      "Epoch:  0007 AVG_cost=  0.120985\n",
      "Epoch:  0008 AVG_cost=  0.105632\n",
      "Epoch:  0009 AVG_cost=  0.106657\n",
      "Epoch:  0010 AVG_cost=  0.098873\n",
      "Epoch:  0011 AVG_cost=  0.098441\n",
      "Epoch:  0012 AVG_cost=  0.095422\n",
      "Epoch:  0013 AVG_cost=  0.091318\n",
      "Epoch:  0014 AVG_cost=  0.090181\n",
      "Epoch:  0015 AVG_cost=  0.084918\n",
      "Epoch:  0016 AVG_cost=  0.087048\n",
      "Epoch:  0017 AVG_cost=  0.078332\n",
      "Epoch:  0018 AVG_cost=  0.078100\n",
      "Epoch:  0019 AVG_cost=  0.080706\n",
      "Epoch:  0020 AVG_cost=  0.073791\n",
      "Epoch:  0021 AVG_cost=  0.076635\n",
      "Epoch:  0022 AVG_cost=  0.070303\n",
      "Epoch:  0023 AVG_cost=  0.073728\n",
      "Epoch:  0024 AVG_cost=  0.073505\n",
      "Epoch:  0025 AVG_cost=  0.066089\n",
      "Epoch:  0026 AVG_cost=  0.063754\n",
      "Epoch:  0027 AVG_cost=  0.073691\n",
      "Epoch:  0028 AVG_cost=  0.060882\n",
      "Epoch:  0029 AVG_cost=  0.060952\n",
      "Epoch:  0030 AVG_cost=  0.068430\n",
      "최적화 완료\n"
     ]
    }
   ],
   "source": [
    "total_batch= int(mnist.train.num_examples/batch_size)\n",
    "for epoch in range(total_epoch):\n",
    "    total_cost=0\n",
    "    for i in range(total_batch):\n",
    "        batch_xs, batch_ys=mnist.train.next_batch(batch_size)\n",
    "        batch_xs=batch_xs.reshape((batch_size, n_step, n_input))\n",
    "        _, cost_val=sess.run([optimizer, cost], feed_dict={X:batch_xs, Y: batch_ys})\n",
    "        total_cost += cost_val\n",
    "    print('Epoch: ', '%04d' % (epoch+1), 'AVG_cost= ','{:3f}'.format(total_cost/total_batch))\n",
    "print('최적화 완료')\n",
    "                                  "
   ]
  },
  {
   "cell_type": "code",
   "execution_count": 8,
   "metadata": {},
   "outputs": [],
   "source": [
    "is_correct=tf.equal(tf.argmax(model,1), tf.argmax(Y,1))\n",
    "accuracy=tf.reduce_mean(tf.cast(is_correct, tf.float32))"
   ]
  },
  {
   "cell_type": "code",
   "execution_count": 9,
   "metadata": {},
   "outputs": [
    {
     "name": "stdout",
     "output_type": "stream",
     "text": [
      "정확도: 0.9768\n"
     ]
    }
   ],
   "source": [
    "test_batch_size=len(mnist.test.images)\n",
    "test_xs=mnist.test.images.reshape(test_batch_size, n_step, n_input)\n",
    "test_ys=mnist.test.labels\n",
    "\n",
    "print('정확도:', sess.run(accuracy, feed_dict={X:test_xs, Y:test_ys}))"
   ]
  },
  {
   "cell_type": "code",
   "execution_count": null,
   "metadata": {},
   "outputs": [],
   "source": []
  },
  {
   "cell_type": "code",
   "execution_count": null,
   "metadata": {},
   "outputs": [],
   "source": []
  },
  {
   "cell_type": "code",
   "execution_count": null,
   "metadata": {},
   "outputs": [],
   "source": []
  }
 ],
 "metadata": {
  "kernelspec": {
   "display_name": "Python 3",
   "language": "python",
   "name": "python3"
  },
  "language_info": {
   "codemirror_mode": {
    "name": "ipython",
    "version": 3
   },
   "file_extension": ".py",
   "mimetype": "text/x-python",
   "name": "python",
   "nbconvert_exporter": "python",
   "pygments_lexer": "ipython3",
   "version": "3.6.9"
  }
 },
 "nbformat": 4,
 "nbformat_minor": 2
}
